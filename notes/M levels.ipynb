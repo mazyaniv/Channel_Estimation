{
 "cells": [
  {
   "cell_type": "code",
   "execution_count": 15,
   "metadata": {
    "collapsed": true,
    "ExecuteTime": {
     "start_time": "2023-04-19T11:47:23.026363Z",
     "end_time": "2023-04-19T11:47:23.045165Z"
    }
   },
   "outputs": [],
   "source": [
    "import numpy as np\n",
    "import math\n",
    "from scipy.stats import norm\n",
    "from matplotlib import pyplot as plt\n",
    "from numpy import linalg as LA\n",
    "from scipy.stats import unitary_group\n",
    "import random\n",
    "import scipy.integrate as spi"
   ]
  },
  {
   "cell_type": "code",
   "execution_count": 16,
   "outputs": [],
   "source": [
    "sigma_space = np.logspace(-1,1,100)\n",
    "thresh_space = np.linspace(-5,5,100)\n",
    "M =1\n",
    "mu = 0\n",
    "sigma_teta = (1/math.sqrt(2))\n",
    "rho_q = 1\n",
    "rho_a = 1\n",
    "sim = pow(10,2)\n",
    "########Teta\n",
    "real_teta = np.random.normal(mu, sigma_teta,M)\n",
    "im_teta = np.random.normal(mu, sigma_teta,M)\n",
    "teta = real_teta + 1j*im_teta\n",
    "teta = teta.reshape(M,1)"
   ],
   "metadata": {
    "collapsed": false,
    "ExecuteTime": {
     "start_time": "2023-04-19T11:47:32.981078Z",
     "end_time": "2023-04-19T11:47:33.013286Z"
    }
   }
  },
  {
   "cell_type": "code",
   "execution_count": 17,
   "outputs": [],
   "source": [
    "def Matrix(na,nq): #new model\n",
    "    H_mat = np.zeros((na*M,M), complex)\n",
    "    G_mat = np.zeros((nq*M,M), complex)\n",
    "    for i in range(0,na*M,M):\n",
    "        if M>1:\n",
    "            H_mat[i:M+i,:] = math.sqrt(rho_a)*unitary_group.rvs(M)\n",
    "        else:\n",
    "            x1 = random.random()\n",
    "            y1 = math.sqrt(1 - pow(x1, 2))\n",
    "            H_mat[i:M + i, :] = math.sqrt(rho_a)*(x1+1j*y1)\n",
    "    for i in range(0,nq*M,M):\n",
    "        if M > 1:\n",
    "            G_mat[i:M+i,:] = math.sqrt(rho_q)*unitary_group.rvs(M)\n",
    "        else:\n",
    "            x2 = random.random()\n",
    "            y2 = np.sqrt(1 - np.power(x2, 2))\n",
    "            G_mat[i:M + i, :] = math.sqrt(rho_a)*(x2 + 1j * y2)\n",
    "    return H_mat, G_mat"
   ],
   "metadata": {
    "collapsed": false,
    "ExecuteTime": {
     "start_time": "2023-04-19T11:47:57.266175Z",
     "end_time": "2023-04-19T11:47:57.313215Z"
    }
   }
  },
  {
   "cell_type": "code",
   "execution_count": 18,
   "outputs": [],
   "source": [
    "def thresh_G(n_q, Mat):\n",
    "    if M>1:\n",
    "        G_teta=Mat@((mu+1j*mu)*np.ones(M))\n",
    "    else:\n",
    "        G_teta=Mat*((mu+1j*mu)*np.ones(M))\n",
    "    return G_teta.real.reshape(M*n_q, 1), G_teta.imag.reshape(M*n_q, 1)"
   ],
   "metadata": {
    "collapsed": false,
    "ExecuteTime": {
     "start_time": "2023-04-19T11:48:07.203673Z",
     "end_time": "2023-04-19T11:48:07.235777Z"
    }
   }
  },
  {
   "cell_type": "code",
   "execution_count": 19,
   "outputs": [],
   "source": [
    "def x(sigma, n_a,n_q, matrix): #the observations- function of teta\n",
    "    sigma_w_a = sigma * (1 / math.sqrt(2))\n",
    "    real_w_a = np.random.normal(mu, sigma_w_a, M*n_a)\n",
    "    im_w_a = np.random.normal(mu, sigma_w_a, M*n_a)\n",
    "    w_a = real_w_a + 1j * im_w_a\n",
    "    w_a = w_a.reshape(M*n_a, 1)\n",
    "\n",
    "    sigma_w_q = sigma * (1 / math.sqrt(2))\n",
    "    real_w_q = np.random.normal(mu, sigma_w_q, M*n_q)\n",
    "    im_w_q = np.random.normal(mu, sigma_w_q, M*n_q)\n",
    "    w_q = real_w_q + 1j * im_w_q\n",
    "    w_q = w_q.reshape(M*n_q, 1)\n",
    "\n",
    "    if M>1:\n",
    "        x_a = matrix[0]@teta + w_a\n",
    "        y = matrix[1]@teta + w_q\n",
    "    else:\n",
    "        x_a = matrix[0]*teta + w_a\n",
    "        y = matrix[1]*teta + w_q\n",
    "\n",
    "    x_q = (1 / math.sqrt(2)) * (np.sign(y.real - (thresh_G(n_q,matrix[1])[0]) +\n",
    "                            1j * np.sign(y.imag - ((thresh_G(n_q,matrix[1])[1])))))\n",
    "    return x_a.reshape(M*n_a, ), x_q.reshape(M*n_q, )\n",
    "\n",
    "def samp(sigma, n_a,n_q, matrix, observ): #samples\n",
    "    sigma_teta_samp = (1/math.sqrt(2))\n",
    "    real_teta_samp = np.random.normal(mu, sigma_teta_samp, (M,observ))\n",
    "    im_teta_samp = np.random.normal(mu, sigma_teta_samp, (M,observ))\n",
    "    teta_samp = real_teta_samp + 1j*im_teta_samp\n",
    "\n",
    "    sigma_w_a_samp = sigma * (1 / math.sqrt(2))\n",
    "    real_w_a_samp = np.random.normal(mu, sigma_w_a_samp, (M*n_a,observ))\n",
    "    im_w_a_samp = np.random.normal(mu, sigma_w_a_samp, (M*n_a,observ))\n",
    "    w_a_samp = real_w_a_samp + 1j * im_w_a_samp\n",
    "\n",
    "    sigma_w_q_samp = sigma * (1 / math.sqrt(2))\n",
    "    real_w_q_samp = np.random.normal(mu, sigma_w_q_samp,(M*n_q,observ))\n",
    "    im_w_q_samp = np.random.normal(mu, sigma_w_q_samp,(M*n_q,observ))\n",
    "    w_q_samp = real_w_q_samp + 1j * im_w_q_samp\n",
    "\n",
    "    x_a_samp = (matrix[0]@teta_samp)+w_a_samp\n",
    "    y_samp = (matrix[1]@teta_samp) + w_q_samp\n",
    "\n",
    "    x_q_samp = (1 / math.sqrt(2)) * (np.sign(y_samp.real - (thresh_G(n_q,matrix[1])[0]) +\n",
    "                                        1j * np.sign(y_samp.imag - ((thresh_G(n_q, matrix[1])[1])))))\n",
    "    return x_a_samp, x_q_samp, teta_samp.reshape(M,observ)\n",
    "\n",
    "def samp_teta(observ): #samples-for CRB function (d_k)\n",
    "    real_teta_samp = np.random.normal(mu, sigma_teta, (M, observ))\n",
    "    im_teta_samp = np.random.normal(mu, sigma_teta, (M, observ))\n",
    "    teta_samp = real_teta_samp + 1j * im_teta_samp\n",
    "    return  teta_samp.reshape(M,observ)\n",
    "\n",
    "def covariance(v1,v2):\n",
    "    normv1 = np.mean(v1,1)\n",
    "    normv2 = np.mean(v2,1)\n",
    "    v = v1-normv1.reshape(np.shape(v1)[0],1)\n",
    "    u = v2 -normv2.reshape(np.shape(v2)[0],1)\n",
    "    result = [v[:,i].reshape(np.shape(v)[0], 1)@u[:,i].transpose().reshape(1, np.shape(u)[0]) for i in range(np.shape(v)[1])]\n",
    "    return np.mean(result,0)"
   ],
   "metadata": {
    "collapsed": false,
    "ExecuteTime": {
     "start_time": "2023-04-19T11:48:14.172445Z",
     "end_time": "2023-04-19T11:48:14.203756Z"
    }
   }
  },
  {
   "cell_type": "code",
   "execution_count": 58,
   "outputs": [],
   "source": [
    "def MSE_zertothresh_analytic(sigma, n_a,n_q):\n",
    "    alpha = (2 / math.pi) * math.acos(rho_q / (rho_q + pow(sigma, 2)))\n",
    "    beta = (1-alpha)/rho_q\n",
    "    first = (rho_a*n_a)/(rho_a*n_a+pow(sigma, 2))\n",
    "    second = (2*rho_q*n_q*pow(sigma,4))/(math.pi*(rho_q+pow(sigma, 2))*(alpha+beta*rho_q*n_q)*pow(rho_a*n_a+pow(sigma, 2),2))\n",
    "    return math.sqrt(M)*(1-first-second) #Frobenius  norm\n"
   ],
   "metadata": {
    "collapsed": false,
    "ExecuteTime": {
     "start_time": "2023-04-19T12:04:12.433785Z",
     "end_time": "2023-04-19T12:04:12.480706Z"
    }
   }
  },
  {
   "cell_type": "code",
   "execution_count": 59,
   "outputs": [],
   "source": [
    "def CRB(sigma, n_a, n_q,matrix, observ):\n",
    "    teta_samp = samp_teta(observ)\n",
    "    g_teta = matrix[1] @ teta_samp\n",
    "\n",
    "    zeta_real = (math.sqrt(2) / sigma * (g_teta.real - thresh_G(n_q, matrix[1])[0]))\n",
    "    zeta_im = (math.sqrt(2) / sigma * (g_teta.imag - thresh_G(n_q, matrix[1])[1]))\n",
    "\n",
    "    pdf_real = norm.pdf(zeta_real)\n",
    "    cdf_real = norm.cdf(zeta_real)\n",
    "    pdf_im = norm.pdf(zeta_im)\n",
    "    cdf_im = norm.cdf(zeta_im)\n",
    "\n",
    "    d_vec = np.divide(np.power(pdf_real, 2), np.multiply(cdf_real, (norm.cdf(-zeta_real)))) + \\\n",
    "            np.divide(np.power(pdf_im, 2), np.multiply(cdf_im, (norm.cdf(-zeta_im))))\n",
    "    d = np.mean(d_vec, axis=1)\n",
    "    Fisher_q = (1 /(2 * pow(sigma, 2)))*(matrix[1].transpose().conjugate() @ np.diag(d) @ matrix[1])\n",
    "\n",
    "    Fisher_a = rho_a*n_a/pow(sigma,2)\n",
    "    J = 1+Fisher_a+Fisher_q\n",
    "    return float(1/J.real)"
   ],
   "metadata": {
    "collapsed": false,
    "ExecuteTime": {
     "start_time": "2023-04-19T12:04:12.449458Z",
     "end_time": "2023-04-19T12:04:12.480706Z"
    }
   }
  },
  {
   "cell_type": "code",
   "execution_count": 60,
   "outputs": [],
   "source": [
    "def CRB_M_levels(sigma,matrix, observ,tao_vec, n): #M=1\n",
    "    tao_vec = np.insert(tao_vec, 0, -10000)\n",
    "    tao_vec = np.append(tao_vec, 10000)\n",
    "    teta_samp = samp_teta(observ)\n",
    "    g_teta =(matrix[1]@teta_samp)[0]\n",
    "\n",
    "    zeta = [math.sqrt(2)/(sigma*(tao_vec[i]+n-g_teta.real)) for i in range(len(tao_vec))]\n",
    "    the_sum = np.sum([((rho_q/2*pow(sigma,2))*norm.pdf(zeta[i+1])-norm.pdf(zeta[i]))/(norm.cdf(zeta[i+1])-norm.cdf(zeta[i])) for  i in range(len(zeta)-1)],axis=0)\n",
    "    Fisher_q = np.mean(the_sum, axis=0)\n",
    "\n",
    "    Fisher_a = rho_a*n_a/pow(sigma,2) #(1/pow(sigma,2))*(matrix[0].transpose().conjugate()@matrix[0])\n",
    "    J = 1+Fisher_a+Fisher_q\n",
    "    return float(1/J.real)"
   ],
   "metadata": {
    "collapsed": false,
    "ExecuteTime": {
     "start_time": "2023-04-19T12:04:12.465079Z",
     "end_time": "2023-04-19T12:04:12.480706Z"
    }
   }
  },
  {
   "cell_type": "code",
   "execution_count": 61,
   "outputs": [
    {
     "ename": "TypeError",
     "evalue": "only size-1 arrays can be converted to Python scalars",
     "output_type": "error",
     "traceback": [
      "\u001B[1;31m---------------------------------------------------------------------------\u001B[0m",
      "\u001B[1;31mTypeError\u001B[0m                                 Traceback (most recent call last)",
      "\u001B[1;32m~\\AppData\\Local\\Temp\\ipykernel_19780\\2403867985.py\u001B[0m in \u001B[0;36m<module>\u001B[1;34m\u001B[0m\n\u001B[0;32m      6\u001B[0m \u001B[0mL_Estimator_analytic1\u001B[0m \u001B[1;33m=\u001B[0m \u001B[1;33m[\u001B[0m\u001B[0mMSE_zertothresh_analytic\u001B[0m\u001B[1;33m(\u001B[0m\u001B[0msigma_space\u001B[0m\u001B[1;33m[\u001B[0m\u001B[0mi\u001B[0m\u001B[1;33m]\u001B[0m\u001B[1;33m,\u001B[0m \u001B[0mn_a\u001B[0m\u001B[1;33m[\u001B[0m\u001B[1;36m0\u001B[0m\u001B[1;33m]\u001B[0m\u001B[1;33m,\u001B[0m\u001B[0mn_q\u001B[0m\u001B[1;33m[\u001B[0m\u001B[1;36m0\u001B[0m\u001B[1;33m]\u001B[0m\u001B[1;33m)\u001B[0m \u001B[1;32mfor\u001B[0m \u001B[0mi\u001B[0m \u001B[1;32min\u001B[0m \u001B[0mrange\u001B[0m\u001B[1;33m(\u001B[0m\u001B[0mlen\u001B[0m\u001B[1;33m(\u001B[0m\u001B[0msigma_space\u001B[0m\u001B[1;33m)\u001B[0m\u001B[1;33m)\u001B[0m\u001B[1;33m]\u001B[0m\u001B[1;33m\u001B[0m\u001B[1;33m\u001B[0m\u001B[0m\n\u001B[0;32m      7\u001B[0m \u001B[0mCRB\u001B[0m \u001B[1;33m=\u001B[0m \u001B[1;33m[\u001B[0m\u001B[0mCRB\u001B[0m\u001B[1;33m(\u001B[0m\u001B[0msigma_space\u001B[0m\u001B[1;33m[\u001B[0m\u001B[0mi\u001B[0m\u001B[1;33m]\u001B[0m\u001B[1;33m,\u001B[0m\u001B[0mn_a\u001B[0m\u001B[1;33m[\u001B[0m\u001B[1;36m0\u001B[0m\u001B[1;33m]\u001B[0m\u001B[1;33m,\u001B[0m\u001B[0mn_q\u001B[0m\u001B[1;33m[\u001B[0m\u001B[1;36m0\u001B[0m\u001B[1;33m]\u001B[0m\u001B[1;33m,\u001B[0m\u001B[0mmatrix_const1\u001B[0m\u001B[1;33m,\u001B[0m\u001B[0msim\u001B[0m\u001B[1;33m)\u001B[0m \u001B[1;32mfor\u001B[0m \u001B[0mi\u001B[0m \u001B[1;32min\u001B[0m \u001B[0mrange\u001B[0m\u001B[1;33m(\u001B[0m\u001B[0mlen\u001B[0m\u001B[1;33m(\u001B[0m\u001B[0msigma_space\u001B[0m\u001B[1;33m)\u001B[0m\u001B[1;33m)\u001B[0m\u001B[1;33m]\u001B[0m\u001B[1;33m\u001B[0m\u001B[1;33m\u001B[0m\u001B[0m\n\u001B[1;32m----> 8\u001B[1;33m \u001B[0mCRB_M\u001B[0m \u001B[1;33m=\u001B[0m \u001B[1;33m[\u001B[0m\u001B[0mCRB_M_levels\u001B[0m\u001B[1;33m(\u001B[0m\u001B[0msigma_space\u001B[0m\u001B[1;33m[\u001B[0m\u001B[0mi\u001B[0m\u001B[1;33m]\u001B[0m\u001B[1;33m,\u001B[0m\u001B[0mmatrix_const1\u001B[0m\u001B[1;33m,\u001B[0m \u001B[0msim\u001B[0m\u001B[1;33m*\u001B[0m\u001B[1;36m100\u001B[0m\u001B[1;33m,\u001B[0m \u001B[0mtao_list\u001B[0m\u001B[1;33m,\u001B[0m \u001B[1;36m0\u001B[0m\u001B[1;33m)\u001B[0m \u001B[1;32mfor\u001B[0m \u001B[0mi\u001B[0m \u001B[1;32min\u001B[0m \u001B[0mrange\u001B[0m\u001B[1;33m(\u001B[0m\u001B[0mlen\u001B[0m\u001B[1;33m(\u001B[0m\u001B[0mthresh_space\u001B[0m\u001B[1;33m)\u001B[0m\u001B[1;33m)\u001B[0m\u001B[1;33m]\u001B[0m\u001B[1;33m\u001B[0m\u001B[1;33m\u001B[0m\u001B[0m\n\u001B[0m\u001B[0;32m      9\u001B[0m \u001B[1;33m\u001B[0m\u001B[0m\n\u001B[0;32m     10\u001B[0m \u001B[0mplt\u001B[0m\u001B[1;33m.\u001B[0m\u001B[0mplot\u001B[0m\u001B[1;33m(\u001B[0m\u001B[1;36m10\u001B[0m\u001B[1;33m*\u001B[0m\u001B[0mnp\u001B[0m\u001B[1;33m.\u001B[0m\u001B[0mlog10\u001B[0m\u001B[1;33m(\u001B[0m\u001B[1;36m1\u001B[0m\u001B[1;33m/\u001B[0m\u001B[0msigma_space\u001B[0m\u001B[1;33m)\u001B[0m\u001B[1;33m,\u001B[0m \u001B[0mL_Estimator_analytic1\u001B[0m\u001B[1;33m,\u001B[0m \u001B[0mcolor\u001B[0m\u001B[1;33m=\u001B[0m\u001B[1;34m\"green\"\u001B[0m\u001B[1;33m,\u001B[0m \u001B[0mlabel\u001B[0m\u001B[1;33m=\u001B[0m\u001B[1;34m'n_a={}, n_q = {}, analytic'\u001B[0m\u001B[1;33m.\u001B[0m\u001B[0mformat\u001B[0m\u001B[1;33m(\u001B[0m\u001B[0mn_a\u001B[0m\u001B[1;33m[\u001B[0m\u001B[1;36m0\u001B[0m\u001B[1;33m]\u001B[0m\u001B[1;33m,\u001B[0m \u001B[0mn_q\u001B[0m\u001B[1;33m[\u001B[0m\u001B[1;36m0\u001B[0m\u001B[1;33m]\u001B[0m\u001B[1;33m)\u001B[0m\u001B[1;33m)\u001B[0m\u001B[1;33m\u001B[0m\u001B[1;33m\u001B[0m\u001B[0m\n",
      "\u001B[1;32m~\\AppData\\Local\\Temp\\ipykernel_19780\\2403867985.py\u001B[0m in \u001B[0;36m<listcomp>\u001B[1;34m(.0)\u001B[0m\n\u001B[0;32m      6\u001B[0m \u001B[0mL_Estimator_analytic1\u001B[0m \u001B[1;33m=\u001B[0m \u001B[1;33m[\u001B[0m\u001B[0mMSE_zertothresh_analytic\u001B[0m\u001B[1;33m(\u001B[0m\u001B[0msigma_space\u001B[0m\u001B[1;33m[\u001B[0m\u001B[0mi\u001B[0m\u001B[1;33m]\u001B[0m\u001B[1;33m,\u001B[0m \u001B[0mn_a\u001B[0m\u001B[1;33m[\u001B[0m\u001B[1;36m0\u001B[0m\u001B[1;33m]\u001B[0m\u001B[1;33m,\u001B[0m\u001B[0mn_q\u001B[0m\u001B[1;33m[\u001B[0m\u001B[1;36m0\u001B[0m\u001B[1;33m]\u001B[0m\u001B[1;33m)\u001B[0m \u001B[1;32mfor\u001B[0m \u001B[0mi\u001B[0m \u001B[1;32min\u001B[0m \u001B[0mrange\u001B[0m\u001B[1;33m(\u001B[0m\u001B[0mlen\u001B[0m\u001B[1;33m(\u001B[0m\u001B[0msigma_space\u001B[0m\u001B[1;33m)\u001B[0m\u001B[1;33m)\u001B[0m\u001B[1;33m]\u001B[0m\u001B[1;33m\u001B[0m\u001B[1;33m\u001B[0m\u001B[0m\n\u001B[0;32m      7\u001B[0m \u001B[0mCRB\u001B[0m \u001B[1;33m=\u001B[0m \u001B[1;33m[\u001B[0m\u001B[0mCRB\u001B[0m\u001B[1;33m(\u001B[0m\u001B[0msigma_space\u001B[0m\u001B[1;33m[\u001B[0m\u001B[0mi\u001B[0m\u001B[1;33m]\u001B[0m\u001B[1;33m,\u001B[0m\u001B[0mn_a\u001B[0m\u001B[1;33m[\u001B[0m\u001B[1;36m0\u001B[0m\u001B[1;33m]\u001B[0m\u001B[1;33m,\u001B[0m\u001B[0mn_q\u001B[0m\u001B[1;33m[\u001B[0m\u001B[1;36m0\u001B[0m\u001B[1;33m]\u001B[0m\u001B[1;33m,\u001B[0m\u001B[0mmatrix_const1\u001B[0m\u001B[1;33m,\u001B[0m\u001B[0msim\u001B[0m\u001B[1;33m)\u001B[0m \u001B[1;32mfor\u001B[0m \u001B[0mi\u001B[0m \u001B[1;32min\u001B[0m \u001B[0mrange\u001B[0m\u001B[1;33m(\u001B[0m\u001B[0mlen\u001B[0m\u001B[1;33m(\u001B[0m\u001B[0msigma_space\u001B[0m\u001B[1;33m)\u001B[0m\u001B[1;33m)\u001B[0m\u001B[1;33m]\u001B[0m\u001B[1;33m\u001B[0m\u001B[1;33m\u001B[0m\u001B[0m\n\u001B[1;32m----> 8\u001B[1;33m \u001B[0mCRB_M\u001B[0m \u001B[1;33m=\u001B[0m \u001B[1;33m[\u001B[0m\u001B[0mCRB_M_levels\u001B[0m\u001B[1;33m(\u001B[0m\u001B[0msigma_space\u001B[0m\u001B[1;33m[\u001B[0m\u001B[0mi\u001B[0m\u001B[1;33m]\u001B[0m\u001B[1;33m,\u001B[0m\u001B[0mmatrix_const1\u001B[0m\u001B[1;33m,\u001B[0m \u001B[0msim\u001B[0m\u001B[1;33m*\u001B[0m\u001B[1;36m100\u001B[0m\u001B[1;33m,\u001B[0m \u001B[0mtao_list\u001B[0m\u001B[1;33m,\u001B[0m \u001B[1;36m0\u001B[0m\u001B[1;33m)\u001B[0m \u001B[1;32mfor\u001B[0m \u001B[0mi\u001B[0m \u001B[1;32min\u001B[0m \u001B[0mrange\u001B[0m\u001B[1;33m(\u001B[0m\u001B[0mlen\u001B[0m\u001B[1;33m(\u001B[0m\u001B[0mthresh_space\u001B[0m\u001B[1;33m)\u001B[0m\u001B[1;33m)\u001B[0m\u001B[1;33m]\u001B[0m\u001B[1;33m\u001B[0m\u001B[1;33m\u001B[0m\u001B[0m\n\u001B[0m\u001B[0;32m      9\u001B[0m \u001B[1;33m\u001B[0m\u001B[0m\n\u001B[0;32m     10\u001B[0m \u001B[0mplt\u001B[0m\u001B[1;33m.\u001B[0m\u001B[0mplot\u001B[0m\u001B[1;33m(\u001B[0m\u001B[1;36m10\u001B[0m\u001B[1;33m*\u001B[0m\u001B[0mnp\u001B[0m\u001B[1;33m.\u001B[0m\u001B[0mlog10\u001B[0m\u001B[1;33m(\u001B[0m\u001B[1;36m1\u001B[0m\u001B[1;33m/\u001B[0m\u001B[0msigma_space\u001B[0m\u001B[1;33m)\u001B[0m\u001B[1;33m,\u001B[0m \u001B[0mL_Estimator_analytic1\u001B[0m\u001B[1;33m,\u001B[0m \u001B[0mcolor\u001B[0m\u001B[1;33m=\u001B[0m\u001B[1;34m\"green\"\u001B[0m\u001B[1;33m,\u001B[0m \u001B[0mlabel\u001B[0m\u001B[1;33m=\u001B[0m\u001B[1;34m'n_a={}, n_q = {}, analytic'\u001B[0m\u001B[1;33m.\u001B[0m\u001B[0mformat\u001B[0m\u001B[1;33m(\u001B[0m\u001B[0mn_a\u001B[0m\u001B[1;33m[\u001B[0m\u001B[1;36m0\u001B[0m\u001B[1;33m]\u001B[0m\u001B[1;33m,\u001B[0m \u001B[0mn_q\u001B[0m\u001B[1;33m[\u001B[0m\u001B[1;36m0\u001B[0m\u001B[1;33m]\u001B[0m\u001B[1;33m)\u001B[0m\u001B[1;33m)\u001B[0m\u001B[1;33m\u001B[0m\u001B[1;33m\u001B[0m\u001B[0m\n",
      "\u001B[1;32m~\\AppData\\Local\\Temp\\ipykernel_19780\\1161835237.py\u001B[0m in \u001B[0;36mCRB_M_levels\u001B[1;34m(sigma, matrix, observ, tao_vec, n)\u001B[0m\n\u001B[0;32m     11\u001B[0m     \u001B[0mFisher_a\u001B[0m \u001B[1;33m=\u001B[0m \u001B[0mrho_a\u001B[0m\u001B[1;33m*\u001B[0m\u001B[0mn_a\u001B[0m\u001B[1;33m/\u001B[0m\u001B[0mpow\u001B[0m\u001B[1;33m(\u001B[0m\u001B[0msigma\u001B[0m\u001B[1;33m,\u001B[0m\u001B[1;36m2\u001B[0m\u001B[1;33m)\u001B[0m \u001B[1;31m#(1/pow(sigma,2))*(matrix[0].transpose().conjugate()@matrix[0])\u001B[0m\u001B[1;33m\u001B[0m\u001B[1;33m\u001B[0m\u001B[0m\n\u001B[0;32m     12\u001B[0m     \u001B[0mJ\u001B[0m \u001B[1;33m=\u001B[0m \u001B[1;36m1\u001B[0m\u001B[1;33m+\u001B[0m\u001B[0mFisher_a\u001B[0m\u001B[1;33m+\u001B[0m\u001B[0mFisher_q\u001B[0m\u001B[1;33m\u001B[0m\u001B[1;33m\u001B[0m\u001B[0m\n\u001B[1;32m---> 13\u001B[1;33m     \u001B[1;32mreturn\u001B[0m \u001B[0mfloat\u001B[0m\u001B[1;33m(\u001B[0m\u001B[1;36m1\u001B[0m\u001B[1;33m/\u001B[0m\u001B[0mJ\u001B[0m\u001B[1;33m.\u001B[0m\u001B[0mreal\u001B[0m\u001B[1;33m)\u001B[0m\u001B[1;33m\u001B[0m\u001B[1;33m\u001B[0m\u001B[0m\n\u001B[0m",
      "\u001B[1;31mTypeError\u001B[0m: only size-1 arrays can be converted to Python scalars"
     ]
    }
   ],
   "source": [
    "n_a = [1,1,2,2]\n",
    "n_q = [100,100,40,100]\n",
    "tao_list = [0] #M levels\n",
    "matrix_const1 = Matrix(n_a[0],n_q[0])\n",
    "\n",
    "L_Estimator_analytic1 = [MSE_zertothresh_analytic(sigma_space[i], n_a[0],n_q[0]) for i in range(len(sigma_space))]\n",
    "CRB = [CRB(sigma_space[i],n_a[0],n_q[0],matrix_const1,sim) for i in range(len(sigma_space))]\n",
    "#CRB_M = [CRB_M_levels(sigma_space[i],matrix_const1, sim*100, tao_list, 0) for i in range(len(thresh_space))]\n",
    "\n",
    "plt.plot(10*np.log10(1/sigma_space), L_Estimator_analytic1, color=\"green\", label='n_a={}, n_q = {}, analytic'.format(n_a[0], n_q[0]))\n",
    "plt.plot(10*np.log10(1/sigma_space), CRB, color=\"red\", label='n_a={}, n_q = {}, CRB'.format(n_a[0], n_q[0]))\n",
    "#plt.plot(10*np.log10(1/sigma_space), CRB_M, color=\"blue\", label='n_a={}, n_q = {}, M levels'.format(n_a[0], n_q[0]))\n",
    "\n",
    "plt.title(\"M={}, mu={}, variance ={}\".format(M,mu,2*pow(sigma_teta,2)))\n",
    "plt.yscale('log')\n",
    "plt.xlabel(\"SNR [dB]\")\n",
    "plt.legend()\n",
    "plt.legend()\n",
    "plt.show()"
   ],
   "metadata": {
    "collapsed": false,
    "ExecuteTime": {
     "start_time": "2023-04-19T12:03:22.220797Z",
     "end_time": "2023-04-19T12:03:22.550634Z"
    }
   }
  }
 ],
 "metadata": {
  "kernelspec": {
   "display_name": "Python 3",
   "language": "python",
   "name": "python3"
  },
  "language_info": {
   "codemirror_mode": {
    "name": "ipython",
    "version": 2
   },
   "file_extension": ".py",
   "mimetype": "text/x-python",
   "name": "python",
   "nbconvert_exporter": "python",
   "pygments_lexer": "ipython2",
   "version": "2.7.6"
  }
 },
 "nbformat": 4,
 "nbformat_minor": 0
}
