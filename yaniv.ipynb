{
 "cells": [
  {
   "cell_type": "code",
   "execution_count": 1,
   "metadata": {
    "collapsed": true,
    "ExecuteTime": {
     "start_time": "2023-05-12T16:51:51.622758Z",
     "end_time": "2023-05-12T16:51:53.616263Z"
    }
   },
   "outputs": [],
   "source": [
    "import numpy as np\n",
    "import math\n",
    "from scipy.stats import norm\n",
    "from matplotlib import pyplot as plt\n",
    "from numpy import linalg as LA\n",
    "from scipy.stats import unitary_group\n",
    "import random\n",
    "from mpl_toolkits import mplot3d\n",
    "import scipy.integrate as spi"
   ]
  },
  {
   "cell_type": "code",
   "execution_count": 72,
   "outputs": [],
   "source": [
    "sim = 100\n",
    "sigma_space = np.logspace(-1,1,20)\n",
    "M =1\n",
    "mu = 0\n",
    "rho_q = 1\n",
    "rho_a = 1\n",
    "########Teta\n",
    "sigma_teta = (1/math.sqrt(2))\n",
    "real_teta = np.random.normal(mu, sigma_teta,M)\n",
    "im_teta = np.random.normal(mu, sigma_teta,M)\n",
    "teta = real_teta + 1j*im_teta\n",
    "teta = teta.reshape(M,1)"
   ],
   "metadata": {
    "collapsed": false,
    "ExecuteTime": {
     "start_time": "2023-05-12T17:23:43.196187Z",
     "end_time": "2023-05-12T17:23:43.203754Z"
    }
   }
  },
  {
   "cell_type": "code",
   "execution_count": 3,
   "outputs": [],
   "source": [
    "def Matrix(na,nq): #new model\n",
    "    H_mat = np.zeros((na*M,M), complex)\n",
    "    G_mat = np.zeros((nq*M,M), complex)\n",
    "    for i in range(0,na*M,M):\n",
    "        if M>1:\n",
    "            H_mat[i:M+i,:] = math.sqrt(rho_a)*unitary_group.rvs(M)\n",
    "        else:\n",
    "            x1 = random.random()\n",
    "            y1 = math.sqrt(1 - pow(x1, 2))\n",
    "            H_mat[i:M + i, :] = math.sqrt(rho_a)*(x1+1j*y1)\n",
    "    for i in range(0,nq*M,M):\n",
    "        if M > 1:\n",
    "            G_mat[i:M+i,:] = math.sqrt(rho_q)*unitary_group.rvs(M)\n",
    "        else:\n",
    "            x2 = random.random()\n",
    "            y2 = np.sqrt(1 - np.power(x2, 2))\n",
    "            G_mat[i:M + i, :] = math.sqrt(rho_a)*(x2 + 1j * y2)\n",
    "    return H_mat, G_mat"
   ],
   "metadata": {
    "collapsed": false,
    "ExecuteTime": {
     "start_time": "2023-05-12T16:52:01.820995Z",
     "end_time": "2023-05-12T16:52:01.896817Z"
    }
   }
  },
  {
   "cell_type": "code",
   "execution_count": 15,
   "outputs": [],
   "source": [
    "def thresh_G(n_q, Mat):\n",
    "    if M>1:\n",
    "        G_teta=Mat@((mu+1j*mu)*np.ones(M))\n",
    "    else:\n",
    "        G_teta=Mat*((mu+1j*mu)*np.ones(M))\n",
    "    return G_teta.real.reshape(M*n_q, 1), G_teta.imag.reshape(M*n_q, 1)"
   ],
   "metadata": {
    "collapsed": false,
    "ExecuteTime": {
     "start_time": "2023-05-12T16:52:31.433816Z",
     "end_time": "2023-05-12T16:52:31.465521Z"
    }
   }
  },
  {
   "cell_type": "code",
   "execution_count": 5,
   "outputs": [],
   "source": [
    "def x(sigma1,sigma2, n_a,n_q, matrix,thresh_real=0,thresh_im=0): #the observations- function of teta\n",
    "    sigma_w_a = sigma1 * (1 / math.sqrt(2))\n",
    "    real_w_a = np.random.normal(mu, sigma_w_a, M*n_a)\n",
    "    im_w_a = np.random.normal(mu, sigma_w_a, M*n_a)\n",
    "    w_a = real_w_a + 1j * im_w_a\n",
    "    w_a = w_a.reshape(M*n_a, 1)\n",
    "\n",
    "    sigma_w_q = sigma2 * (1 / math.sqrt(2))\n",
    "    real_w_q = np.random.normal(mu, sigma_w_q, M*n_q)\n",
    "    im_w_q = np.random.normal(mu, sigma_w_q, M*n_q)\n",
    "    w_q = real_w_q + 1j * im_w_q\n",
    "    w_q = w_q.reshape(M*n_q, 1)\n",
    "\n",
    "    if M>1:\n",
    "        x_a = matrix[0]@teta+w_a\n",
    "        y = matrix[1]@teta+w_q\n",
    "    else:\n",
    "        x_a = matrix[0]*teta+w_a\n",
    "        y = matrix[1]*teta+w_q\n",
    "\n",
    "    x_q = (1/math.sqrt(2))*(np.sign(y.real-(thresh_real))+1j*np.sign(y.imag-((thresh_im))))\n",
    "    return x_a.reshape(M*n_a,), x_q.reshape(M*n_q,)"
   ],
   "metadata": {
    "collapsed": false,
    "ExecuteTime": {
     "start_time": "2023-05-12T16:52:13.929698Z",
     "end_time": "2023-05-12T16:52:14.071232Z"
    }
   }
  },
  {
   "cell_type": "code",
   "execution_count": 16,
   "outputs": [
    {
     "data": {
      "text/plain": "-0.16248732038225158"
     },
     "execution_count": 16,
     "metadata": {},
     "output_type": "execute_result"
    }
   ],
   "source": [
    "na = 10000\n",
    "nq = 40\n",
    "xa, xq = x(1,1, na,nq, Matrix(na,nq))\n",
    "np.mean(xa.real)"
   ],
   "metadata": {
    "collapsed": false,
    "ExecuteTime": {
     "start_time": "2023-05-12T16:52:39.328630Z",
     "end_time": "2023-05-12T16:52:39.359877Z"
    }
   }
  },
  {
   "cell_type": "code",
   "execution_count": 17,
   "outputs": [],
   "source": [
    "def samp(sigma1,sigma2, n_a,n_q, matrix, observ,thresh_real,thresh_im): #samples\n",
    "    real_teta_samp = np.random.normal(mu, sigma_teta, (M,observ))\n",
    "    im_teta_samp = np.random.normal(mu, sigma_teta, (M,observ))\n",
    "    teta_samp = (real_teta_samp + 1j*im_teta_samp)\n",
    "\n",
    "    sigma_w_a_samp = sigma1 * (1 / math.sqrt(2))\n",
    "    real_w_a_samp = np.random.normal(mu, sigma_w_a_samp, (M*n_a,observ))\n",
    "    im_w_a_samp = np.random.normal(mu, sigma_w_a_samp, (M*n_a,observ))\n",
    "    w_a_samp = (real_w_a_samp + 1j * im_w_a_samp)\n",
    "\n",
    "    sigma_w_q_samp = sigma2* (1 / math.sqrt(2))\n",
    "    real_w_q_samp = np.random.normal(mu, sigma_w_q_samp,(M*n_q,observ))\n",
    "    im_w_q_samp = np.random.normal(mu, sigma_w_q_samp,(M*n_q,observ))\n",
    "    w_q_samp = (real_w_q_samp + 1j * im_w_q_samp)\n",
    "\n",
    "    x_a_samp = (matrix[0]@teta_samp)+w_a_samp\n",
    "    y_samp = (matrix[1]@teta_samp) + w_q_samp\n",
    "\n",
    "    x_q_samp = (1/math.sqrt(2))*(np.sign(y_samp.real-(thresh_real)+1j * np.sign(y_samp.imag-((thresh_im)))))\n",
    "    return x_a_samp, x_q_samp, teta_samp"
   ],
   "metadata": {
    "collapsed": false,
    "ExecuteTime": {
     "start_time": "2023-05-12T16:52:40.196564Z",
     "end_time": "2023-05-12T16:52:40.227783Z"
    }
   }
  },
  {
   "cell_type": "code",
   "execution_count": 18,
   "outputs": [],
   "source": [
    "def samp_teta(observ): #samples-for CRB function (d_k)\n",
    "    real_teta_samp = np.random.normal(mu, sigma_teta, (M, observ))\n",
    "    im_teta_samp = np.random.normal(mu, sigma_teta, (M, observ))\n",
    "    teta_samp = real_teta_samp + 1j * im_teta_samp\n",
    "    return  teta_samp.reshape(M,observ)"
   ],
   "metadata": {
    "collapsed": false,
    "ExecuteTime": {
     "start_time": "2023-05-12T16:52:42.126588Z",
     "end_time": "2023-05-12T16:52:42.157864Z"
    }
   }
  },
  {
   "cell_type": "code",
   "execution_count": 24,
   "outputs": [],
   "source": [
    "def MSE_general_numerical(sigma1,sigma2, n_a,n_q, matrix, observ, epsilon, thresh_real = 0,thresh_im = 0):\n",
    "    cov = np.zeros((observ, M, M))\n",
    "    for i in range(observ):\n",
    "        x_a_vec, x_q_vec, teta_vec = samp(sigma1,sigma2, n_a,n_q, matrix, observ,thresh_real,thresh_im)\n",
    "        inv_A = (np.identity(M*n_a)-((1/(rho_a*n_a+pow(sigma1,2)))*(matrix[0]@matrix[0].transpose().conjugate())))\\\n",
    "                /pow(sigma1,2) #Na X Na\n",
    "        B = covariance(x_a_vec,x_q_vec) #Na X Nq\n",
    "        C = B.conjugate().transpose() #Nq X Na, B.conjugate().transpose()\n",
    "        D = covariance(x_q_vec,x_q_vec) #Nq X Nq\n",
    "        K = D-C@inv_A@B\n",
    "\n",
    "        U,S,V = np.linalg.svd(K)\n",
    "        S[S<epsilon] = epsilon\n",
    "        K = U@np.diag(S)@V #K+epsilon*np.identity(K.shape[0])\n",
    "\n",
    "        inv_K = LA.inv(K)\n",
    "        cov_x_inv_up =np.concatenate((inv_A+(inv_A@B@inv_K@C@inv_A), -1*(inv_A@B@inv_K)),axis=1)\n",
    "        cov_x_inv_down = np.concatenate((-1*(inv_K@C@inv_A), inv_K),axis=1)\n",
    "        cov_x_inv = np.concatenate((cov_x_inv_up,cov_x_inv_down),axis=0)\n",
    "\n",
    "        mu_tilda_real = mu*(np.sum(matrix[1].real,axis=1)-np.sum(matrix[1].imag,axis=1))\n",
    "        mu_tilda_imag = mu*(np.sum(matrix[1].real,axis=1)+np.sum(matrix[1].imag,axis=1))\n",
    "        sigma_tilda = 1+(np.sum(np.power(matrix[1].real,2),axis=1)+np.sum(np.power(matrix[1].imag,2),axis=1))\n",
    "        p1 = norm.cdf(np.divide(np.subtract(thresh_real,mu_tilda_real.reshape(n_q*M,1)),sigma_tilda.reshape(n_q*M,1)))\n",
    "        p2 = norm.cdf(np.divide(np.subtract(thresh_im,mu_tilda_imag.reshape(n_q*M,1)),sigma_tilda.reshape(n_q*M,1)))\n",
    "\n",
    "        cov_teta_x = np.concatenate((matrix[0].transpose().conjugate(), covariance(teta_vec,x_q_vec)),axis=1)\n",
    "        x_a, x_q = x(sigma1,sigma2, n_a, n_q, matrix,thresh_real,thresh_im) #the actually observations\n",
    "        x_a_vec_norm = x_a-matrix[0]@((mu+1j*mu)*np.ones(M))#np.mean(x_a)*np.ones((np.shape(x_a)))\n",
    "        x_q_vec_norm = x_q.reshape(M*n_q,1)-math.sqrt(2)*((1-2*p1)+1j*(1-2*p2))#np.mean(x_q)*np.ones((M*n_q,1))\n",
    "        x_vec_norm = np.concatenate((x_a_vec_norm, x_q_vec_norm.reshape(M*n_q,)), axis=0)\n",
    "        teta_hat = (cov_teta_x@cov_x_inv@x_vec_norm) +(0+1j*0)*np.ones(M)\n",
    "        cov[i,:,:] = ((teta_hat-teta)@((teta_hat-teta).conjugate().T)).real #m>1, real number\n",
    "        #cov[i,:,:] = ((teta_hat-teta)*(teta_hat-teta).conjugate()).real #M=1, real number\n",
    "    cov_matrix = np.sum(cov,0)/(np.shape(cov)[0])\n",
    "    return LA.norm(cov_matrix, \"fro\"), M>1#np.squeeze(cov_matrix) #M=1 ,"
   ],
   "metadata": {
    "collapsed": false,
    "ExecuteTime": {
     "start_time": "2023-05-12T16:56:43.679100Z",
     "end_time": "2023-05-12T16:56:43.726277Z"
    }
   }
  },
  {
   "cell_type": "code",
   "execution_count": 92,
   "outputs": [],
   "source": [
    "def covariance(v1,v2):\n",
    "    normv1 = np.mean(v1,1)\n",
    "    normv2 = np.mean(v2,1)\n",
    "    v = v1-normv1.reshape(np.shape(v1)[0],1)\n",
    "    u = v2 -normv2.reshape(np.shape(v2)[0],1)\n",
    "    result = [v[:,i].reshape(np.shape(v)[0], 1)@u[:,i].transpose().reshape(1, np.shape(u)[0]) for i in range(np.shape(v)[1])]\n",
    "    return np.sum(result,0)/(np.shape(v)[1]-1)\n",
    "\n",
    "def MSE_general_numerical_analog(sigma1,sigma2, n_a, matrix, observ, thresh_real = 0,thresh_im = 0):\n",
    "    cov = np.zeros((observ, M, M))\n",
    "    for i in range(observ):\n",
    "        cov_x_inv = (np.identity(M*n_a)-((1/(rho_a*n_a+pow(sigma1,2)))*(matrix[0]@matrix[0].transpose().conjugate())))\\\n",
    "                /pow(sigma1,2) #Na X Na\n",
    "        cov_teta_x = matrix[0].transpose().conjugate()\n",
    "        x_a, x_q = x(sigma1,sigma2, n_a, 0, matrix,thresh_real,thresh_im) #the actually observations\n",
    "        x_a_vec_norm = x_a-matrix[0]@((mu+1j*mu)*np.ones(M))#np.mean(x_a)*np.ones((np.shape(x_a)))\n",
    "        teta_hat = (cov_teta_x@cov_x_inv@x_a_vec_norm) +(mu+1j*mu)*np.ones(M)\n",
    "        cov[i,:,:] = ((teta_hat-teta)@((teta_hat-teta).conjugate().T)).real #m>1, real number\n",
    "        #cov[i,:,:] = ((teta_hat-teta)*(teta_hat-teta).conjugate()).real #M=1, real number\n",
    "    cov_matrix = np.sum(cov,0)/(np.shape(cov)[0])\n",
    "    return LA.norm(cov_matrix, \"fro\") #M>1, np.squeeze(cov_matrix) #M=1 ,\n",
    "\n",
    "def MSE_general_numerical_quantize(sigma1,sigma2, n_q, matrix, observ, thresh_real = 0,thresh_im = 0):\n",
    "    cov = np.zeros((observ, M, M))\n",
    "    for i in range(int(observ/2)):\n",
    "        x_a_vec, x_q_vec, teta_vec = samp(sigma1,sigma2, 0,n_q, matrix, 100*observ,thresh_real,thresh_im)\n",
    "        D = covariance(x_q_vec,x_q_vec) #Nq X Nq\n",
    "\n",
    "        U,S,V = np.linalg.svd(D)\n",
    "        S[S<epsilon] = epsilon\n",
    "        D = U@np.diag(S)@V #K+epsilon*np.identity(K.shape[0])\n",
    "        cov_x_inv = LA.inv(D)\n",
    "\n",
    "        mu_tilda_real = mu*(np.sum(matrix[1].real,axis=1)-np.sum(matrix[1].imag,axis=1))\n",
    "        mu_tilda_imag = mu*(np.sum(matrix[1].real,axis=1)+np.sum(matrix[1].imag,axis=1))\n",
    "        sigma_tilda = 1+(np.sum(np.power(matrix[1].real,2),axis=1)+np.sum(np.power(matrix[1].imag,2),axis=1))\n",
    "        p1 = norm.cdf(np.divide(np.subtract(thresh_real,mu_tilda_real.reshape(n_q*M,1)),sigma_tilda.reshape(n_q*M,1)))\n",
    "        p2 = norm.cdf(np.divide(np.subtract(thresh_im,mu_tilda_imag.reshape(n_q*M,1)),sigma_tilda.reshape(n_q*M,1)))\n",
    "\n",
    "        cov_teta_x = covariance(teta_vec,x_q_vec)\n",
    "        x_a, x_q = x(sigma1,sigma2, 0, n_q, matrix,thresh_real,thresh_im) #the actually observations\n",
    "        x_q_vec_norm = x_q.reshape(M*n_q,1)-math.sqrt(2)*((1-2*p1)+1j*(1-2*p2))#-np.mean(x_q)*np.ones((M*n_q,1))\n",
    "        teta_hat = (cov_teta_x@cov_x_inv@x_q_vec_norm) +(mu+1j*mu)*np.ones(M)\n",
    "        cov[i,:,:] = ((teta_hat-teta)@((teta_hat-teta).conjugate().T)).real #m>1, real number\n",
    "        #cov[i,:,:] = ((teta_hat-teta)*(teta_hat-teta).conjugate()).real #M=1, real number\n",
    "    cov_matrix = np.sum(cov,0)/(np.shape(cov)[0])\n",
    "    return LA.norm(cov_matrix, \"fro\"), M>1#np.squeeze(cov_matrix) #M=1"
   ],
   "metadata": {
    "collapsed": false,
    "ExecuteTime": {
     "start_time": "2023-05-12T17:43:01.379881Z",
     "end_time": "2023-05-12T17:43:01.395000Z"
    }
   }
  },
  {
   "cell_type": "code",
   "execution_count": 61,
   "outputs": [],
   "source": [
    "def MSE_zertothresh_analytic(sigma1,sigma2, n_a,n_q):\n",
    "    alpha = (2 / math.pi) * math.acos(rho_q / (rho_q + pow(sigma2, 2)))\n",
    "    beta = ((1-alpha)/rho_q)-((2*rho_a*n_a)/(math.pi*(rho_q+pow(sigma2,2))*(rho_a*n_a+pow(sigma1,2))))\n",
    "    first = (rho_a*n_a)/(rho_a*n_a+pow(sigma1, 2))\n",
    "    second = (2*rho_q*n_q*pow(sigma1,4))/(math.pi*(rho_q+pow(sigma2, 2))*(alpha+beta*rho_q*n_q)*pow(rho_a*n_a+pow(sigma1, 2),2))\n",
    "    return math.sqrt(M)*(1-first-second) #Frobenius  norm- not MSE, but relevant for CRB"
   ],
   "metadata": {
    "collapsed": false,
    "ExecuteTime": {
     "start_time": "2023-05-12T17:21:17.805495Z",
     "end_time": "2023-05-12T17:21:17.883973Z"
    }
   }
  },
  {
   "cell_type": "code",
   "execution_count": null,
   "outputs": [],
   "source": [
    "sigma_teta = 1*(1/math.sqrt(2))\n",
    "real_teta = np.random.normal(mu, sigma_teta,M)\n",
    "im_teta = np.random.normal(mu, sigma_teta,M)\n",
    "teta = real_teta + 1j*im_teta\n",
    "teta = teta.reshape(M,1)\n",
    "sigma_space = np.logspace(-1,1,10)\n",
    "\n",
    "sim = 500\n",
    "na = 0\n",
    "nq = 30\n",
    "epsilon = pow(10,-1)\n",
    "matrix_const1 = Matrix(na,nq)\n",
    "L_Estimator_analytic1 = [MSE_zertothresh_analytic(sigma_space[i],sigma_space[i], na,nq) for i in range(len(sigma_space))]\n",
    "L_Estimator_numerical1 = [MSE_general_numerical_quantize(sigma_space[i],sigma_space[i], nq, matrix_const1, sim) for i in range(len(sigma_space))]\n",
    "######################\n",
    "fig = plt.figure(figsize=(10, 6))\n",
    "plt.plot(10*np.log10(1/sigma_space), L_Estimator_analytic1)\n",
    "plt.plot(10*np.log10(1/sigma_space), L_Estimator_numerical1)\n",
    "plt.title(\"M={}, mu={}, variance ={}\".format(M,mu,round(2*pow(sigma_teta,2))))\n",
    "plt.yscale('log')\n",
    "plt.xlabel(\"SNR [dB]\")\n",
    "plt.show()"
   ],
   "metadata": {
    "collapsed": false,
    "ExecuteTime": {
     "start_time": "2023-05-12T17:44:51.565231Z",
     "end_time": "2023-05-12T17:46:36.506507Z"
    },
    "pycharm": {
     "is_executing": true
    }
   }
  },
  {
   "cell_type": "code",
   "execution_count": 12,
   "outputs": [],
   "source": [
    "def CRB(sigma1,sigma2, n_a,n_q,matrix, observ=sim,thresh_real=0,thresh_im=0,quantize=1):\n",
    "    teta_samp = samp_teta(observ)\n",
    "    g_teta = matrix[1] @ teta_samp\n",
    "    G_normal = matrix[1]/math.sqrt(n_q*rho_q)\n",
    "    zeta_real = (math.sqrt(2) / sigma2 * (g_teta.real-thresh_real))\n",
    "    zeta_im = (math.sqrt(2) / sigma2 * (g_teta.imag-thresh_im))\n",
    "    pdf_real = norm.pdf(zeta_real)\n",
    "    cdf_real = norm.cdf(zeta_real)\n",
    "    pdf_im = norm.pdf(zeta_im)\n",
    "    cdf_im = norm.cdf(zeta_im)\n",
    "    d_vec = np.divide(np.power(pdf_real, 2), np.multiply(cdf_real, (norm.cdf(-zeta_real)))) + \\\n",
    "            np.divide(np.power(pdf_im, 2), np.multiply(cdf_im, (norm.cdf(-zeta_im))))\n",
    "    d = np.mean(d_vec, axis=1) #converges to 0.95 aprox.\n",
    "    if quantize == 0:\n",
    "        J2 = (rho_q * n_q / pow(sigma2, 2)) * np.identity(M)\n",
    "    else:\n",
    "        my_vector = [(n_q*rho_q*d[i])*G_normal[i].reshape(M,1).conjugate()*G_normal[i].reshape(M,1).transpose() for  i in range(len(d))]\n",
    "        J2 = np.sum(my_vector,axis=0)*(1 /(2 * pow(sigma2, 2)))\n",
    "    J1 = (1 + (rho_a * n_a / pow(sigma1, 2))) * np.identity(M)\n",
    "    J = J1 + J2\n",
    "\n",
    "    my_vector = [((2*pow(sigma1,2))+(2*rho_a*n_a)+n_q*rho_q*d[i])*G_normal[i].reshape(M,1).conjugate()*G_normal[i].reshape(M,1).transpose() for  i in range(len(d))]\n",
    "    J_sum = np.sum(my_vector,axis=0)*(1 /(2 * pow(sigma2, 2)))\n",
    "\n",
    "    # my_vector = [(((2 * pow(sigma2, 2))) /((2*pow(sigma1,2))+(2*rho_a*n_a)+n_q*rho_q*d[i]))*G_normal[i].reshape(M,1).conjugate()*G_normal[i].reshape(M,1).transpose() for  i in range(len(d))]\n",
    "    # Bound_sum = np.sum(my_vector,axis=0) #Harder to compute\n",
    "\n",
    "    return LA.norm((LA.inv(J_sum)).real,\"fro\"), LA.norm((LA.inv(J)).real,\"fro\"), LA.norm((LA.inv(J1)).real,\"fro\"), LA.norm((LA.inv(J2)).real,\"fro\")"
   ],
   "metadata": {
    "collapsed": false,
    "ExecuteTime": {
     "start_time": "2023-05-12T16:52:15.881536Z",
     "end_time": "2023-05-12T16:52:15.959537Z"
    }
   }
  },
  {
   "cell_type": "code",
   "execution_count": 13,
   "outputs": [
    {
     "data": {
      "text/plain": "<Figure size 1000x600 with 1 Axes>",
      "image/png": "[encoded data removed]"
     },
     "metadata": {},
     "output_type": "display_data"
    }
   ],
   "source": [
    "n_a = [1,2,1,2]\n",
    "n_q = [40,40,100,100]\n",
    "epsilon = pow(10,-1)\n",
    "matrix_const1 = Matrix(n_a[0],n_q[0])\n",
    "matrix_const2 = Matrix(n_a[1],n_q[1])\n",
    "matrix_const3 = Matrix(n_a[2],n_q[2])\n",
    "matrix_const4 = Matrix(n_a[3],n_q[3])\n",
    "\n",
    "thresh_real = thresh_G(n_q[0],matrix_const1[1])[0]\n",
    "thresh_imag = thresh_G(n_q[0],matrix_const1[1])[1]\n",
    "thresh_const = np.ones((M*n_q[0], 1))\n",
    "\n",
    "L_Estimator_analytic1 = [MSE_zertothresh_analytic(sigma_space[i],sigma_space[i], n_a[0],n_q[0]) for i in range(len(sigma_space))]\n",
    "L_Estimator_analytic2 = [MSE_zertothresh_analytic(sigma_space[i],sigma_space[i], n_a[1],n_q[1]) for i in range(len(sigma_space))]\n",
    "L_Estimator_analytic3 = [MSE_zertothresh_analytic(sigma_space[i],sigma_space[i], n_a[2],n_q[2]) for i in range(len(sigma_space))]\n",
    "L_Estimator_analytic4 = [MSE_zertothresh_analytic(sigma_space[i],sigma_space[i], n_a[3],n_q[3]) for i in range(len(sigma_space))]\n",
    "\n",
    "CRB1 = [CRB(sigma_space[i],sigma_space[i],n_a[0],n_q[0],matrix_const1)[0] for i in range(len(sigma_space))]\n",
    "CRB2 = [CRB(sigma_space[i],sigma_space[i],n_a[0],n_q[1],matrix_const2)[0] for i in range(len(sigma_space))]\n",
    "CRB3 = [CRB(sigma_space[i],sigma_space[i],n_a[2],n_q[2],matrix_const3)[0] for i in range(len(sigma_space))]\n",
    "CRB4 = [CRB(sigma_space[i],sigma_space[i],n_a[3],n_q[3],matrix_const4)[0] for i in range(len(sigma_space))]\n",
    "\n",
    "######################\n",
    "fig = plt.figure(figsize=(10, 6))\n",
    "list_of_colors = ['red','blue','pink','black']\n",
    "list_of_functions = [CRB1,CRB2,CRB3,CRB4]\n",
    "\n",
    "for i in range(len(list_of_functions)):\n",
    "    plt.plot(10*np.log10(1/sigma_space), list_of_functions[i],'--' ,color=list_of_colors[i], label='n_a={}, n_q = {}'.format(n_a[i], n_q[i]))\n",
    "\n",
    "list_of_functions1 = [L_Estimator_analytic1, L_Estimator_analytic2,L_Estimator_analytic3,L_Estimator_analytic4]\n",
    "for i in range(len(list_of_functions1)):\n",
    "    plt.plot(10*np.log10(1/sigma_space), list_of_functions1[i], color=list_of_colors[i], label='n_a={}, n_q = {}, analytic'.format(n_a[i], n_q[i]))\n",
    "\n",
    "plt.title(\"M={}, mu={}, variance ={}\".format(M,mu,round(2*pow(sigma_teta,2))))\n",
    "plt.yscale('log')\n",
    "plt.xlabel(\"SNR [dB]\")\n",
    "plt.legend()\n",
    "plt.show()"
   ],
   "metadata": {
    "collapsed": false,
    "ExecuteTime": {
     "start_time": "2023-05-12T16:52:15.897131Z",
     "end_time": "2023-05-12T16:52:16.446896Z"
    }
   }
  },
  {
   "cell_type": "code",
   "execution_count": 14,
   "outputs": [
    {
     "ename": "KeyboardInterrupt",
     "evalue": "",
     "output_type": "error",
     "traceback": [
      "\u001B[1;31m---------------------------------------------------------------------------\u001B[0m",
      "\u001B[1;31mKeyboardInterrupt\u001B[0m                         Traceback (most recent call last)",
      "\u001B[1;32m~\\AppData\\Local\\Temp\\ipykernel_2332\\1574682974.py\u001B[0m in \u001B[0;36m<module>\u001B[1;34m\u001B[0m\n\u001B[0;32m     13\u001B[0m \u001B[1;33m\u001B[0m\u001B[0m\n\u001B[0;32m     14\u001B[0m \u001B[0mL_Estimator_numerical1\u001B[0m \u001B[1;33m=\u001B[0m \u001B[1;33m[\u001B[0m\u001B[0mMSE_general_numerical\u001B[0m\u001B[1;33m(\u001B[0m\u001B[0msigma_space\u001B[0m\u001B[1;33m[\u001B[0m\u001B[0mi\u001B[0m\u001B[1;33m]\u001B[0m\u001B[1;33m,\u001B[0m\u001B[0msigma_space\u001B[0m\u001B[1;33m[\u001B[0m\u001B[0mi\u001B[0m\u001B[1;33m]\u001B[0m\u001B[1;33m,\u001B[0m \u001B[0mn_a\u001B[0m\u001B[1;33m[\u001B[0m\u001B[1;36m0\u001B[0m\u001B[1;33m]\u001B[0m\u001B[1;33m,\u001B[0m\u001B[0mn_q\u001B[0m\u001B[1;33m[\u001B[0m\u001B[1;36m0\u001B[0m\u001B[1;33m]\u001B[0m\u001B[1;33m,\u001B[0m \u001B[0mmatrix_const1\u001B[0m\u001B[1;33m,\u001B[0m \u001B[0msim\u001B[0m\u001B[1;33m,\u001B[0m \u001B[0mepsilon\u001B[0m\u001B[1;33m)\u001B[0m \u001B[1;32mfor\u001B[0m \u001B[0mi\u001B[0m \u001B[1;32min\u001B[0m \u001B[0mrange\u001B[0m\u001B[1;33m(\u001B[0m\u001B[0mlen\u001B[0m\u001B[1;33m(\u001B[0m\u001B[0msigma_space\u001B[0m\u001B[1;33m)\u001B[0m\u001B[1;33m)\u001B[0m\u001B[1;33m]\u001B[0m\u001B[1;33m\u001B[0m\u001B[1;33m\u001B[0m\u001B[0m\n\u001B[1;32m---> 15\u001B[1;33m \u001B[0mL_Estimator_numerical2\u001B[0m \u001B[1;33m=\u001B[0m \u001B[1;33m[\u001B[0m\u001B[0mMSE_general_numerical\u001B[0m\u001B[1;33m(\u001B[0m\u001B[0msigma_space\u001B[0m\u001B[1;33m[\u001B[0m\u001B[0mi\u001B[0m\u001B[1;33m]\u001B[0m\u001B[1;33m,\u001B[0m\u001B[0msigma_space\u001B[0m\u001B[1;33m[\u001B[0m\u001B[0mi\u001B[0m\u001B[1;33m]\u001B[0m\u001B[1;33m,\u001B[0m \u001B[0mn_a\u001B[0m\u001B[1;33m[\u001B[0m\u001B[1;36m1\u001B[0m\u001B[1;33m]\u001B[0m\u001B[1;33m,\u001B[0m\u001B[0mn_q\u001B[0m\u001B[1;33m[\u001B[0m\u001B[1;36m1\u001B[0m\u001B[1;33m]\u001B[0m\u001B[1;33m,\u001B[0m \u001B[0mmatrix_const2\u001B[0m\u001B[1;33m,\u001B[0m \u001B[0msim\u001B[0m\u001B[1;33m,\u001B[0m \u001B[0mepsilon\u001B[0m\u001B[1;33m)\u001B[0m \u001B[1;32mfor\u001B[0m \u001B[0mi\u001B[0m \u001B[1;32min\u001B[0m \u001B[0mrange\u001B[0m\u001B[1;33m(\u001B[0m\u001B[0mlen\u001B[0m\u001B[1;33m(\u001B[0m\u001B[0msigma_space\u001B[0m\u001B[1;33m)\u001B[0m\u001B[1;33m)\u001B[0m\u001B[1;33m]\u001B[0m\u001B[1;33m\u001B[0m\u001B[1;33m\u001B[0m\u001B[0m\n\u001B[0m\u001B[0;32m     16\u001B[0m \u001B[0mL_Estimator_numerical3\u001B[0m \u001B[1;33m=\u001B[0m \u001B[1;33m[\u001B[0m\u001B[0mMSE_general_numerical\u001B[0m\u001B[1;33m(\u001B[0m\u001B[0msigma_space\u001B[0m\u001B[1;33m[\u001B[0m\u001B[0mi\u001B[0m\u001B[1;33m]\u001B[0m\u001B[1;33m,\u001B[0m\u001B[0msigma_space\u001B[0m\u001B[1;33m[\u001B[0m\u001B[0mi\u001B[0m\u001B[1;33m]\u001B[0m\u001B[1;33m,\u001B[0m \u001B[0mn_a\u001B[0m\u001B[1;33m[\u001B[0m\u001B[1;36m2\u001B[0m\u001B[1;33m]\u001B[0m\u001B[1;33m,\u001B[0m\u001B[0mn_q\u001B[0m\u001B[1;33m[\u001B[0m\u001B[1;36m2\u001B[0m\u001B[1;33m]\u001B[0m\u001B[1;33m,\u001B[0m \u001B[0mmatrix_const3\u001B[0m\u001B[1;33m,\u001B[0m \u001B[0msim\u001B[0m\u001B[1;33m,\u001B[0m \u001B[0mepsilon\u001B[0m\u001B[1;33m)\u001B[0m \u001B[1;32mfor\u001B[0m \u001B[0mi\u001B[0m \u001B[1;32min\u001B[0m \u001B[0mrange\u001B[0m\u001B[1;33m(\u001B[0m\u001B[0mlen\u001B[0m\u001B[1;33m(\u001B[0m\u001B[0msigma_space\u001B[0m\u001B[1;33m)\u001B[0m\u001B[1;33m)\u001B[0m\u001B[1;33m]\u001B[0m\u001B[1;33m\u001B[0m\u001B[1;33m\u001B[0m\u001B[0m\n\u001B[0;32m     17\u001B[0m \u001B[0mL_Estimator_numerical4\u001B[0m \u001B[1;33m=\u001B[0m \u001B[1;33m[\u001B[0m\u001B[0mMSE_general_numerical\u001B[0m\u001B[1;33m(\u001B[0m\u001B[0msigma_space\u001B[0m\u001B[1;33m[\u001B[0m\u001B[0mi\u001B[0m\u001B[1;33m]\u001B[0m\u001B[1;33m,\u001B[0m\u001B[0msigma_space\u001B[0m\u001B[1;33m[\u001B[0m\u001B[0mi\u001B[0m\u001B[1;33m]\u001B[0m\u001B[1;33m,\u001B[0m \u001B[0mn_a\u001B[0m\u001B[1;33m[\u001B[0m\u001B[1;36m3\u001B[0m\u001B[1;33m]\u001B[0m\u001B[1;33m,\u001B[0m\u001B[0mn_q\u001B[0m\u001B[1;33m[\u001B[0m\u001B[1;36m3\u001B[0m\u001B[1;33m]\u001B[0m\u001B[1;33m,\u001B[0m \u001B[0mmatrix_const4\u001B[0m\u001B[1;33m,\u001B[0m \u001B[0msim\u001B[0m\u001B[1;33m,\u001B[0m \u001B[0mepsilon\u001B[0m\u001B[1;33m)\u001B[0m \u001B[1;32mfor\u001B[0m \u001B[0mi\u001B[0m \u001B[1;32min\u001B[0m \u001B[0mrange\u001B[0m\u001B[1;33m(\u001B[0m\u001B[0mlen\u001B[0m\u001B[1;33m(\u001B[0m\u001B[0msigma_space\u001B[0m\u001B[1;33m)\u001B[0m\u001B[1;33m)\u001B[0m\u001B[1;33m]\u001B[0m\u001B[1;33m\u001B[0m\u001B[1;33m\u001B[0m\u001B[0m\n",
      "\u001B[1;32m~\\AppData\\Local\\Temp\\ipykernel_2332\\1574682974.py\u001B[0m in \u001B[0;36m<listcomp>\u001B[1;34m(.0)\u001B[0m\n\u001B[0;32m     13\u001B[0m \u001B[1;33m\u001B[0m\u001B[0m\n\u001B[0;32m     14\u001B[0m \u001B[0mL_Estimator_numerical1\u001B[0m \u001B[1;33m=\u001B[0m \u001B[1;33m[\u001B[0m\u001B[0mMSE_general_numerical\u001B[0m\u001B[1;33m(\u001B[0m\u001B[0msigma_space\u001B[0m\u001B[1;33m[\u001B[0m\u001B[0mi\u001B[0m\u001B[1;33m]\u001B[0m\u001B[1;33m,\u001B[0m\u001B[0msigma_space\u001B[0m\u001B[1;33m[\u001B[0m\u001B[0mi\u001B[0m\u001B[1;33m]\u001B[0m\u001B[1;33m,\u001B[0m \u001B[0mn_a\u001B[0m\u001B[1;33m[\u001B[0m\u001B[1;36m0\u001B[0m\u001B[1;33m]\u001B[0m\u001B[1;33m,\u001B[0m\u001B[0mn_q\u001B[0m\u001B[1;33m[\u001B[0m\u001B[1;36m0\u001B[0m\u001B[1;33m]\u001B[0m\u001B[1;33m,\u001B[0m \u001B[0mmatrix_const1\u001B[0m\u001B[1;33m,\u001B[0m \u001B[0msim\u001B[0m\u001B[1;33m,\u001B[0m \u001B[0mepsilon\u001B[0m\u001B[1;33m)\u001B[0m \u001B[1;32mfor\u001B[0m \u001B[0mi\u001B[0m \u001B[1;32min\u001B[0m \u001B[0mrange\u001B[0m\u001B[1;33m(\u001B[0m\u001B[0mlen\u001B[0m\u001B[1;33m(\u001B[0m\u001B[0msigma_space\u001B[0m\u001B[1;33m)\u001B[0m\u001B[1;33m)\u001B[0m\u001B[1;33m]\u001B[0m\u001B[1;33m\u001B[0m\u001B[1;33m\u001B[0m\u001B[0m\n\u001B[1;32m---> 15\u001B[1;33m \u001B[0mL_Estimator_numerical2\u001B[0m \u001B[1;33m=\u001B[0m \u001B[1;33m[\u001B[0m\u001B[0mMSE_general_numerical\u001B[0m\u001B[1;33m(\u001B[0m\u001B[0msigma_space\u001B[0m\u001B[1;33m[\u001B[0m\u001B[0mi\u001B[0m\u001B[1;33m]\u001B[0m\u001B[1;33m,\u001B[0m\u001B[0msigma_space\u001B[0m\u001B[1;33m[\u001B[0m\u001B[0mi\u001B[0m\u001B[1;33m]\u001B[0m\u001B[1;33m,\u001B[0m \u001B[0mn_a\u001B[0m\u001B[1;33m[\u001B[0m\u001B[1;36m1\u001B[0m\u001B[1;33m]\u001B[0m\u001B[1;33m,\u001B[0m\u001B[0mn_q\u001B[0m\u001B[1;33m[\u001B[0m\u001B[1;36m1\u001B[0m\u001B[1;33m]\u001B[0m\u001B[1;33m,\u001B[0m \u001B[0mmatrix_const2\u001B[0m\u001B[1;33m,\u001B[0m \u001B[0msim\u001B[0m\u001B[1;33m,\u001B[0m \u001B[0mepsilon\u001B[0m\u001B[1;33m)\u001B[0m \u001B[1;32mfor\u001B[0m \u001B[0mi\u001B[0m \u001B[1;32min\u001B[0m \u001B[0mrange\u001B[0m\u001B[1;33m(\u001B[0m\u001B[0mlen\u001B[0m\u001B[1;33m(\u001B[0m\u001B[0msigma_space\u001B[0m\u001B[1;33m)\u001B[0m\u001B[1;33m)\u001B[0m\u001B[1;33m]\u001B[0m\u001B[1;33m\u001B[0m\u001B[1;33m\u001B[0m\u001B[0m\n\u001B[0m\u001B[0;32m     16\u001B[0m \u001B[0mL_Estimator_numerical3\u001B[0m \u001B[1;33m=\u001B[0m \u001B[1;33m[\u001B[0m\u001B[0mMSE_general_numerical\u001B[0m\u001B[1;33m(\u001B[0m\u001B[0msigma_space\u001B[0m\u001B[1;33m[\u001B[0m\u001B[0mi\u001B[0m\u001B[1;33m]\u001B[0m\u001B[1;33m,\u001B[0m\u001B[0msigma_space\u001B[0m\u001B[1;33m[\u001B[0m\u001B[0mi\u001B[0m\u001B[1;33m]\u001B[0m\u001B[1;33m,\u001B[0m \u001B[0mn_a\u001B[0m\u001B[1;33m[\u001B[0m\u001B[1;36m2\u001B[0m\u001B[1;33m]\u001B[0m\u001B[1;33m,\u001B[0m\u001B[0mn_q\u001B[0m\u001B[1;33m[\u001B[0m\u001B[1;36m2\u001B[0m\u001B[1;33m]\u001B[0m\u001B[1;33m,\u001B[0m \u001B[0mmatrix_const3\u001B[0m\u001B[1;33m,\u001B[0m \u001B[0msim\u001B[0m\u001B[1;33m,\u001B[0m \u001B[0mepsilon\u001B[0m\u001B[1;33m)\u001B[0m \u001B[1;32mfor\u001B[0m \u001B[0mi\u001B[0m \u001B[1;32min\u001B[0m \u001B[0mrange\u001B[0m\u001B[1;33m(\u001B[0m\u001B[0mlen\u001B[0m\u001B[1;33m(\u001B[0m\u001B[0msigma_space\u001B[0m\u001B[1;33m)\u001B[0m\u001B[1;33m)\u001B[0m\u001B[1;33m]\u001B[0m\u001B[1;33m\u001B[0m\u001B[1;33m\u001B[0m\u001B[0m\n\u001B[0;32m     17\u001B[0m \u001B[0mL_Estimator_numerical4\u001B[0m \u001B[1;33m=\u001B[0m \u001B[1;33m[\u001B[0m\u001B[0mMSE_general_numerical\u001B[0m\u001B[1;33m(\u001B[0m\u001B[0msigma_space\u001B[0m\u001B[1;33m[\u001B[0m\u001B[0mi\u001B[0m\u001B[1;33m]\u001B[0m\u001B[1;33m,\u001B[0m\u001B[0msigma_space\u001B[0m\u001B[1;33m[\u001B[0m\u001B[0mi\u001B[0m\u001B[1;33m]\u001B[0m\u001B[1;33m,\u001B[0m \u001B[0mn_a\u001B[0m\u001B[1;33m[\u001B[0m\u001B[1;36m3\u001B[0m\u001B[1;33m]\u001B[0m\u001B[1;33m,\u001B[0m\u001B[0mn_q\u001B[0m\u001B[1;33m[\u001B[0m\u001B[1;36m3\u001B[0m\u001B[1;33m]\u001B[0m\u001B[1;33m,\u001B[0m \u001B[0mmatrix_const4\u001B[0m\u001B[1;33m,\u001B[0m \u001B[0msim\u001B[0m\u001B[1;33m,\u001B[0m \u001B[0mepsilon\u001B[0m\u001B[1;33m)\u001B[0m \u001B[1;32mfor\u001B[0m \u001B[0mi\u001B[0m \u001B[1;32min\u001B[0m \u001B[0mrange\u001B[0m\u001B[1;33m(\u001B[0m\u001B[0mlen\u001B[0m\u001B[1;33m(\u001B[0m\u001B[0msigma_space\u001B[0m\u001B[1;33m)\u001B[0m\u001B[1;33m)\u001B[0m\u001B[1;33m]\u001B[0m\u001B[1;33m\u001B[0m\u001B[1;33m\u001B[0m\u001B[0m\n",
      "\u001B[1;32m~\\AppData\\Local\\Temp\\ipykernel_2332\\3591771939.py\u001B[0m in \u001B[0;36mMSE_general_numerical\u001B[1;34m(sigma1, sigma2, n_a, n_q, matrix, observ, epsilon, thresh_real, thresh_im)\u001B[0m\n\u001B[0;32m     13\u001B[0m         \u001B[0minv_A\u001B[0m \u001B[1;33m=\u001B[0m \u001B[1;33m(\u001B[0m\u001B[0mnp\u001B[0m\u001B[1;33m.\u001B[0m\u001B[0midentity\u001B[0m\u001B[1;33m(\u001B[0m\u001B[0mM\u001B[0m\u001B[1;33m*\u001B[0m\u001B[0mn_a\u001B[0m\u001B[1;33m)\u001B[0m\u001B[1;33m-\u001B[0m\u001B[1;33m(\u001B[0m\u001B[1;33m(\u001B[0m\u001B[1;36m1\u001B[0m\u001B[1;33m/\u001B[0m\u001B[1;33m(\u001B[0m\u001B[0mrho_a\u001B[0m\u001B[1;33m*\u001B[0m\u001B[0mn_a\u001B[0m\u001B[1;33m+\u001B[0m\u001B[0mpow\u001B[0m\u001B[1;33m(\u001B[0m\u001B[0msigma1\u001B[0m\u001B[1;33m,\u001B[0m\u001B[1;36m2\u001B[0m\u001B[1;33m)\u001B[0m\u001B[1;33m)\u001B[0m\u001B[1;33m)\u001B[0m\u001B[1;33m*\u001B[0m\u001B[1;33m(\u001B[0m\u001B[0mmatrix\u001B[0m\u001B[1;33m[\u001B[0m\u001B[1;36m0\u001B[0m\u001B[1;33m]\u001B[0m\u001B[1;33m@\u001B[0m\u001B[0mmatrix\u001B[0m\u001B[1;33m[\u001B[0m\u001B[1;36m0\u001B[0m\u001B[1;33m]\u001B[0m\u001B[1;33m.\u001B[0m\u001B[0mtranspose\u001B[0m\u001B[1;33m(\u001B[0m\u001B[1;33m)\u001B[0m\u001B[1;33m.\u001B[0m\u001B[0mconjugate\u001B[0m\u001B[1;33m(\u001B[0m\u001B[1;33m)\u001B[0m\u001B[1;33m)\u001B[0m\u001B[1;33m)\u001B[0m\u001B[1;33m)\u001B[0m\u001B[0;31m\\\u001B[0m\u001B[1;33m\u001B[0m\u001B[1;33m\u001B[0m\u001B[0m\n\u001B[0;32m     14\u001B[0m                 \u001B[1;33m/\u001B[0m\u001B[0mpow\u001B[0m\u001B[1;33m(\u001B[0m\u001B[0msigma1\u001B[0m\u001B[1;33m,\u001B[0m\u001B[1;36m2\u001B[0m\u001B[1;33m)\u001B[0m \u001B[1;31m#Na X Na\u001B[0m\u001B[1;33m\u001B[0m\u001B[1;33m\u001B[0m\u001B[0m\n\u001B[1;32m---> 15\u001B[1;33m         \u001B[0mB\u001B[0m \u001B[1;33m=\u001B[0m \u001B[0mcovariance\u001B[0m\u001B[1;33m(\u001B[0m\u001B[0mx_a_vec\u001B[0m\u001B[1;33m,\u001B[0m\u001B[0mx_q_vec\u001B[0m\u001B[1;33m)\u001B[0m \u001B[1;31m#Na X Nq\u001B[0m\u001B[1;33m\u001B[0m\u001B[1;33m\u001B[0m\u001B[0m\n\u001B[0m\u001B[0;32m     16\u001B[0m         \u001B[0mC\u001B[0m \u001B[1;33m=\u001B[0m \u001B[0mB\u001B[0m\u001B[1;33m.\u001B[0m\u001B[0mconjugate\u001B[0m\u001B[1;33m(\u001B[0m\u001B[1;33m)\u001B[0m\u001B[1;33m.\u001B[0m\u001B[0mtranspose\u001B[0m\u001B[1;33m(\u001B[0m\u001B[1;33m)\u001B[0m \u001B[1;31m#Nq X Na, B.conjugate().transpose()\u001B[0m\u001B[1;33m\u001B[0m\u001B[1;33m\u001B[0m\u001B[0m\n\u001B[0;32m     17\u001B[0m         \u001B[0mD\u001B[0m \u001B[1;33m=\u001B[0m \u001B[0mcovariance\u001B[0m\u001B[1;33m(\u001B[0m\u001B[0mx_q_vec\u001B[0m\u001B[1;33m,\u001B[0m\u001B[0mx_q_vec\u001B[0m\u001B[1;33m)\u001B[0m \u001B[1;31m#Nq X Nq\u001B[0m\u001B[1;33m\u001B[0m\u001B[1;33m\u001B[0m\u001B[0m\n",
      "\u001B[1;32m~\\AppData\\Local\\Temp\\ipykernel_2332\\3591771939.py\u001B[0m in \u001B[0;36mcovariance\u001B[1;34m(v1, v2)\u001B[0m\n\u001B[0;32m      4\u001B[0m     \u001B[0mv\u001B[0m \u001B[1;33m=\u001B[0m \u001B[0mv1\u001B[0m\u001B[1;33m-\u001B[0m\u001B[0mnormv1\u001B[0m\u001B[1;33m.\u001B[0m\u001B[0mreshape\u001B[0m\u001B[1;33m(\u001B[0m\u001B[0mnp\u001B[0m\u001B[1;33m.\u001B[0m\u001B[0mshape\u001B[0m\u001B[1;33m(\u001B[0m\u001B[0mv1\u001B[0m\u001B[1;33m)\u001B[0m\u001B[1;33m[\u001B[0m\u001B[1;36m0\u001B[0m\u001B[1;33m]\u001B[0m\u001B[1;33m,\u001B[0m\u001B[1;36m1\u001B[0m\u001B[1;33m)\u001B[0m\u001B[1;33m\u001B[0m\u001B[1;33m\u001B[0m\u001B[0m\n\u001B[0;32m      5\u001B[0m     \u001B[0mu\u001B[0m \u001B[1;33m=\u001B[0m \u001B[0mv2\u001B[0m \u001B[1;33m-\u001B[0m\u001B[0mnormv2\u001B[0m\u001B[1;33m.\u001B[0m\u001B[0mreshape\u001B[0m\u001B[1;33m(\u001B[0m\u001B[0mnp\u001B[0m\u001B[1;33m.\u001B[0m\u001B[0mshape\u001B[0m\u001B[1;33m(\u001B[0m\u001B[0mv2\u001B[0m\u001B[1;33m)\u001B[0m\u001B[1;33m[\u001B[0m\u001B[1;36m0\u001B[0m\u001B[1;33m]\u001B[0m\u001B[1;33m,\u001B[0m\u001B[1;36m1\u001B[0m\u001B[1;33m)\u001B[0m\u001B[1;33m\u001B[0m\u001B[1;33m\u001B[0m\u001B[0m\n\u001B[1;32m----> 6\u001B[1;33m     \u001B[0mresult\u001B[0m \u001B[1;33m=\u001B[0m \u001B[1;33m[\u001B[0m\u001B[0mv\u001B[0m\u001B[1;33m[\u001B[0m\u001B[1;33m:\u001B[0m\u001B[1;33m,\u001B[0m\u001B[0mi\u001B[0m\u001B[1;33m]\u001B[0m\u001B[1;33m.\u001B[0m\u001B[0mreshape\u001B[0m\u001B[1;33m(\u001B[0m\u001B[0mnp\u001B[0m\u001B[1;33m.\u001B[0m\u001B[0mshape\u001B[0m\u001B[1;33m(\u001B[0m\u001B[0mv\u001B[0m\u001B[1;33m)\u001B[0m\u001B[1;33m[\u001B[0m\u001B[1;36m0\u001B[0m\u001B[1;33m]\u001B[0m\u001B[1;33m,\u001B[0m \u001B[1;36m1\u001B[0m\u001B[1;33m)\u001B[0m\u001B[1;33m@\u001B[0m\u001B[0mu\u001B[0m\u001B[1;33m[\u001B[0m\u001B[1;33m:\u001B[0m\u001B[1;33m,\u001B[0m\u001B[0mi\u001B[0m\u001B[1;33m]\u001B[0m\u001B[1;33m.\u001B[0m\u001B[0mtranspose\u001B[0m\u001B[1;33m(\u001B[0m\u001B[1;33m)\u001B[0m\u001B[1;33m.\u001B[0m\u001B[0mreshape\u001B[0m\u001B[1;33m(\u001B[0m\u001B[1;36m1\u001B[0m\u001B[1;33m,\u001B[0m \u001B[0mnp\u001B[0m\u001B[1;33m.\u001B[0m\u001B[0mshape\u001B[0m\u001B[1;33m(\u001B[0m\u001B[0mu\u001B[0m\u001B[1;33m)\u001B[0m\u001B[1;33m[\u001B[0m\u001B[1;36m0\u001B[0m\u001B[1;33m]\u001B[0m\u001B[1;33m)\u001B[0m \u001B[1;32mfor\u001B[0m \u001B[0mi\u001B[0m \u001B[1;32min\u001B[0m \u001B[0mrange\u001B[0m\u001B[1;33m(\u001B[0m\u001B[0mnp\u001B[0m\u001B[1;33m.\u001B[0m\u001B[0mshape\u001B[0m\u001B[1;33m(\u001B[0m\u001B[0mv\u001B[0m\u001B[1;33m)\u001B[0m\u001B[1;33m[\u001B[0m\u001B[1;36m1\u001B[0m\u001B[1;33m]\u001B[0m\u001B[1;33m)\u001B[0m\u001B[1;33m]\u001B[0m\u001B[1;33m\u001B[0m\u001B[1;33m\u001B[0m\u001B[0m\n\u001B[0m\u001B[0;32m      7\u001B[0m     \u001B[1;32mreturn\u001B[0m \u001B[0mnp\u001B[0m\u001B[1;33m.\u001B[0m\u001B[0msum\u001B[0m\u001B[1;33m(\u001B[0m\u001B[0mresult\u001B[0m\u001B[1;33m,\u001B[0m\u001B[1;36m0\u001B[0m\u001B[1;33m)\u001B[0m\u001B[1;33m/\u001B[0m\u001B[1;33m(\u001B[0m\u001B[0mnp\u001B[0m\u001B[1;33m.\u001B[0m\u001B[0mshape\u001B[0m\u001B[1;33m(\u001B[0m\u001B[0mv\u001B[0m\u001B[1;33m)\u001B[0m\u001B[1;33m[\u001B[0m\u001B[1;36m1\u001B[0m\u001B[1;33m]\u001B[0m\u001B[1;33m-\u001B[0m\u001B[1;36m1\u001B[0m\u001B[1;33m)\u001B[0m\u001B[1;33m\u001B[0m\u001B[1;33m\u001B[0m\u001B[0m\n\u001B[0;32m      8\u001B[0m \u001B[1;33m\u001B[0m\u001B[0m\n",
      "\u001B[1;32m~\\AppData\\Local\\Temp\\ipykernel_2332\\3591771939.py\u001B[0m in \u001B[0;36m<listcomp>\u001B[1;34m(.0)\u001B[0m\n\u001B[0;32m      4\u001B[0m     \u001B[0mv\u001B[0m \u001B[1;33m=\u001B[0m \u001B[0mv1\u001B[0m\u001B[1;33m-\u001B[0m\u001B[0mnormv1\u001B[0m\u001B[1;33m.\u001B[0m\u001B[0mreshape\u001B[0m\u001B[1;33m(\u001B[0m\u001B[0mnp\u001B[0m\u001B[1;33m.\u001B[0m\u001B[0mshape\u001B[0m\u001B[1;33m(\u001B[0m\u001B[0mv1\u001B[0m\u001B[1;33m)\u001B[0m\u001B[1;33m[\u001B[0m\u001B[1;36m0\u001B[0m\u001B[1;33m]\u001B[0m\u001B[1;33m,\u001B[0m\u001B[1;36m1\u001B[0m\u001B[1;33m)\u001B[0m\u001B[1;33m\u001B[0m\u001B[1;33m\u001B[0m\u001B[0m\n\u001B[0;32m      5\u001B[0m     \u001B[0mu\u001B[0m \u001B[1;33m=\u001B[0m \u001B[0mv2\u001B[0m \u001B[1;33m-\u001B[0m\u001B[0mnormv2\u001B[0m\u001B[1;33m.\u001B[0m\u001B[0mreshape\u001B[0m\u001B[1;33m(\u001B[0m\u001B[0mnp\u001B[0m\u001B[1;33m.\u001B[0m\u001B[0mshape\u001B[0m\u001B[1;33m(\u001B[0m\u001B[0mv2\u001B[0m\u001B[1;33m)\u001B[0m\u001B[1;33m[\u001B[0m\u001B[1;36m0\u001B[0m\u001B[1;33m]\u001B[0m\u001B[1;33m,\u001B[0m\u001B[1;36m1\u001B[0m\u001B[1;33m)\u001B[0m\u001B[1;33m\u001B[0m\u001B[1;33m\u001B[0m\u001B[0m\n\u001B[1;32m----> 6\u001B[1;33m     \u001B[0mresult\u001B[0m \u001B[1;33m=\u001B[0m \u001B[1;33m[\u001B[0m\u001B[0mv\u001B[0m\u001B[1;33m[\u001B[0m\u001B[1;33m:\u001B[0m\u001B[1;33m,\u001B[0m\u001B[0mi\u001B[0m\u001B[1;33m]\u001B[0m\u001B[1;33m.\u001B[0m\u001B[0mreshape\u001B[0m\u001B[1;33m(\u001B[0m\u001B[0mnp\u001B[0m\u001B[1;33m.\u001B[0m\u001B[0mshape\u001B[0m\u001B[1;33m(\u001B[0m\u001B[0mv\u001B[0m\u001B[1;33m)\u001B[0m\u001B[1;33m[\u001B[0m\u001B[1;36m0\u001B[0m\u001B[1;33m]\u001B[0m\u001B[1;33m,\u001B[0m \u001B[1;36m1\u001B[0m\u001B[1;33m)\u001B[0m\u001B[1;33m@\u001B[0m\u001B[0mu\u001B[0m\u001B[1;33m[\u001B[0m\u001B[1;33m:\u001B[0m\u001B[1;33m,\u001B[0m\u001B[0mi\u001B[0m\u001B[1;33m]\u001B[0m\u001B[1;33m.\u001B[0m\u001B[0mtranspose\u001B[0m\u001B[1;33m(\u001B[0m\u001B[1;33m)\u001B[0m\u001B[1;33m.\u001B[0m\u001B[0mreshape\u001B[0m\u001B[1;33m(\u001B[0m\u001B[1;36m1\u001B[0m\u001B[1;33m,\u001B[0m \u001B[0mnp\u001B[0m\u001B[1;33m.\u001B[0m\u001B[0mshape\u001B[0m\u001B[1;33m(\u001B[0m\u001B[0mu\u001B[0m\u001B[1;33m)\u001B[0m\u001B[1;33m[\u001B[0m\u001B[1;36m0\u001B[0m\u001B[1;33m]\u001B[0m\u001B[1;33m)\u001B[0m \u001B[1;32mfor\u001B[0m \u001B[0mi\u001B[0m \u001B[1;32min\u001B[0m \u001B[0mrange\u001B[0m\u001B[1;33m(\u001B[0m\u001B[0mnp\u001B[0m\u001B[1;33m.\u001B[0m\u001B[0mshape\u001B[0m\u001B[1;33m(\u001B[0m\u001B[0mv\u001B[0m\u001B[1;33m)\u001B[0m\u001B[1;33m[\u001B[0m\u001B[1;36m1\u001B[0m\u001B[1;33m]\u001B[0m\u001B[1;33m)\u001B[0m\u001B[1;33m]\u001B[0m\u001B[1;33m\u001B[0m\u001B[1;33m\u001B[0m\u001B[0m\n\u001B[0m\u001B[0;32m      7\u001B[0m     \u001B[1;32mreturn\u001B[0m \u001B[0mnp\u001B[0m\u001B[1;33m.\u001B[0m\u001B[0msum\u001B[0m\u001B[1;33m(\u001B[0m\u001B[0mresult\u001B[0m\u001B[1;33m,\u001B[0m\u001B[1;36m0\u001B[0m\u001B[1;33m)\u001B[0m\u001B[1;33m/\u001B[0m\u001B[1;33m(\u001B[0m\u001B[0mnp\u001B[0m\u001B[1;33m.\u001B[0m\u001B[0mshape\u001B[0m\u001B[1;33m(\u001B[0m\u001B[0mv\u001B[0m\u001B[1;33m)\u001B[0m\u001B[1;33m[\u001B[0m\u001B[1;36m1\u001B[0m\u001B[1;33m]\u001B[0m\u001B[1;33m-\u001B[0m\u001B[1;36m1\u001B[0m\u001B[1;33m)\u001B[0m\u001B[1;33m\u001B[0m\u001B[1;33m\u001B[0m\u001B[0m\n\u001B[0;32m      8\u001B[0m \u001B[1;33m\u001B[0m\u001B[0m\n",
      "\u001B[1;31mKeyboardInterrupt\u001B[0m: "
     ]
    }
   ],
   "source": [
    "sim = 100\n",
    "n_a = [1,2,3,4]\n",
    "n_q = [0,0,0,0]\n",
    "matrix_const1 = Matrix(n_a[0],n_q[0])\n",
    "matrix_const2 = Matrix(n_a[1],n_q[1])\n",
    "matrix_const3 = Matrix(n_a[2],n_q[2])\n",
    "matrix_const4 = Matrix(n_a[3],n_q[3])\n",
    "\n",
    "L_Estimator_analytic1 = [MSE_zertothresh_analytic(sigma_space[i],sigma_space[i], n_a[0],n_q[0]) for i in range(len(sigma_space))]\n",
    "L_Estimator_analytic2 = [MSE_zertothresh_analytic(sigma_space[i],sigma_space[i], n_a[1],n_q[1]) for i in range(len(sigma_space))]\n",
    "L_Estimator_analytic3 = [MSE_zertothresh_analytic(sigma_space[i],sigma_space[i], n_a[2],n_q[2]) for i in range(len(sigma_space))]\n",
    "L_Estimator_analytic4 = [MSE_zertothresh_analytic(sigma_space[i],sigma_space[i], n_a[3],n_q[3]) for i in range(len(sigma_space))]\n",
    "\n",
    "L_Estimator_numerical1 = [MSE_general_numerical(sigma_space[i],sigma_space[i], n_a[0],n_q[0], matrix_const1, sim, epsilon) for i in range(len(sigma_space))]\n",
    "L_Estimator_numerical2 = [MSE_general_numerical(sigma_space[i],sigma_space[i], n_a[1],n_q[1], matrix_const2, sim, epsilon) for i in range(len(sigma_space))]\n",
    "L_Estimator_numerical3 = [MSE_general_numerical(sigma_space[i],sigma_space[i], n_a[2],n_q[2], matrix_const3, sim, epsilon) for i in range(len(sigma_space))]\n",
    "L_Estimator_numerical4 = [MSE_general_numerical(sigma_space[i],sigma_space[i], n_a[3],n_q[3], matrix_const4, sim, epsilon) for i in range(len(sigma_space))]\n",
    "######################\n",
    "fig = plt.figure(figsize=(10, 6))\n",
    "list_of_functions1 = [L_Estimator_analytic1, L_Estimator_analytic2,L_Estimator_analytic3,L_Estimator_analytic4]\n",
    "for i in range(len(list_of_functions1)):\n",
    "    plt.plot(10*np.log10(1/sigma_space), list_of_functions1[i], color=list_of_colors[i], label='n_a={}, n_q = {}, analytic'.format(n_a[i], n_q[i]))\n",
    "list_of_functions2 = [L_Estimator_numerical1, L_Estimator_numerical2,L_Estimator_numerical3,L_Estimator_numerical4]\n",
    "for i in range(len(list_of_functions1)):\n",
    "    plt.plot(10*np.log10(1/sigma_space), list_of_functions2[i],\t'--', color=list_of_colors[i], label='n_a={}, n_q = {}, numerical'.format(n_a[i], n_q[i]))\n",
    "plt.title(\"M={}, mu={}, variance ={}\".format(M,mu,round(2*pow(sigma_teta,2))))\n",
    "plt.yscale('log')\n",
    "plt.xlabel(\"SNR [dB]\")\n",
    "plt.legend()\n",
    "plt.legend()\n",
    "plt.show()"
   ],
   "metadata": {
    "collapsed": false,
    "ExecuteTime": {
     "start_time": "2023-05-11T17:37:54.432757Z",
     "end_time": "2023-05-11T17:38:25.063555Z"
    }
   }
  },
  {
   "cell_type": "code",
   "execution_count": null,
   "outputs": [],
   "source": [
    "n_a = [0,0,0,0]\n",
    "n_q = [10,50,70,100]\n",
    "epsilon = pow(10,-1)\n",
    "matrix_const1 = Matrix(n_a[0],n_q[0])\n",
    "matrix_const2 = Matrix(n_a[1],n_q[1])\n",
    "matrix_const3 = Matrix(n_a[2],n_q[2])\n",
    "matrix_const4 = Matrix(n_a[3],n_q[3])\n",
    "\n",
    "L_Estimator_analytic1 = [MSE_zertothresh_analytic(sigma_space[i],sigma_space[i], n_a[0],n_q[0]) for i in range(len(sigma_space))]\n",
    "L_Estimator_analytic2 = [MSE_zertothresh_analytic(sigma_space[i],sigma_space[i], n_a[1],n_q[1]) for i in range(len(sigma_space))]\n",
    "L_Estimator_analytic3 = [MSE_zertothresh_analytic(sigma_space[i],sigma_space[i], n_a[2],n_q[2]) for i in range(len(sigma_space))]\n",
    "L_Estimator_analytic4 = [MSE_zertothresh_analytic(sigma_space[i],sigma_space[i], n_a[3],n_q[3]) for i in range(len(sigma_space))]\n",
    "\n",
    "L_Estimator_numerical1 = [MSE_general_numerical(sigma_space[i],sigma_space[i], n_a[0],n_q[0], matrix_const1, sim, epsilon) for i in range(len(sigma_space))]\n",
    "L_Estimator_numerical2 = [MSE_general_numerical(sigma_space[i],sigma_space[i], n_a[1],n_q[1], matrix_const2, sim, epsilon) for i in range(len(sigma_space))]\n",
    "L_Estimator_numerical3 = [MSE_general_numerical(sigma_space[i],sigma_space[i], n_a[2],n_q[2], matrix_const3, sim, epsilon) for i in range(len(sigma_space))]\n",
    "L_Estimator_numerical4 = [MSE_general_numerical(sigma_space[i],sigma_space[i], n_a[3],n_q[3], matrix_const4, sim, epsilon) for i in range(len(sigma_space))]\n",
    "######################\n",
    "fig = plt.figure(figsize=(10, 6))\n",
    "list_of_colors = ['red','blue','pink','black']\n",
    "\n",
    "list_of_functions1 = [L_Estimator_analytic1, L_Estimator_analytic2,L_Estimator_analytic3,L_Estimator_analytic4]\n",
    "for i in range(len(list_of_functions1)):\n",
    "    plt.plot(10*np.log10(1/sigma_space), list_of_functions1[i], color=list_of_colors[i], label='n_a={}, n_q = {}, analytic'.format(n_a[i], n_q[i]))\n",
    "\n",
    "list_of_functions2 = [L_Estimator_numerical1, L_Estimator_numerical2,L_Estimator_numerical3,L_Estimator_numerical4]\n",
    "for i in range(len(list_of_functions1)):\n",
    "    plt.plot(10*np.log10(1/sigma_space), list_of_functions2[i],\t'--', color=list_of_colors[i], label='n_a={}, n_q = {}, numerical'.format(n_a[i], n_q[i]))\n",
    "\n",
    "\n",
    "plt.title(\"M={}, mu={}, variance ={}\".format(M,mu,round(2*pow(sigma_teta,2))))\n",
    "plt.yscale('log')\n",
    "plt.xlabel(\"SNR [dB]\")\n",
    "plt.legend()\n",
    "plt.legend()\n",
    "plt.show()"
   ],
   "metadata": {
    "collapsed": false,
    "ExecuteTime": {
     "start_time": "2023-05-11T17:38:36.217165Z",
     "end_time": "2023-05-11T17:41:10.009892Z"
    }
   }
  },
  {
   "cell_type": "code",
   "execution_count": null,
   "outputs": [],
   "source": [
    "#Avoid bugs\n",
    "def covariance(v1,v2):\n",
    "    normv1 = np.mean(v1,1)\n",
    "    normv2 = np.mean(v2,1)\n",
    "    v = v1-normv1.reshape(np.shape(v1)[0],1)\n",
    "    u = v2 -normv2.reshape(np.shape(v2)[0],1)\n",
    "    result = [v[:,i].reshape(np.shape(v)[0], 1)@u[:,i].transpose().reshape(1, np.shape(u)[0]) for i in range(np.shape(v)[1])]\n",
    "    return np.sum(result,0)/(np.shape(v)[1]-1)\n",
    "\n",
    "def MSE_general_numerical(sigma1,sigma2, n_a,n_q, matrix, observ, epsilon, thresh_real = 0,thresh_im = 0):\n",
    "    cov = np.zeros((observ, M, M))\n",
    "    for i in range(observ):\n",
    "        x_a_vec, x_q_vec, teta_vec = samp(sigma1,sigma2, n_a,n_q, matrix, observ,thresh_real,thresh_im)\n",
    "        inv_A = (np.identity(M*n_a)-((1/(rho_a*n_a+pow(sigma1,2)))*(matrix[0]@matrix[0].transpose().conjugate())))\\\n",
    "                /pow(sigma1,2) #Na X Na\n",
    "        B = covariance(x_a_vec,x_q_vec) #Na X Nq\n",
    "        C = B.conjugate().transpose() #Nq X Na, B.conjugate().transpose()\n",
    "        D = covariance(x_q_vec,x_q_vec) #Nq X Nq\n",
    "        K = D-C@inv_A@B\n",
    "\n",
    "        U,S,V = np.linalg.svd(K)\n",
    "        S[S<epsilon] = epsilon\n",
    "        K = U@np.diag(S)@V #K+epsilon*np.identity(K.shape[0])\n",
    "\n",
    "        inv_K = LA.inv(K)\n",
    "        cov_x_inv_up =np.concatenate((inv_A+(inv_A@B@inv_K@C@inv_A), -1*(inv_A@B@inv_K)),axis=1)\n",
    "        cov_x_inv_down = np.concatenate((-1*(inv_K@C@inv_A), inv_K),axis=1)\n",
    "        cov_x_inv = np.concatenate((cov_x_inv_up,cov_x_inv_down),axis=0)\n",
    "\n",
    "        mu_tilda_real = mu*(np.sum(matrix[1].real,axis=1)-np.sum(matrix[1].imag,axis=1))\n",
    "        mu_tilda_imag = mu*(np.sum(matrix[1].real,axis=1)+np.sum(matrix[1].imag,axis=1))\n",
    "        sigma_tilda = 1+(np.sum(np.power(matrix[1].real,2),axis=1)+np.sum(np.power(matrix[1].imag,2),axis=1))\n",
    "        p1 = norm.cdf(np.divide(np.subtract(thresh_real,mu_tilda_real.reshape(n_q*M,1)),sigma_tilda.reshape(n_q*M,1)))\n",
    "        p2 = norm.cdf(np.divide(np.subtract(thresh_im,mu_tilda_imag.reshape(n_q*M,1)),sigma_tilda.reshape(n_q*M,1)))\n",
    "\n",
    "        cov_teta_x = np.concatenate((matrix[0].transpose().conjugate(), covariance(teta_vec,x_q_vec)),axis=1)\n",
    "        x_a, x_q = x(sigma1,sigma2, n_a, n_q, matrix,thresh_real,thresh_im) #the actually observations\n",
    "        x_a_vec_norm = x_a - matrix[0]@((mu+1j*mu)*np.ones(M))\n",
    "        x_q_vec_norm = x_q.reshape(M*n_q,1) - math.sqrt(2)*((1-2*p1)+1j*(1-2*p2))\n",
    "        x_vec_norm = np.concatenate((x_a_vec_norm, x_q_vec_norm.reshape(M*n_q,)), axis=0)\n",
    "        teta_hat = (cov_teta_x@cov_x_inv@x_vec_norm) +(mu+1j*mu)*np.ones(M)\n",
    "        cov[i,:,:] = ((teta_hat-teta)@((teta_hat-teta).conjugate().T)).real #m>1, real number\n",
    "        #cov[i,:,:] = ((teta_hat-teta)*(teta_hat-teta).conjugate()).real #M=1, real number\n",
    "    cov_matrix = np.sum(cov,0)/(np.shape(cov)[0])\n",
    "    return LA.norm(cov_matrix, \"fro\"), M>1#np.squeeze(cov_matrix) #M=1 ,\n",
    "\n",
    "def CRB(sigma1,sigma2, n_a,n_q,matrix, observ=sim,thresh_real=0,thresh_im=0,quantize=1):\n",
    "    teta_samp = samp_teta(observ)\n",
    "    g_teta = matrix[1] @ teta_samp\n",
    "    G_normal = matrix[1]/math.sqrt(n_q*rho_q)\n",
    "    zeta_real = (math.sqrt(2) / sigma2 * (g_teta.real-thresh_real))\n",
    "    zeta_im = (math.sqrt(2) / sigma2 * (g_teta.imag-thresh_im))\n",
    "    pdf_real = norm.pdf(zeta_real)\n",
    "    cdf_real = norm.cdf(zeta_real)\n",
    "    pdf_im = norm.pdf(zeta_im)\n",
    "    cdf_im = norm.cdf(zeta_im)\n",
    "    d_vec = np.divide(np.power(pdf_real, 2), np.multiply(cdf_real, (norm.cdf(-zeta_real)))) + \\\n",
    "            np.divide(np.power(pdf_im, 2), np.multiply(cdf_im, (norm.cdf(-zeta_im))))\n",
    "    d = np.mean(d_vec, axis=1)\n",
    "    if quantize == 0:\n",
    "        J2 = (rho_q * n_q / pow(sigma2, 2)) * np.identity(M)\n",
    "    else:\n",
    "        my_vector = [(n_q*rho_q*d[i])*G_normal[i].reshape(M,1).conjugate()*G_normal[i].reshape(M,1).transpose() for  i in range(len(d))]\n",
    "        J2 = np.sum(my_vector,axis=0)*(1 /(2 * pow(sigma2, 2)))\n",
    "    J1 = (1 + (rho_a * n_a / pow(sigma1, 2))) * np.identity(M)\n",
    "    J = J1 + J2\n",
    "\n",
    "    my_vector = [((2*pow(sigma1,2))+(2*rho_a*n_a)+n_q*rho_q*d[i])*G_normal[i].reshape(M,1).conjugate()*G_normal[i].reshape(M,1).transpose() for  i in range(len(d))]\n",
    "    J_sum = np.sum(my_vector,axis=0)*(1 /(2 * pow(sigma2, 2)))\n",
    "\n",
    "    return LA.norm((LA.inv(J_sum)).real,\"fro\"), LA.norm((LA.inv(J)).real,\"fro\"), LA.norm((LA.inv(J1)).real,\"fro\"), LA.norm((LA.inv(J2)).real,\"fro\")"
   ],
   "metadata": {
    "collapsed": false,
    "ExecuteTime": {
     "start_time": "2023-05-11T17:43:22.374604Z",
     "end_time": "2023-05-11T17:43:22.449879Z"
    }
   }
  },
  {
   "cell_type": "code",
   "execution_count": null,
   "outputs": [],
   "source": [
    "na = 0 #only quantize\n",
    "nq = 40\n",
    "thresh_space = np.linspace(-4,4,20)\n",
    "matrix_const1 = Matrix(na,nq)\n",
    "thresh_real = thresh_G(nq,matrix_const1[1])[0]\n",
    "thresh_imag = thresh_G(nq,matrix_const1[1])[1]\n",
    "thresh_const = np.ones((M*nq, 1))\n",
    "epsilon = 0.1\n",
    "\n",
    "L_Estimator_numerical = [MSE_general_numerical(1,1, na,nq, matrix_const1, sim,epsilon,thresh_space[i]*thresh_const,thresh_space[i]*thresh_const) for i in range(len(thresh_space))]\n",
    "CRB = [CRB(1,1,na,nq,matrix_const1,sim,thresh_space[i]*thresh_const,thresh_space[i]*thresh_const,1)[0] for i in range(len(thresh_space))]\n",
    "\n",
    "######################\n",
    "fig = plt.figure(figsize=(10, 6))\n",
    "plt.plot(thresh_space, CRB, color=\"red\", label='n_a={}, n_q = {}, CRB-thresh'.format(n_a, n_q))\n",
    "plt.plot(thresh_space, L_Estimator_numerical, color=\"blue\", label='n_a={}, n_q = {}, error-thresh'.format(na, nq))\n",
    "\n",
    "plt.title(\"M={}, mu={}, variance ={}\".format(M,mu,round(2*pow(sigma_teta,2))))\n",
    "plt.yscale('log')\n",
    "plt.legend()\n",
    "plt.legend()\n",
    "plt.show()"
   ],
   "metadata": {
    "collapsed": false,
    "ExecuteTime": {
     "start_time": "2023-05-11T17:43:45.494567Z",
     "end_time": "2023-05-11T17:43:45.525815Z"
    }
   }
  },
  {
   "cell_type": "markdown",
   "source": [
    "Simulations for M=1:"
   ],
   "metadata": {
    "collapsed": false
   }
  },
  {
   "cell_type": "code",
   "execution_count": null,
   "outputs": [],
   "source": [
    "def CRB_observ(sigma, n,matrix, observ=sim):\n",
    "    teta_samp = samp_teta(observ)\n",
    "    g_teta = matrix@teta_samp\n",
    "    G_normal = matrix/math.sqrt(rho_q)\n",
    "\n",
    "    zeta_real = ((math.sqrt(2)/sigma)*(g_teta.real))\n",
    "\n",
    "    zeta_im = ((math.sqrt(2)/sigma)*(g_teta.imag))\n",
    "    pdf_real = norm.pdf(zeta_real)\n",
    "    pdf_im = norm.pdf(zeta_im)\n",
    "    d_vec = np.divide(np.power(pdf_real, 2), np.multiply( norm.cdf(zeta_real), (norm.cdf(-zeta_real)))) + \\\n",
    "            np.divide(np.power(pdf_im, 2), np.multiply(norm.cdf(zeta_im), (norm.cdf(-zeta_im))))\n",
    "    d = np.mean(d_vec,1)# converge to 1\n",
    "\n",
    "    my_vector = [(rho_q*d[i])/(2*pow(sigma, 2))*G_normal[i].reshape(M,1).conjugate()*G_normal[i].reshape(M,1).transpose() for  i in range(len(d))]\n",
    "    J2 = np.sum(my_vector,axis=0)\n",
    "    J1 = (rho_a*n/pow(sigma, 2))*np.identity(M)\n",
    "\n",
    "    return J1,J2 #d\n",
    "#CRB_observ(1, 40,Matrix(40,40)[0], 100)\n",
    "sim_observ = 100\n",
    "n_list = np.linspace(1, 500, 20, dtype=int)\n",
    "CRB = [CRB_observ(1,n_list[i],Matrix(n_list[i],n_list[i])[0],sim_observ) for i in range(len(n_list))] #no quantize\n",
    "CRB_a = np.squeeze(np.array(CRB)[:,0])\n",
    "CRB_q = np.squeeze(np.array(CRB)[:,1])\n",
    "######################\n",
    "fig = plt.figure(figsize=(10, 6))\n",
    "plt.plot(n_list,CRB_a , color=\"red\", label='Analog BCRB')\n",
    "plt.plot(n_list,CRB_q , color=\"blue\", label='Quantize BCRB')\n",
    "\n",
    "print(\"the diffrence is:{}\".format(CRB_a[-1].real/CRB_q[-1].real))\n",
    "#print(\"the diffrence is:{} dB\".format(10*np.log10(CRB_a[-1]/CRB_q[-1]).real))\n",
    "plt.title(\"M={}, mu={}, variance ={}\".format(M,mu,round(2*pow(sigma_teta,2))))\n",
    "plt.yscale('log')\n",
    "plt.legend()\n",
    "plt.legend()\n",
    "plt.show()"
   ],
   "metadata": {
    "collapsed": false,
    "ExecuteTime": {
     "start_time": "2023-05-11T17:28:51.463660Z",
     "end_time": "2023-05-11T17:28:53.619577Z"
    }
   }
  },
  {
   "cell_type": "code",
   "execution_count": null,
   "outputs": [],
   "source": [
    "def CRB_SNR(sigma, n,matrix, observ=sim): #the importance of sigma_teta\n",
    "    teta_samp = samp_teta(observ)\n",
    "    g_teta = matrix @ teta_samp\n",
    "    G_normal = matrix/math.sqrt(rho_q)\n",
    "\n",
    "    zeta_real = ((math.sqrt(2)/sigma)*(g_teta.real))\n",
    "\n",
    "    zeta_im = ((math.sqrt(2)/sigma)*(g_teta.imag))\n",
    "    pdf_real = norm.pdf(zeta_real)\n",
    "    pdf_im = norm.pdf(zeta_im)\n",
    "    d_vec = np.divide(np.power(pdf_real, 2), np.multiply( norm.cdf(zeta_real), (norm.cdf(-zeta_real)))) + \\\n",
    "            np.divide(np.power(pdf_im, 2), np.multiply(norm.cdf(zeta_im), (norm.cdf(-zeta_im))))\n",
    "    d = np.mean(d_vec,1)#(4/math.pi)*np.ones((np.shape(np.mean(d_vec, axis=1))))\n",
    "\n",
    "    my_vector = [(rho_q*d[i])/(2*pow(sigma, 2))*G_normal[i].reshape(M,1).conjugate()*G_normal[i].reshape(M,1).transpose() for  i in range(len(d))]\n",
    "    J2 = np.sum(my_vector,axis=0)\n",
    "    J1 = (rho_a*n/pow(sigma, 2))*np.identity(M)\n",
    "\n",
    "    return J1,J2\n",
    "\n",
    "sim_SNR = 100\n",
    "new_sigma_space = np.logspace(-1,1,20)\n",
    "n = 1000\n",
    "CRB = [CRB_SNR(new_sigma_space[i],n,Matrix(n,n)[0],sim_SNR) for i in range(len(new_sigma_space))] #no quantize\n",
    "CRB_a = np.squeeze(np.array(CRB)[:,0])\n",
    "CRB_q = np.squeeze(np.array(CRB)[:,1])\n",
    "######################\n",
    "fig = plt.figure(figsize=(10, 6))\n",
    "plt.plot(10*np.log10(1/new_sigma_space),CRB_a , color=\"red\", label='Analog BCRB')\n",
    "plt.plot(10*np.log10(1/new_sigma_space),CRB_q , color=\"blue\", label='Quantize BCRB')\n",
    "\n",
    "#print(\"the diffrence is:{}\".format(CRB_q[0].real/CRB_a[0].real))\n",
    "plt.title(\"M={}, mu={}, variance ={}\".format(M,mu,round(2*pow(sigma_teta,2))))\n",
    "plt.yscale('log')\n",
    "plt.xlabel(\"SNR [dB]\")\n",
    "plt.legend()\n",
    "plt.show()"
   ],
   "metadata": {
    "collapsed": false,
    "ExecuteTime": {
     "start_time": "2023-05-11T15:14:16.750958Z",
     "end_time": "2023-05-11T15:14:20.828264Z"
    }
   }
  },
  {
   "cell_type": "markdown",
   "source": [
    "Till here"
   ],
   "metadata": {
    "collapsed": false
   }
  },
  {
   "cell_type": "code",
   "execution_count": null,
   "outputs": [],
   "source": [
    "nq_list = np.linspace(1, 500, 100, dtype=int)\n",
    "na=100\n",
    "estimator = [MSE_zertothresh_analytic(1,1, na,nq_list[i]) for i in range(len(nq_list))]\n",
    "CRB1 = [CRB(1,1,na,nq_list[i],Matrix(na,nq_list[i]),sim,0,0)[0] for i in range(len(nq_list))] #only quantize\n",
    "######################\n",
    "fig = plt.figure(figsize=(10, 6))\n",
    "plt.plot(nq_list, CRB1, color=\"red\", label='BCRB')\n",
    "plt.plot(nq_list, estimator, color=\"blue\", label='estimator')\n",
    "\n",
    "print(\"the diffrence is:{} dB\".format(10*np.log10(estimator[-1]/CRB1[-1])))\n",
    "plt.title(\"M={}, mu={}, variance ={}, na=100\".format(M,mu,round(2*pow(sigma_teta,2))))\n",
    "plt.yscale('log')\n",
    "plt.legend()\n",
    "plt.legend()\n",
    "plt.show()"
   ],
   "metadata": {
    "collapsed": false,
    "ExecuteTime": {
     "start_time": "2023-05-10T14:13:59.789260Z",
     "end_time": "2023-05-10T14:14:02.602664Z"
    }
   }
  },
  {
   "cell_type": "code",
   "execution_count": null,
   "outputs": [],
   "source": [
    "def MSE_zertothresh_analytic(sigma1,sigma2, n_a,n_q):\n",
    "    alpha = (2 / math.pi) * np.arccos(rho_q / (rho_q + pow(sigma2, 2))) #np.arccos\n",
    "    beta = ((1-alpha)/rho_q)-((2*rho_a*n_a)/(math.pi*(rho_q+pow(sigma2,2))*(rho_a*n_a+pow(sigma1,2))))\n",
    "    first = (rho_a*n_a)/(rho_a*n_a+pow(sigma1, 2))\n",
    "    second = (2*rho_q*n_q*pow(sigma1,4))/(math.pi*(rho_q+pow(sigma2, 2))*(alpha+beta*rho_q*n_q)*pow(rho_a*n_a+pow(sigma1, 2),2))\n",
    "    return math.sqrt(M)*(1-first-second) #Frobenius  norm- not MSE, but relevant for CRB\n",
    "# Create a meshgrid\n",
    "x = np.logspace(-1,1,20)\n",
    "y = np.logspace(-1,1,20)\n",
    "X, Y = np.meshgrid(x, y)\n",
    "# Evaluate the function on the meshgrid\n",
    "Z = MSE_zertothresh_analytic(X,Y, 1,40)\n",
    "# Create a 3-D plot\n",
    "fig = plt.figure()\n",
    "ax = plt.axes(projection='3d')\n",
    "ax.plot_surface(10*np.log10(1/X), 10*np.log10(1/Y), Z, cmap='jet', alpha=0.8, edgecolor='none')\n",
    "# Set labels and title\n",
    "ax.set_xlabel('SNR_a')\n",
    "ax.set_ylabel('SNR_q')\n",
    "ax.set_zlabel('MSE')\n",
    "ax.set_title('Estimator')\n",
    "\n",
    "# Show the plot\n",
    "plt.show()"
   ],
   "metadata": {
    "collapsed": false,
    "ExecuteTime": {
     "start_time": "2023-05-09T15:54:40.609905Z",
     "end_time": "2023-05-09T15:54:40.779225Z"
    }
   }
  },
  {
   "cell_type": "code",
   "execution_count": null,
   "outputs": [],
   "source": [
    "H,G = Matrix(na,nq) #Matrix is not argument\n",
    "def CRB(sigma1,sigma2, n_a,n_q, observ=sim,thresh_real=0,thresh_im=0,quantize=1): #Matrix is not argument\n",
    "    teta_samp = samp_teta(observ)\n",
    "    g_teta = G @ teta_samp\n",
    "    zeta_real = (math.sqrt(2) / sigma2 * (g_teta.real - thresh_real))\n",
    "    zeta_im = (math.sqrt(2) / sigma2 * (g_teta.imag - thresh_im))\n",
    "    pdf_real = norm.pdf(zeta_real)\n",
    "    cdf_real = norm.cdf(zeta_real)\n",
    "    pdf_im = norm.pdf(zeta_im)\n",
    "    cdf_im = norm.cdf(zeta_im)\n",
    "    d_vec = np.divide(np.power(pdf_real, 2), np.multiply(cdf_real, (norm.cdf(-zeta_real)))) + \\\n",
    "            np.divide(np.power(pdf_im, 2), np.multiply(cdf_im, (norm.cdf(-zeta_im))))\n",
    "    d = np.mean(d_vec, axis=1)\n",
    "\n",
    "    if quantize == 0:\n",
    "        J2 = (rho_q * n_q / pow(sigma2, 2)) * np.identity(M)\n",
    "    else:\n",
    "        J2 =(1 /(2 * pow(sigma2, 2)))*(G.transpose().conjugate() @ np.diag(d) @ G)\n",
    "    J1 = (1 + (rho_a * n_a / pow(sigma1, 2))) * np.identity(M)\n",
    "    J = J1 + J2\n",
    "\n",
    "    return LA.norm((LA.inv(J)).real,\"fro\"), LA.norm((LA.inv(J1)).real,\"fro\"), LA.norm((LA.inv(J2)).real,\"fro\")\n"
   ],
   "metadata": {
    "collapsed": false,
    "ExecuteTime": {
     "start_time": "2023-05-09T15:54:40.779225Z",
     "end_time": "2023-05-09T15:54:40.825995Z"
    }
   }
  },
  {
   "cell_type": "code",
   "execution_count": null,
   "outputs": [],
   "source": [
    "# Evaluate the function on the meshgrid using np.vectorize\n",
    "CRB_vectorized = np.vectorize(CRB)\n",
    "CRB_vals = CRB_vectorized(X, Y,na,nq)[0]\n",
    "\n",
    "# Create a 3-D plot\n",
    "fig = plt.figure()\n",
    "ax = fig.add_subplot(111, projection='3d')\n",
    "ax.plot_surface(10*np.log10(1/X), 10*np.log10(1/Y), CRB_vals, cmap='jet')\n",
    "# Set labels and title\n",
    "ax.set_xlabel('SNR1')\n",
    "ax.set_ylabel('SNR2')\n",
    "ax.set_zlabel('CRB')\n",
    "ax.set_title('CRB vs. sigma1 and sigma2')\n",
    "\n",
    "# Show the plot\n",
    "plt.show()"
   ],
   "metadata": {
    "collapsed": false,
    "ExecuteTime": {
     "start_time": "2023-05-09T15:54:40.794848Z",
     "end_time": "2023-05-09T15:54:41.393728Z"
    }
   }
  },
  {
   "cell_type": "code",
   "execution_count": null,
   "outputs": [],
   "source": [
    "fig = plt.figure()\n",
    "ax = plt.axes(projection='3d')\n",
    "ax.plot_surface(10*np.log10(1/X), 10*np.log10(1/Y), Z, cmap='jet', alpha=0.8, edgecolor='green')\n",
    "ax.plot_surface(10*np.log10(1/X), 10*np.log10(1/Y), CRB_vals, cmap='jet',edgecolor='red')\n",
    "# Set labels and title\n",
    "ax.set_xlabel('sigma_a')\n",
    "ax.set_ylabel('sigma_q')\n",
    "ax.set_zlabel('MSE')\n",
    "ax.set_title('Estimator & BCRB')\n",
    "plt.show()"
   ],
   "metadata": {
    "collapsed": false,
    "ExecuteTime": {
     "start_time": "2023-05-09T15:54:41.402850Z",
     "end_time": "2023-05-09T15:54:41.503738Z"
    }
   }
  },
  {
   "cell_type": "code",
   "execution_count": null,
   "outputs": [],
   "source": [
    "n_a = [1,2,1,2]\n",
    "n_q = [40,40,100,100]\n",
    "matrix_const1 = Matrix(n_a[0],n_q[0])\n",
    "\n",
    "L_Estimator_analytic1 = [MSE_zertothresh_analytic(sigma_space[i],1, n_a[0],n_q[0]) for i in range(len(sigma_space))]\n",
    "CRB1 = [CRB(sigma_space[i],1,n_a[0],n_q[0],matrix_const1)[0] for i in range(len(sigma_space))]\n",
    "\n",
    "\n",
    "######################\n",
    "fig = plt.figure(figsize=(10, 6))\n",
    "\n",
    "plt.plot(10*np.log10(1/sigma_space), L_Estimator_analytic1,'--' ,label='n_a={}, n_q = {}'.format(n_a[i], n_q[i]))\n",
    "plt.plot(10*np.log10(1/sigma_space), CRB1, label='n_a={}, n_q = {}, CRB'.format(n_a[i], n_q[i]))\n",
    "\n",
    "plt.title(\"sigma2 is const\".format(M,mu,round(2*pow(sigma_teta,2))))\n",
    "plt.yscale('log')\n",
    "plt.xlabel(\"SNR [dB]\")\n",
    "plt.legend()\n",
    "plt.legend()\n",
    "plt.show()"
   ],
   "metadata": {
    "collapsed": false,
    "ExecuteTime": {
     "start_time": "2023-05-09T16:12:33.444722Z",
     "end_time": "2023-05-09T16:12:33.847197Z"
    }
   }
  }
 ],
 "metadata": {
  "kernelspec": {
   "display_name": "Python 3",
   "language": "python",
   "name": "python3"
  },
  "language_info": {
   "codemirror_mode": {
    "name": "ipython",
    "version": 2
   },
   "file_extension": ".py",
   "mimetype": "text/x-python",
   "name": "python",
   "nbconvert_exporter": "python",
   "pygments_lexer": "ipython2",
   "version": "2.7.6"
  }
 },
 "nbformat": 4,
 "nbformat_minor": 0
}
