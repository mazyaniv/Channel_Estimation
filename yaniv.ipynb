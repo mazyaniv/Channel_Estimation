{
 "cells": [
  {
   "cell_type": "code",
   "execution_count": 33,
   "metadata": {
    "collapsed": true,
    "ExecuteTime": {
     "start_time": "2023-04-23T10:48:29.108329Z",
     "end_time": "2023-04-23T10:48:29.177321Z"
    }
   },
   "outputs": [],
   "source": [
    "import numpy as np\n",
    "import math\n",
    "from scipy.stats import norm\n",
    "from matplotlib import pyplot as plt\n",
    "from numpy import linalg as LA\n",
    "from scipy.stats import unitary_group\n",
    "import random\n",
    "import scipy.integrate as spi"
   ]
  },
  {
   "cell_type": "code",
   "execution_count": 51,
   "outputs": [],
   "source": [
    "sigma_space = np.logspace(-1,1,100)\n",
    "thresh_space = np.linspace(-5,5,100)\n",
    "M =1\n",
    "mu = 0\n",
    "sigma_teta = (1/math.sqrt(2))\n",
    "rho_q = 1\n",
    "rho_a = 1\n",
    "sim = pow(10,4)\n",
    "########Teta\n",
    "real_teta = np.random.normal(mu, sigma_teta,M)\n",
    "im_teta = np.random.normal(mu, sigma_teta,M)\n",
    "teta = real_teta + 1j*im_teta\n",
    "teta = teta.reshape(M,1)"
   ],
   "metadata": {
    "collapsed": false,
    "ExecuteTime": {
     "start_time": "2023-04-23T10:52:24.989983Z",
     "end_time": "2023-04-23T10:52:25.052470Z"
    }
   }
  },
  {
   "cell_type": "code",
   "execution_count": 52,
   "outputs": [],
   "source": [
    "def Matrix(na,nq): #new model\n",
    "    H_mat = np.zeros((na*M,M), complex)\n",
    "    G_mat = np.zeros((nq*M,M), complex)\n",
    "    for i in range(0,na*M,M):\n",
    "        if M>1:\n",
    "            H_mat[i:M+i,:] = math.sqrt(rho_a)*unitary_group.rvs(M)\n",
    "        else:\n",
    "            x1 = random.random()\n",
    "            y1 = math.sqrt(1 - pow(x1, 2))\n",
    "            H_mat[i:M + i, :] = math.sqrt(rho_a)*(x1+1j*y1)\n",
    "    for i in range(0,nq*M,M):\n",
    "        if M > 1:\n",
    "            G_mat[i:M+i,:] = math.sqrt(rho_q)*unitary_group.rvs(M)\n",
    "        else:\n",
    "            x2 = random.random()\n",
    "            y2 = np.sqrt(1 - np.power(x2, 2))\n",
    "            G_mat[i:M + i, :] = math.sqrt(rho_a)*(x2 + 1j * y2)\n",
    "    return H_mat, G_mat"
   ],
   "metadata": {
    "collapsed": false,
    "ExecuteTime": {
     "start_time": "2023-04-23T10:52:25.005603Z",
     "end_time": "2023-04-23T10:52:25.052470Z"
    }
   }
  },
  {
   "cell_type": "code",
   "execution_count": 53,
   "outputs": [],
   "source": [
    "def thresh_G(n_q, Mat):\n",
    "    if M>1:\n",
    "        G_teta=Mat@((mu+1j*mu)*np.ones(M))\n",
    "    else:\n",
    "        G_teta=Mat*((mu+1j*mu)*np.ones(M))\n",
    "    return G_teta.real.reshape(M*n_q, 1), G_teta.imag.reshape(M*n_q, 1)"
   ],
   "metadata": {
    "collapsed": false,
    "ExecuteTime": {
     "start_time": "2023-04-23T10:52:25.021224Z",
     "end_time": "2023-04-23T10:52:25.052470Z"
    }
   }
  },
  {
   "cell_type": "code",
   "execution_count": 54,
   "outputs": [],
   "source": [
    "def x(sigma, n_a,n_q, matrix,thresh_real,thresh_im): #the observations- function of teta\n",
    "    sigma_w_a = sigma * (1 / math.sqrt(2))\n",
    "    real_w_a = np.random.normal(mu, sigma_w_a, M*n_a)\n",
    "    im_w_a = np.random.normal(mu, sigma_w_a, M*n_a)\n",
    "    w_a = real_w_a + 1j * im_w_a\n",
    "    w_a = w_a.reshape(M*n_a, 1)\n",
    "\n",
    "    sigma_w_q = sigma * (1 / math.sqrt(2))\n",
    "    real_w_q = np.random.normal(mu, sigma_w_q, M*n_q)\n",
    "    im_w_q = np.random.normal(mu, sigma_w_q, M*n_q)\n",
    "    w_q = real_w_q + 1j * im_w_q\n",
    "    w_q = w_q.reshape(M*n_q, 1)\n",
    "\n",
    "    if M>1:\n",
    "        x_a = matrix[0]@teta + w_a\n",
    "        y = matrix[1]@teta + w_q\n",
    "    else:\n",
    "        x_a = matrix[0]*teta + w_a\n",
    "        y = matrix[1]*teta + w_q\n",
    "\n",
    "    x_q = (1 / math.sqrt(2)) * (np.sign(y.real - (thresh_real) +\n",
    "                            1j * np.sign(y.imag - ((thresh_im)))))\n",
    "    return x_a.reshape(M*n_a, ), x_q.reshape(M*n_q, )\n",
    "\n",
    "def samp(sigma, n_a,n_q, matrix, observ,thresh_real,thresh_im): #samples\n",
    "    sigma_teta_samp = (1/math.sqrt(2))\n",
    "    real_teta_samp = np.random.normal(mu, sigma_teta_samp, (M,observ))\n",
    "    im_teta_samp = np.random.normal(mu, sigma_teta_samp, (M,observ))\n",
    "    teta_samp = real_teta_samp + 1j*im_teta_samp\n",
    "\n",
    "    sigma_w_a_samp = sigma * (1 / math.sqrt(2))\n",
    "    real_w_a_samp = np.random.normal(mu, sigma_w_a_samp, (M*n_a,observ))\n",
    "    im_w_a_samp = np.random.normal(mu, sigma_w_a_samp, (M*n_a,observ))\n",
    "    w_a_samp = real_w_a_samp + 1j * im_w_a_samp\n",
    "\n",
    "    sigma_w_q_samp = sigma * (1 / math.sqrt(2))\n",
    "    real_w_q_samp = np.random.normal(mu, sigma_w_q_samp,(M*n_q,observ))\n",
    "    im_w_q_samp = np.random.normal(mu, sigma_w_q_samp,(M*n_q,observ))\n",
    "    w_q_samp = real_w_q_samp + 1j * im_w_q_samp\n",
    "\n",
    "    x_a_samp = (matrix[0]@teta_samp)+w_a_samp\n",
    "    y_samp = (matrix[1]@teta_samp) + w_q_samp\n",
    "\n",
    "    x_q_samp = (1 / math.sqrt(2)) * (np.sign(y_samp.real - (thresh_real) +\n",
    "                                        1j * np.sign(y_samp.imag - ((thresh_im)))))\n",
    "    return x_a_samp, x_q_samp, teta_samp.reshape(M,observ)\n",
    "\n",
    "def samp_teta(observ): #samples-for CRB function (d_k)\n",
    "    real_teta_samp = np.random.normal(mu, sigma_teta, (M, observ))\n",
    "    im_teta_samp = np.random.normal(mu, sigma_teta, (M, observ))\n",
    "    teta_samp = real_teta_samp + 1j * im_teta_samp\n",
    "    return  teta_samp.reshape(M,observ)\n",
    "\n",
    "def covariance(v1,v2):\n",
    "    normv1 = np.mean(v1,1)\n",
    "    normv2 = np.mean(v2,1)\n",
    "    v = v1-normv1.reshape(np.shape(v1)[0],1)\n",
    "    u = v2 -normv2.reshape(np.shape(v2)[0],1)\n",
    "    result = [v[:,i].reshape(np.shape(v)[0], 1)@u[:,i].transpose().reshape(1, np.shape(u)[0]) for i in range(np.shape(v)[1])]\n",
    "    return np.mean(result,0)"
   ],
   "metadata": {
    "collapsed": false,
    "ExecuteTime": {
     "start_time": "2023-04-23T10:52:25.036845Z",
     "end_time": "2023-04-23T10:52:25.090224Z"
    }
   }
  },
  {
   "cell_type": "code",
   "execution_count": 55,
   "outputs": [],
   "source": [
    "def MSE_zertothresh_analytic(sigma, n_a,n_q):\n",
    "    alpha = (2 / math.pi) * math.acos(rho_q / (rho_q + pow(sigma, 2)))\n",
    "    beta = (1-alpha)/rho_q\n",
    "    first = (rho_a*n_a)/(rho_a*n_a+pow(sigma, 2))\n",
    "    second = (2*rho_q*n_q*pow(sigma,4))/(math.pi*(rho_q+pow(sigma, 2))*(alpha+beta*rho_q*n_q)*pow(rho_a*n_a+pow(sigma, 2),2))\n",
    "    return math.sqrt(M)*(1-first-second) #Frobenius  norm\n",
    "\n",
    "def MSE_general_numerical(sigma, n_a,n_q, matrix, observ,thresh_real,thresh_im):\n",
    "    cov = np.zeros((observ, M, M))\n",
    "    for i in range(observ):\n",
    "        x_a_vec, x_q_vec, teta_vec = samp(sigma, n_a,n_q, matrix, observ,thresh_real,thresh_im)\n",
    "        mat1 = np.concatenate((covariance(x_a_vec,x_a_vec), covariance(x_a_vec,x_q_vec)),axis=1)\n",
    "        mat2 = np.concatenate((covariance(x_q_vec,x_a_vec), covariance(x_q_vec,x_q_vec)),axis=1)\n",
    "        cov_x = np.concatenate((mat1, mat2),axis=0)\n",
    "        cov_teta_x = np.concatenate((covariance(teta_vec,x_a_vec), covariance(teta_vec,x_q_vec)),axis=1)\n",
    "        cov_x = cov_x + 0.00001*np.identity(cov_x.shape[0])\n",
    "        cov_x_inv =LA.inv(cov_x)\n",
    "\n",
    "        mu_tilda_real = mu*(np.sum(matrix[1].real,axis=1)-np.sum(matrix[1].imag,axis=1))\n",
    "        mu_tilda_imag = mu*(np.sum(matrix[1].real,axis=1)+np.sum(matrix[1].imag,axis=1))\n",
    "        sigma_tilda = 1+(np.sum(np.power(matrix[1].real,2),axis=1)+np.sum(np.power(matrix[1].imag,2),axis=1))\n",
    "\n",
    "        p1 = norm.cdf(np.divide(np.subtract(thresh_real,mu_tilda_real.reshape(n_q*M,1)),sigma_tilda.reshape(n_q*M,1)))\n",
    "        p2 = norm.cdf(np.divide(np.subtract(thresh_im,mu_tilda_imag.reshape(n_q*M,1)),sigma_tilda.reshape(n_q*M,1)))\n",
    "\n",
    "        x_a, x_q = x(sigma, n_a, n_q, matrix,thresh_real,thresh_im) #the actually observations\n",
    "        x_a_vec_norm = x_a - matrix[0]@((mu+1j*mu)*np.ones(M))\n",
    "        x_q_vec_norm = x_q.reshape(M*n_q,1) - math.sqrt(2)*((1-2*p1)+1j*(1-2*p2))\n",
    "        x_vec_norm = np.concatenate((x_a_vec_norm, x_q_vec_norm.reshape(M*n_q,)), axis=0)\n",
    "        teta_hat = (mu+1j*mu)*np.ones(M) + (cov_teta_x@cov_x_inv@x_vec_norm)\n",
    "        cov[i,:,:] = ((teta_hat-teta)@((teta_hat-teta).conjugate().T))\n",
    "    cov_matrix = np.mean(cov,0)\n",
    "    return LA.norm(cov_matrix, \"fro\")"
   ],
   "metadata": {
    "collapsed": false,
    "ExecuteTime": {
     "start_time": "2023-04-23T10:52:25.090224Z",
     "end_time": "2023-04-23T10:52:25.121467Z"
    }
   }
  },
  {
   "cell_type": "code",
   "execution_count": 56,
   "outputs": [],
   "source": [
    "def CRB(sigma, n_a, n_q,matrix, observ,thresh_real,thresh_im):\n",
    "    teta_samp = samp_teta(observ)\n",
    "    g_teta = matrix[1] @ teta_samp\n",
    "\n",
    "    zeta_real = (math.sqrt(2) / sigma * (g_teta.real - thresh_real))\n",
    "    zeta_im = (math.sqrt(2) / sigma * (g_teta.imag - thresh_im))\n",
    "\n",
    "    pdf_real = norm.pdf(zeta_real)\n",
    "    cdf_real = norm.cdf(zeta_real)\n",
    "    pdf_im = norm.pdf(zeta_im)\n",
    "    cdf_im = norm.cdf(zeta_im)\n",
    "\n",
    "    d_vec = np.divide(np.power(pdf_real, 2), np.multiply(cdf_real, (norm.cdf(-zeta_real)))) + \\\n",
    "            np.divide(np.power(pdf_im, 2), np.multiply(cdf_im, (norm.cdf(-zeta_im))))\n",
    "    d = np.mean(d_vec, axis=1)\n",
    "\n",
    "    J =(1 + (rho_a * n_a / pow(sigma, 2))) * np.identity(M)+\\\n",
    "       (1 /(2 * pow(sigma, 2)))*(matrix[1].transpose().conjugate() @ np.diag(d) @ matrix[1])\n",
    "    return LA.norm((LA.inv(J)).real,\"fro\")"
   ],
   "metadata": {
    "collapsed": false,
    "ExecuteTime": {
     "start_time": "2023-04-23T10:52:25.121467Z",
     "end_time": "2023-04-23T10:52:25.137084Z"
    }
   }
  },
  {
   "cell_type": "code",
   "execution_count": 57,
   "outputs": [],
   "source": [
    "def E_theta_givenx_numeric(sigma, n_a, n_q,matrix, observ): #M=1 TODO- expected value of error\n",
    "        x_a, x_q = x(sigma, n_a, n_q, matrix) #the actually observations\n",
    "        theta_vec = samp_teta(observ).transpose()\n",
    "        result2 = np.zeros((observ),complex)\n",
    "        result1 = np.zeros((observ),complex)\n",
    "        for i in range(len(theta_vec)):\n",
    "            p_theta =  (1/math.pi)*math.exp((-(theta_vec[i]-mu).conjugate()*(theta_vec[i]-mu)).real)\n",
    "            f_xa = (1/(pow(math.pi,n_a)*pow(sigma,2*n_a)))*math.exp((-(1/pow(sigma,2))*(np.subtract(x_a.reshape(n_a,1),matrix[0]*theta_vec[i])).transpose().conjugate()@(np.subtract(x_a.reshape(n_a,1),matrix[0]*theta_vec[i]))).real)\n",
    "            zeta_real = (math.sqrt(2) / sigma * (matrix[1]*theta_vec[i].real - thresh_G(n_q, matrix[1])[0]))\n",
    "            zeta_im = (math.sqrt(2) / sigma * (matrix[1]*theta_vec[i].imag - thresh_G(n_q, matrix[1])[1]))\n",
    "            p_xq = np.add(np.multiply(np.power(norm.cdf(zeta_real),n_q),np.power(1-norm.cdf(zeta_real),n_q)),np.multiply(np.power(norm.cdf(zeta_im),n_q),np.power(1-norm.cdf(zeta_im),n_q)))\n",
    "            p_xq = np.sum(p_xq)\n",
    "            result2[i] = theta_vec[i]*(p_theta*f_xa*p_xq)\n",
    "            result1[i] = (p_theta*f_xa*p_xq)\n",
    "\n",
    "        teta_hat = np.mean(result2)/np.mean(result1)\n",
    "        return float(((teta_hat-teta)@((teta_hat-teta).conjugate().T)).real)\n",
    "# matrix_const1 = Matrix(2,3)\n",
    "# Etheta_numeric(1, 2, 3,matrix_const1, 10)\n",
    "def E_theta_givenx_numeric_integral(sigma, n_a, n_q,matrix): #M=1 !!!!!!!!!!!!\n",
    "    def integrand1_real(u,v):\n",
    "        x_a, x_q = x(sigma, n_a, n_q, matrix) #the actually observations\n",
    "        p_theta =  (1/math.pi)*math.exp((-((u+1j*v)-mu).conjugate()*((u+1j*v)-mu)).real)\n",
    "        f_xa = (1/(pow(math.pi,n_a)*pow(sigma,2*n_a)))*math.exp((-(1/pow(sigma,2))*(np.subtract(x_a.reshape(n_a,1),matrix[0]*(u+1j*v))).transpose().conjugate()@(np.subtract(x_a.reshape(n_a,1),matrix[0]*(u+1j*v)))).real)\n",
    "        zeta_real = (math.sqrt(2) / sigma * (matrix[1]*(u+1j*v).real - thresh_G(n_q, matrix[1])[0]))\n",
    "        zeta_im = (math.sqrt(2) / sigma * (matrix[1]*(u+1j*v).imag - thresh_G(n_q, matrix[1])[1]))\n",
    "        p_xq = np.add(np.multiply(np.power(norm.cdf(zeta_real),n_q),np.power(1-norm.cdf(zeta_real),n_q)),np.multiply(np.power(norm.cdf(zeta_im),n_q),np.power(1-norm.cdf(zeta_im),n_q)))\n",
    "        p_xq = np.sum(p_xq)\n",
    "        return (u*(p_theta*f_xa*p_xq)+1j*v*(p_theta*f_xa*p_xq)).real\n",
    "\n",
    "    def integrand1_imag(u,v):\n",
    "        x_a, x_q = x(sigma, n_a, n_q, matrix) #the actually observations\n",
    "        p_theta =  (1/math.pi)*math.exp((-((u+1j*v)-mu).conjugate()*((u+1j*v)-mu)).real)\n",
    "        f_xa = (1/(pow(math.pi,n_a)*pow(sigma,2*n_a)))*math.exp((-(1/pow(sigma,2))*(np.subtract(x_a.reshape(n_a,1),matrix[0]*(u+1j*v))).transpose().conjugate()@(np.subtract(x_a.reshape(n_a,1),matrix[0]*(u+1j*v)))).real)\n",
    "        zeta_real = (math.sqrt(2) / sigma * (matrix[1]*(u+1j*v).real - thresh_G(n_q, matrix[1])[0]))\n",
    "        zeta_im = (math.sqrt(2) / sigma * (matrix[1]*(u+1j*v).imag - thresh_G(n_q, matrix[1])[1]))\n",
    "        p_xq = np.add(np.multiply(np.power(norm.cdf(zeta_real),n_q),np.power(1-norm.cdf(zeta_real),n_q)),np.multiply(np.power(norm.cdf(zeta_im),n_q),np.power(1-norm.cdf(zeta_im),n_q)))\n",
    "        p_xq = np.sum(p_xq)\n",
    "        return (u*(p_theta*f_xa*p_xq)+1j*v*(p_theta*f_xa*p_xq)).imag\n",
    "\n",
    "    def integrand2(u,v):\n",
    "        x_a, x_q = x(sigma, n_a, n_q, matrix) #the actually observations\n",
    "        p_theta =  (1/math.pi)*math.exp((-((u+1j*v)-mu).conjugate()*((u+1j*v)-mu)).real)\n",
    "        f_xa = (1/(pow(math.pi,n_a)*pow(sigma,2*n_a)))*math.exp((-(1/pow(sigma,2))*(np.subtract(x_a.reshape(n_a,1),matrix[0]*(u+1j*v))).transpose().conjugate()@(np.subtract(x_a.reshape(n_a,1),matrix[0]*(u+1j*v)))).real)\n",
    "        zeta_real = (math.sqrt(2) / sigma * (matrix[1]*(u+1j*v).real - thresh_G(n_q, matrix[1])[0]))\n",
    "        zeta_im = (math.sqrt(2) / sigma * (matrix[1]*(u+1j*v).imag - thresh_G(n_q, matrix[1])[1]))\n",
    "        p_xq = np.add(np.multiply(np.power(norm.cdf(zeta_real),n_q),np.power(1-norm.cdf(zeta_real),n_q)),np.multiply(np.power(norm.cdf(zeta_im),n_q),np.power(1-norm.cdf(zeta_im),n_q)))\n",
    "        p_xq = np.sum(p_xq)\n",
    "        return p_theta.real*f_xa.real*p_xq.real\n",
    "\n",
    "    lim_inf, lim_sup = [-3,3]\n",
    "    result1R = spi.dblquad(integrand1_real, lim_inf, lim_sup,  lim_inf, lim_sup)[0]\n",
    "    result1I = spi.dblquad(integrand1_imag, lim_inf, lim_sup, lim_inf, lim_sup)[0]\n",
    "    result2 = spi.dblquad(integrand2, lim_inf, lim_sup, lim_inf, lim_sup)[0]\n",
    "    return (result1R+1j*result1I)/result2\n",
    "\n",
    "def CRB_M_levels(sigma,matrix, observ,tao_vec, n): #M=1\n",
    "    tao_vec = np.insert(tao_vec, 0, -10000)\n",
    "    tao_vec = np.append(tao_vec, 10000)\n",
    "    teta_samp = samp_teta(observ)\n",
    "    g_teta =(matrix[1]@teta_samp)[0]\n",
    "\n",
    "    zeta = [math.sqrt(2)/(sigma*(tao_vec[i]+n-g_teta.real)) for i in range(len(tao_vec))]\n",
    "    the_sum = np.sum([((rho_q/2*pow(sigma,2))*norm.pdf(zeta[i+1])-norm.pdf(zeta[i]))/(norm.cdf(zeta[i+1])-norm.cdf(zeta[i])) for  i in range(len(zeta)-1)],axis=0)\n",
    "    Fisher_q1 = np.mean(the_sum, axis=0)\n",
    "\n",
    "    zeta = [math.sqrt(2)/(sigma*(tao_vec[i]+n-g_teta.imag)) for i in range(len(tao_vec))]\n",
    "    the_sum = np.sum([((rho_q/2*pow(sigma,2))*norm.pdf(zeta[i+1])-norm.pdf(zeta[i]))/(norm.cdf(zeta[i+1])-norm.cdf(zeta[i])) for  i in range(len(zeta)-1)],axis=0)\n",
    "    Fisher_q2 = np.mean(the_sum, axis=0)\n",
    "\n",
    "    Fisher_teta = 2*pow(sigma_teta,2)\n",
    "    Fisher_a = (1/pow(sigma,2))*(matrix[0].transpose().conjugate()@matrix[0])\n",
    "    return float((1/(Fisher_teta+Fisher_q1+Fisher_q2+Fisher_a)).real)"
   ],
   "metadata": {
    "collapsed": false,
    "ExecuteTime": {
     "start_time": "2023-04-23T10:52:25.137084Z",
     "end_time": "2023-04-23T10:52:25.190463Z"
    }
   }
  },
  {
   "cell_type": "code",
   "execution_count": 58,
   "outputs": [
    {
     "name": "stderr",
     "output_type": "stream",
     "text": [
      "C:\\Users\\Yaniv\\AppData\\Local\\Temp/ipykernel_3648/1468168972.py:31: ComplexWarning: Casting complex values to real discards the imaginary part\n",
      "  cov[i,:,:] = ((teta_hat-teta)@((teta_hat-teta).conjugate().T))\n"
     ]
    },
    {
     "ename": "KeyboardInterrupt",
     "evalue": "",
     "output_type": "error",
     "traceback": [
      "\u001B[1;31m---------------------------------------------------------------------------\u001B[0m",
      "\u001B[1;31mKeyboardInterrupt\u001B[0m                         Traceback (most recent call last)",
      "\u001B[1;32m~\\AppData\\Local\\Temp/ipykernel_3648/1084173556.py\u001B[0m in \u001B[0;36m<module>\u001B[1;34m\u001B[0m\n\u001B[0;32m     18\u001B[0m \u001B[1;31m# L_Estimator_analytic4 = [MSE_zertothresh_analytic(sigma_space[i], n_a[3],n_q[3]) for i in range(len(sigma_space))]\u001B[0m\u001B[1;33m\u001B[0m\u001B[1;33m\u001B[0m\u001B[1;33m\u001B[0m\u001B[0m\n\u001B[0;32m     19\u001B[0m \u001B[1;33m\u001B[0m\u001B[0m\n\u001B[1;32m---> 20\u001B[1;33m \u001B[0mL_Estimator_numerical1\u001B[0m \u001B[1;33m=\u001B[0m \u001B[1;33m[\u001B[0m\u001B[0mMSE_general_numerical\u001B[0m\u001B[1;33m(\u001B[0m\u001B[1;36m1\u001B[0m\u001B[1;33m,\u001B[0m \u001B[0mn_a\u001B[0m\u001B[1;33m[\u001B[0m\u001B[1;36m0\u001B[0m\u001B[1;33m]\u001B[0m\u001B[1;33m,\u001B[0m\u001B[0mn_q\u001B[0m\u001B[1;33m[\u001B[0m\u001B[1;36m0\u001B[0m\u001B[1;33m]\u001B[0m\u001B[1;33m,\u001B[0m \u001B[0mmatrix_const1\u001B[0m\u001B[1;33m,\u001B[0m \u001B[0msim\u001B[0m\u001B[1;33m,\u001B[0m\u001B[0mthresh_space\u001B[0m\u001B[1;33m[\u001B[0m\u001B[0mi\u001B[0m\u001B[1;33m]\u001B[0m\u001B[1;33m*\u001B[0m\u001B[0mthresh_real_const\u001B[0m\u001B[1;33m,\u001B[0m\u001B[0mthresh_space\u001B[0m\u001B[1;33m[\u001B[0m\u001B[0mi\u001B[0m\u001B[1;33m]\u001B[0m\u001B[1;33m*\u001B[0m\u001B[0mthresh_imag_const\u001B[0m\u001B[1;33m)\u001B[0m \u001B[1;32mfor\u001B[0m \u001B[0mi\u001B[0m \u001B[1;32min\u001B[0m \u001B[0mrange\u001B[0m\u001B[1;33m(\u001B[0m\u001B[0mlen\u001B[0m\u001B[1;33m(\u001B[0m\u001B[0mthresh_space\u001B[0m\u001B[1;33m)\u001B[0m\u001B[1;33m)\u001B[0m\u001B[1;33m]\u001B[0m\u001B[1;33m\u001B[0m\u001B[1;33m\u001B[0m\u001B[0m\n\u001B[0m\u001B[0;32m     21\u001B[0m \u001B[1;31m# L_Estimator_numerical2 = [MSE_general_numerical(sigma_space[i], n_a[0],n_q[1], matrix_const2, sim) for i in range(len(sigma_space))]\u001B[0m\u001B[1;33m\u001B[0m\u001B[1;33m\u001B[0m\u001B[1;33m\u001B[0m\u001B[0m\n\u001B[0;32m     22\u001B[0m \u001B[1;31m# L_Estimator_numerical3 = [MSE_general_numerical(sigma_space[i], n_a[1],n_q[0], matrix_const3, sim) for i in range(len(sigma_space))]\u001B[0m\u001B[1;33m\u001B[0m\u001B[1;33m\u001B[0m\u001B[1;33m\u001B[0m\u001B[0m\n",
      "\u001B[1;32m~\\AppData\\Local\\Temp/ipykernel_3648/1084173556.py\u001B[0m in \u001B[0;36m<listcomp>\u001B[1;34m(.0)\u001B[0m\n\u001B[0;32m     18\u001B[0m \u001B[1;31m# L_Estimator_analytic4 = [MSE_zertothresh_analytic(sigma_space[i], n_a[3],n_q[3]) for i in range(len(sigma_space))]\u001B[0m\u001B[1;33m\u001B[0m\u001B[1;33m\u001B[0m\u001B[1;33m\u001B[0m\u001B[0m\n\u001B[0;32m     19\u001B[0m \u001B[1;33m\u001B[0m\u001B[0m\n\u001B[1;32m---> 20\u001B[1;33m \u001B[0mL_Estimator_numerical1\u001B[0m \u001B[1;33m=\u001B[0m \u001B[1;33m[\u001B[0m\u001B[0mMSE_general_numerical\u001B[0m\u001B[1;33m(\u001B[0m\u001B[1;36m1\u001B[0m\u001B[1;33m,\u001B[0m \u001B[0mn_a\u001B[0m\u001B[1;33m[\u001B[0m\u001B[1;36m0\u001B[0m\u001B[1;33m]\u001B[0m\u001B[1;33m,\u001B[0m\u001B[0mn_q\u001B[0m\u001B[1;33m[\u001B[0m\u001B[1;36m0\u001B[0m\u001B[1;33m]\u001B[0m\u001B[1;33m,\u001B[0m \u001B[0mmatrix_const1\u001B[0m\u001B[1;33m,\u001B[0m \u001B[0msim\u001B[0m\u001B[1;33m,\u001B[0m\u001B[0mthresh_space\u001B[0m\u001B[1;33m[\u001B[0m\u001B[0mi\u001B[0m\u001B[1;33m]\u001B[0m\u001B[1;33m*\u001B[0m\u001B[0mthresh_real_const\u001B[0m\u001B[1;33m,\u001B[0m\u001B[0mthresh_space\u001B[0m\u001B[1;33m[\u001B[0m\u001B[0mi\u001B[0m\u001B[1;33m]\u001B[0m\u001B[1;33m*\u001B[0m\u001B[0mthresh_imag_const\u001B[0m\u001B[1;33m)\u001B[0m \u001B[1;32mfor\u001B[0m \u001B[0mi\u001B[0m \u001B[1;32min\u001B[0m \u001B[0mrange\u001B[0m\u001B[1;33m(\u001B[0m\u001B[0mlen\u001B[0m\u001B[1;33m(\u001B[0m\u001B[0mthresh_space\u001B[0m\u001B[1;33m)\u001B[0m\u001B[1;33m)\u001B[0m\u001B[1;33m]\u001B[0m\u001B[1;33m\u001B[0m\u001B[1;33m\u001B[0m\u001B[0m\n\u001B[0m\u001B[0;32m     21\u001B[0m \u001B[1;31m# L_Estimator_numerical2 = [MSE_general_numerical(sigma_space[i], n_a[0],n_q[1], matrix_const2, sim) for i in range(len(sigma_space))]\u001B[0m\u001B[1;33m\u001B[0m\u001B[1;33m\u001B[0m\u001B[1;33m\u001B[0m\u001B[0m\n\u001B[0;32m     22\u001B[0m \u001B[1;31m# L_Estimator_numerical3 = [MSE_general_numerical(sigma_space[i], n_a[1],n_q[0], matrix_const3, sim) for i in range(len(sigma_space))]\u001B[0m\u001B[1;33m\u001B[0m\u001B[1;33m\u001B[0m\u001B[1;33m\u001B[0m\u001B[0m\n",
      "\u001B[1;32m~\\AppData\\Local\\Temp/ipykernel_3648/1468168972.py\u001B[0m in \u001B[0;36mMSE_general_numerical\u001B[1;34m(sigma, n_a, n_q, matrix, observ, thresh_real, thresh_im)\u001B[0m\n\u001B[0;32m     11\u001B[0m         \u001B[0mx_a_vec\u001B[0m\u001B[1;33m,\u001B[0m \u001B[0mx_q_vec\u001B[0m\u001B[1;33m,\u001B[0m \u001B[0mteta_vec\u001B[0m \u001B[1;33m=\u001B[0m \u001B[0msamp\u001B[0m\u001B[1;33m(\u001B[0m\u001B[0msigma\u001B[0m\u001B[1;33m,\u001B[0m \u001B[0mn_a\u001B[0m\u001B[1;33m,\u001B[0m\u001B[0mn_q\u001B[0m\u001B[1;33m,\u001B[0m \u001B[0mmatrix\u001B[0m\u001B[1;33m,\u001B[0m \u001B[0mobserv\u001B[0m\u001B[1;33m,\u001B[0m\u001B[0mthresh_real\u001B[0m\u001B[1;33m,\u001B[0m\u001B[0mthresh_im\u001B[0m\u001B[1;33m)\u001B[0m\u001B[1;33m\u001B[0m\u001B[1;33m\u001B[0m\u001B[0m\n\u001B[0;32m     12\u001B[0m         \u001B[0mmat1\u001B[0m \u001B[1;33m=\u001B[0m \u001B[0mnp\u001B[0m\u001B[1;33m.\u001B[0m\u001B[0mconcatenate\u001B[0m\u001B[1;33m(\u001B[0m\u001B[1;33m(\u001B[0m\u001B[0mcovariance\u001B[0m\u001B[1;33m(\u001B[0m\u001B[0mx_a_vec\u001B[0m\u001B[1;33m,\u001B[0m\u001B[0mx_a_vec\u001B[0m\u001B[1;33m)\u001B[0m\u001B[1;33m,\u001B[0m \u001B[0mcovariance\u001B[0m\u001B[1;33m(\u001B[0m\u001B[0mx_a_vec\u001B[0m\u001B[1;33m,\u001B[0m\u001B[0mx_q_vec\u001B[0m\u001B[1;33m)\u001B[0m\u001B[1;33m)\u001B[0m\u001B[1;33m,\u001B[0m\u001B[0maxis\u001B[0m\u001B[1;33m=\u001B[0m\u001B[1;36m1\u001B[0m\u001B[1;33m)\u001B[0m\u001B[1;33m\u001B[0m\u001B[1;33m\u001B[0m\u001B[0m\n\u001B[1;32m---> 13\u001B[1;33m         \u001B[0mmat2\u001B[0m \u001B[1;33m=\u001B[0m \u001B[0mnp\u001B[0m\u001B[1;33m.\u001B[0m\u001B[0mconcatenate\u001B[0m\u001B[1;33m(\u001B[0m\u001B[1;33m(\u001B[0m\u001B[0mcovariance\u001B[0m\u001B[1;33m(\u001B[0m\u001B[0mx_q_vec\u001B[0m\u001B[1;33m,\u001B[0m\u001B[0mx_a_vec\u001B[0m\u001B[1;33m)\u001B[0m\u001B[1;33m,\u001B[0m \u001B[0mcovariance\u001B[0m\u001B[1;33m(\u001B[0m\u001B[0mx_q_vec\u001B[0m\u001B[1;33m,\u001B[0m\u001B[0mx_q_vec\u001B[0m\u001B[1;33m)\u001B[0m\u001B[1;33m)\u001B[0m\u001B[1;33m,\u001B[0m\u001B[0maxis\u001B[0m\u001B[1;33m=\u001B[0m\u001B[1;36m1\u001B[0m\u001B[1;33m)\u001B[0m\u001B[1;33m\u001B[0m\u001B[1;33m\u001B[0m\u001B[0m\n\u001B[0m\u001B[0;32m     14\u001B[0m         \u001B[0mcov_x\u001B[0m \u001B[1;33m=\u001B[0m \u001B[0mnp\u001B[0m\u001B[1;33m.\u001B[0m\u001B[0mconcatenate\u001B[0m\u001B[1;33m(\u001B[0m\u001B[1;33m(\u001B[0m\u001B[0mmat1\u001B[0m\u001B[1;33m,\u001B[0m \u001B[0mmat2\u001B[0m\u001B[1;33m)\u001B[0m\u001B[1;33m,\u001B[0m\u001B[0maxis\u001B[0m\u001B[1;33m=\u001B[0m\u001B[1;36m0\u001B[0m\u001B[1;33m)\u001B[0m\u001B[1;33m\u001B[0m\u001B[1;33m\u001B[0m\u001B[0m\n\u001B[0;32m     15\u001B[0m         \u001B[0mcov_teta_x\u001B[0m \u001B[1;33m=\u001B[0m \u001B[0mnp\u001B[0m\u001B[1;33m.\u001B[0m\u001B[0mconcatenate\u001B[0m\u001B[1;33m(\u001B[0m\u001B[1;33m(\u001B[0m\u001B[0mcovariance\u001B[0m\u001B[1;33m(\u001B[0m\u001B[0mteta_vec\u001B[0m\u001B[1;33m,\u001B[0m\u001B[0mx_a_vec\u001B[0m\u001B[1;33m)\u001B[0m\u001B[1;33m,\u001B[0m \u001B[0mcovariance\u001B[0m\u001B[1;33m(\u001B[0m\u001B[0mteta_vec\u001B[0m\u001B[1;33m,\u001B[0m\u001B[0mx_q_vec\u001B[0m\u001B[1;33m)\u001B[0m\u001B[1;33m)\u001B[0m\u001B[1;33m,\u001B[0m\u001B[0maxis\u001B[0m\u001B[1;33m=\u001B[0m\u001B[1;36m1\u001B[0m\u001B[1;33m)\u001B[0m\u001B[1;33m\u001B[0m\u001B[1;33m\u001B[0m\u001B[0m\n",
      "\u001B[1;32m~\\AppData\\Local\\Temp/ipykernel_3648/1366452404.py\u001B[0m in \u001B[0;36mcovariance\u001B[1;34m(v1, v2)\u001B[0m\n\u001B[0;32m     57\u001B[0m     \u001B[0mv\u001B[0m \u001B[1;33m=\u001B[0m \u001B[0mv1\u001B[0m\u001B[1;33m-\u001B[0m\u001B[0mnormv1\u001B[0m\u001B[1;33m.\u001B[0m\u001B[0mreshape\u001B[0m\u001B[1;33m(\u001B[0m\u001B[0mnp\u001B[0m\u001B[1;33m.\u001B[0m\u001B[0mshape\u001B[0m\u001B[1;33m(\u001B[0m\u001B[0mv1\u001B[0m\u001B[1;33m)\u001B[0m\u001B[1;33m[\u001B[0m\u001B[1;36m0\u001B[0m\u001B[1;33m]\u001B[0m\u001B[1;33m,\u001B[0m\u001B[1;36m1\u001B[0m\u001B[1;33m)\u001B[0m\u001B[1;33m\u001B[0m\u001B[1;33m\u001B[0m\u001B[0m\n\u001B[0;32m     58\u001B[0m     \u001B[0mu\u001B[0m \u001B[1;33m=\u001B[0m \u001B[0mv2\u001B[0m \u001B[1;33m-\u001B[0m\u001B[0mnormv2\u001B[0m\u001B[1;33m.\u001B[0m\u001B[0mreshape\u001B[0m\u001B[1;33m(\u001B[0m\u001B[0mnp\u001B[0m\u001B[1;33m.\u001B[0m\u001B[0mshape\u001B[0m\u001B[1;33m(\u001B[0m\u001B[0mv2\u001B[0m\u001B[1;33m)\u001B[0m\u001B[1;33m[\u001B[0m\u001B[1;36m0\u001B[0m\u001B[1;33m]\u001B[0m\u001B[1;33m,\u001B[0m\u001B[1;36m1\u001B[0m\u001B[1;33m)\u001B[0m\u001B[1;33m\u001B[0m\u001B[1;33m\u001B[0m\u001B[0m\n\u001B[1;32m---> 59\u001B[1;33m     \u001B[0mresult\u001B[0m \u001B[1;33m=\u001B[0m \u001B[1;33m[\u001B[0m\u001B[0mv\u001B[0m\u001B[1;33m[\u001B[0m\u001B[1;33m:\u001B[0m\u001B[1;33m,\u001B[0m\u001B[0mi\u001B[0m\u001B[1;33m]\u001B[0m\u001B[1;33m.\u001B[0m\u001B[0mreshape\u001B[0m\u001B[1;33m(\u001B[0m\u001B[0mnp\u001B[0m\u001B[1;33m.\u001B[0m\u001B[0mshape\u001B[0m\u001B[1;33m(\u001B[0m\u001B[0mv\u001B[0m\u001B[1;33m)\u001B[0m\u001B[1;33m[\u001B[0m\u001B[1;36m0\u001B[0m\u001B[1;33m]\u001B[0m\u001B[1;33m,\u001B[0m \u001B[1;36m1\u001B[0m\u001B[1;33m)\u001B[0m\u001B[1;33m@\u001B[0m\u001B[0mu\u001B[0m\u001B[1;33m[\u001B[0m\u001B[1;33m:\u001B[0m\u001B[1;33m,\u001B[0m\u001B[0mi\u001B[0m\u001B[1;33m]\u001B[0m\u001B[1;33m.\u001B[0m\u001B[0mtranspose\u001B[0m\u001B[1;33m(\u001B[0m\u001B[1;33m)\u001B[0m\u001B[1;33m.\u001B[0m\u001B[0mreshape\u001B[0m\u001B[1;33m(\u001B[0m\u001B[1;36m1\u001B[0m\u001B[1;33m,\u001B[0m \u001B[0mnp\u001B[0m\u001B[1;33m.\u001B[0m\u001B[0mshape\u001B[0m\u001B[1;33m(\u001B[0m\u001B[0mu\u001B[0m\u001B[1;33m)\u001B[0m\u001B[1;33m[\u001B[0m\u001B[1;36m0\u001B[0m\u001B[1;33m]\u001B[0m\u001B[1;33m)\u001B[0m \u001B[1;32mfor\u001B[0m \u001B[0mi\u001B[0m \u001B[1;32min\u001B[0m \u001B[0mrange\u001B[0m\u001B[1;33m(\u001B[0m\u001B[0mnp\u001B[0m\u001B[1;33m.\u001B[0m\u001B[0mshape\u001B[0m\u001B[1;33m(\u001B[0m\u001B[0mv\u001B[0m\u001B[1;33m)\u001B[0m\u001B[1;33m[\u001B[0m\u001B[1;36m1\u001B[0m\u001B[1;33m]\u001B[0m\u001B[1;33m)\u001B[0m\u001B[1;33m]\u001B[0m\u001B[1;33m\u001B[0m\u001B[1;33m\u001B[0m\u001B[0m\n\u001B[0m\u001B[0;32m     60\u001B[0m     \u001B[1;32mreturn\u001B[0m \u001B[0mnp\u001B[0m\u001B[1;33m.\u001B[0m\u001B[0mmean\u001B[0m\u001B[1;33m(\u001B[0m\u001B[0mresult\u001B[0m\u001B[1;33m,\u001B[0m\u001B[1;36m0\u001B[0m\u001B[1;33m)\u001B[0m\u001B[1;33m\u001B[0m\u001B[1;33m\u001B[0m\u001B[0m\n",
      "\u001B[1;32m~\\AppData\\Local\\Temp/ipykernel_3648/1366452404.py\u001B[0m in \u001B[0;36m<listcomp>\u001B[1;34m(.0)\u001B[0m\n\u001B[0;32m     57\u001B[0m     \u001B[0mv\u001B[0m \u001B[1;33m=\u001B[0m \u001B[0mv1\u001B[0m\u001B[1;33m-\u001B[0m\u001B[0mnormv1\u001B[0m\u001B[1;33m.\u001B[0m\u001B[0mreshape\u001B[0m\u001B[1;33m(\u001B[0m\u001B[0mnp\u001B[0m\u001B[1;33m.\u001B[0m\u001B[0mshape\u001B[0m\u001B[1;33m(\u001B[0m\u001B[0mv1\u001B[0m\u001B[1;33m)\u001B[0m\u001B[1;33m[\u001B[0m\u001B[1;36m0\u001B[0m\u001B[1;33m]\u001B[0m\u001B[1;33m,\u001B[0m\u001B[1;36m1\u001B[0m\u001B[1;33m)\u001B[0m\u001B[1;33m\u001B[0m\u001B[1;33m\u001B[0m\u001B[0m\n\u001B[0;32m     58\u001B[0m     \u001B[0mu\u001B[0m \u001B[1;33m=\u001B[0m \u001B[0mv2\u001B[0m \u001B[1;33m-\u001B[0m\u001B[0mnormv2\u001B[0m\u001B[1;33m.\u001B[0m\u001B[0mreshape\u001B[0m\u001B[1;33m(\u001B[0m\u001B[0mnp\u001B[0m\u001B[1;33m.\u001B[0m\u001B[0mshape\u001B[0m\u001B[1;33m(\u001B[0m\u001B[0mv2\u001B[0m\u001B[1;33m)\u001B[0m\u001B[1;33m[\u001B[0m\u001B[1;36m0\u001B[0m\u001B[1;33m]\u001B[0m\u001B[1;33m,\u001B[0m\u001B[1;36m1\u001B[0m\u001B[1;33m)\u001B[0m\u001B[1;33m\u001B[0m\u001B[1;33m\u001B[0m\u001B[0m\n\u001B[1;32m---> 59\u001B[1;33m     \u001B[0mresult\u001B[0m \u001B[1;33m=\u001B[0m \u001B[1;33m[\u001B[0m\u001B[0mv\u001B[0m\u001B[1;33m[\u001B[0m\u001B[1;33m:\u001B[0m\u001B[1;33m,\u001B[0m\u001B[0mi\u001B[0m\u001B[1;33m]\u001B[0m\u001B[1;33m.\u001B[0m\u001B[0mreshape\u001B[0m\u001B[1;33m(\u001B[0m\u001B[0mnp\u001B[0m\u001B[1;33m.\u001B[0m\u001B[0mshape\u001B[0m\u001B[1;33m(\u001B[0m\u001B[0mv\u001B[0m\u001B[1;33m)\u001B[0m\u001B[1;33m[\u001B[0m\u001B[1;36m0\u001B[0m\u001B[1;33m]\u001B[0m\u001B[1;33m,\u001B[0m \u001B[1;36m1\u001B[0m\u001B[1;33m)\u001B[0m\u001B[1;33m@\u001B[0m\u001B[0mu\u001B[0m\u001B[1;33m[\u001B[0m\u001B[1;33m:\u001B[0m\u001B[1;33m,\u001B[0m\u001B[0mi\u001B[0m\u001B[1;33m]\u001B[0m\u001B[1;33m.\u001B[0m\u001B[0mtranspose\u001B[0m\u001B[1;33m(\u001B[0m\u001B[1;33m)\u001B[0m\u001B[1;33m.\u001B[0m\u001B[0mreshape\u001B[0m\u001B[1;33m(\u001B[0m\u001B[1;36m1\u001B[0m\u001B[1;33m,\u001B[0m \u001B[0mnp\u001B[0m\u001B[1;33m.\u001B[0m\u001B[0mshape\u001B[0m\u001B[1;33m(\u001B[0m\u001B[0mu\u001B[0m\u001B[1;33m)\u001B[0m\u001B[1;33m[\u001B[0m\u001B[1;36m0\u001B[0m\u001B[1;33m]\u001B[0m\u001B[1;33m)\u001B[0m \u001B[1;32mfor\u001B[0m \u001B[0mi\u001B[0m \u001B[1;32min\u001B[0m \u001B[0mrange\u001B[0m\u001B[1;33m(\u001B[0m\u001B[0mnp\u001B[0m\u001B[1;33m.\u001B[0m\u001B[0mshape\u001B[0m\u001B[1;33m(\u001B[0m\u001B[0mv\u001B[0m\u001B[1;33m)\u001B[0m\u001B[1;33m[\u001B[0m\u001B[1;36m1\u001B[0m\u001B[1;33m]\u001B[0m\u001B[1;33m)\u001B[0m\u001B[1;33m]\u001B[0m\u001B[1;33m\u001B[0m\u001B[1;33m\u001B[0m\u001B[0m\n\u001B[0m\u001B[0;32m     60\u001B[0m     \u001B[1;32mreturn\u001B[0m \u001B[0mnp\u001B[0m\u001B[1;33m.\u001B[0m\u001B[0mmean\u001B[0m\u001B[1;33m(\u001B[0m\u001B[0mresult\u001B[0m\u001B[1;33m,\u001B[0m\u001B[1;36m0\u001B[0m\u001B[1;33m)\u001B[0m\u001B[1;33m\u001B[0m\u001B[1;33m\u001B[0m\u001B[0m\n",
      "\u001B[1;31mKeyboardInterrupt\u001B[0m: "
     ]
    }
   ],
   "source": [
    "n_a = [1,1,2,2]\n",
    "n_q = [40,100,40,100]\n",
    "#tao_list = [0] #M levels\n",
    "matrix_const1 = Matrix(n_a[0],n_q[0])\n",
    "# matrix_const2 = Matrix(n_a[1],n_q[1])\n",
    "# matrix_const3 = Matrix(n_a[2],n_q[2])\n",
    "# matrix_const4 = Matrix(n_a[3],n_q[3])\n",
    "thresh_real = thresh_G(n_q[0],matrix_const1[1])[0]\n",
    "thresh_imag = thresh_G(n_q[0],matrix_const1[1])[1]\n",
    "thresh_real_const = np.ones((M*n_q[0], 1))\n",
    "thresh_imag_const = np.ones((M*n_q[0], 1))\n",
    "\n",
    "\n",
    "\n",
    "#L_Estimator_analytic1 = [MSE_zertothresh_analytic(sigma_space[i], n_a[0],n_q[0]) for i in range(len(sigma_space))]\n",
    "# L_Estimator_analytic2 = [MSE_zertothresh_analytic(sigma_space[i], n_a[1],n_q[1]) for i in range(len(sigma_space))]\n",
    "# L_Estimator_analytic3 = [MSE_zertothresh_analytic(sigma_space[i], n_a[2],n_q[2]) for i in range(len(sigma_space))]\n",
    "# L_Estimator_analytic4 = [MSE_zertothresh_analytic(sigma_space[i], n_a[3],n_q[3]) for i in range(len(sigma_space))]\n",
    "\n",
    "L_Estimator_numerical1 = [MSE_general_numerical(1, n_a[0],n_q[0], matrix_const1, sim,thresh_space[i]*thresh_real_const,thresh_space[i]*thresh_imag_const) for i in range(len(thresh_space))]\n",
    "# L_Estimator_numerical2 = [MSE_general_numerical(sigma_space[i], n_a[0],n_q[1], matrix_const2, sim) for i in range(len(sigma_space))]\n",
    "# L_Estimator_numerical3 = [MSE_general_numerical(sigma_space[i], n_a[1],n_q[0], matrix_const3, sim) for i in range(len(sigma_space))]\n",
    "# L_Estimator_numerical4 = [MSE_general_numerical(sigma_space[i], n_a[1],n_q[1], matrix_const4, sim) for i in range(len(sigma_space))]\n",
    "\n",
    "CRB2 = [CRB(1,n_a[0],n_q[0],matrix_const1,sim,thresh_space[i]*thresh_real_const,thresh_space[i]*thresh_imag_const) for i in range(len(thresh_space))]\n",
    "# CRB4 = [CRB(sigma_space[i],n_a[0],n_q[0],matrix_const1,sim) for i in range(len(sigma_space))]\n",
    "# CRB6 = [CRB(sigma_space[i],n_a[2],n_q[2],matrix_const3,sim) for i in range(len(sigma_space))]\n",
    "# CRB8 = [CRB(sigma_space[i],n_a[3],n_q[3],matrix_const4,sim) for i in range(len(sigma_space))]\n",
    "\n",
    "#Etheta_numeric = [Etheta_numeric(sigma_space[i], n_a[0],n_q[0], matrix_const1, sim) for i in range(len(sigma_space))]\n",
    "#CRB_M = [CRB_M_levels(sigma_space[i],matrix_const1, sim*100, tao_list, 0) for i in range(len(thresh_space))]\n",
    "######################\n",
    "# list_of_colors = ['red','blue','pink','black']\n",
    "# list_of_functions = [CRB2,CRB4,CRB6,CRB8]\n",
    "# for i in range(len(list_of_functions)):\n",
    "#     plt.plot(10*np.log10(1/sigma_space), list_of_functions[i],\"*\", color=list_of_colors[i], label='n_a={}, n_q = {}, CRB'.format(n_a[i], n_q[i]))\n",
    "# list_of_functions1 = [L_Estimator_analytic1, L_Estimator_analytic2,L_Estimator_analytic3,L_Estimator_analytic4]\n",
    "# for i in range(len(list_of_functions1)):\n",
    "#     plt.plot(10*np.log10(1/sigma_space), list_of_functions1[i], color=list_of_colors[i], label='n_a={}, n_q = {}, numerical'.format(n_a[i], n_q[i]))\n",
    "# list_of_functions2 = [L_Estimator_analytic1,L_Estimator_analytic2,L_Estimator_analytic3,L_Estimator_analytic4]\n",
    "# for i in range(len(list_of_functions2)):\n",
    "#     plt.plot(10*np.log10(1/sigma_space), list_of_functions2[i] ,color=list_of_colors[i], label='n_a={}, n_q = {}, analytic'.format(n_a[i], n_q[i]))\n",
    "\n",
    "plt.plot(10*np.log10(1/sigma_space), CRB2, color=\"red\", label='n_a={}, n_q = {}, CRB'.format(n_a[0], n_q[0]))\n",
    "plt.plot(10*np.log10(1/sigma_space), L_Estimator_numerical1, color=\"blue\", label='n_a={}, n_q = {}, error'.format(n_a[0], n_q[0]))\n",
    "\n",
    "plt.title(\"M={}, mu={}, variance ={}\".format(M,mu,2*pow(sigma_teta,2)))\n",
    "plt.yscale('log')\n",
    "plt.xlabel(\"SNR [dB]\")\n",
    "plt.legend()\n",
    "plt.legend()\n",
    "plt.show()"
   ],
   "metadata": {
    "collapsed": false,
    "ExecuteTime": {
     "start_time": "2023-04-23T10:50:03.103719Z",
     "end_time": "2023-04-23T10:51:44.243263Z"
    }
   }
  }
 ],
 "metadata": {
  "kernelspec": {
   "display_name": "Python 3",
   "language": "python",
   "name": "python3"
  },
  "language_info": {
   "codemirror_mode": {
    "name": "ipython",
    "version": 2
   },
   "file_extension": ".py",
   "mimetype": "text/x-python",
   "name": "python",
   "nbconvert_exporter": "python",
   "pygments_lexer": "ipython2",
   "version": "2.7.6"
  }
 },
 "nbformat": 4,
 "nbformat_minor": 0
}
