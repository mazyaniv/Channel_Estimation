{
 "cells": [
  {
   "cell_type": "code",
   "execution_count": 1,
   "metadata": {
    "collapsed": true,
    "ExecuteTime": {
     "start_time": "2023-05-08T10:00:00.752225Z",
     "end_time": "2023-05-08T10:00:02.936379Z"
    }
   },
   "outputs": [],
   "source": [
    "import numpy as np\n",
    "import math\n",
    "from scipy.stats import norm\n",
    "from matplotlib import pyplot as plt\n",
    "from numpy import linalg as LA\n",
    "from scipy.stats import unitary_group\n",
    "import random\n",
    "import scipy.integrate as spi"
   ]
  },
  {
   "cell_type": "code",
   "execution_count": 2,
   "outputs": [],
   "source": [
    "sigma_space = np.logspace(-1,1,20)\n",
    "thresh_space = np.linspace(-5,5,20)\n",
    "M =1\n",
    "mu = 0\n",
    "sigma_teta = (1/math.sqrt(2))\n",
    "rho_q = 1\n",
    "rho_a = 1\n",
    "########Teta\n",
    "real_teta = np.random.normal(mu, sigma_teta,M)\n",
    "im_teta = np.random.normal(mu, sigma_teta,M)\n",
    "teta = real_teta + 1j*im_teta\n",
    "teta = teta.reshape(M,1)"
   ],
   "metadata": {
    "collapsed": false,
    "ExecuteTime": {
     "start_time": "2023-05-08T10:00:02.936379Z",
     "end_time": "2023-05-08T10:00:02.957311Z"
    }
   }
  },
  {
   "cell_type": "code",
   "execution_count": 3,
   "outputs": [],
   "source": [
    "def Matrix(na,nq): #new model\n",
    "    H_mat = np.zeros((na*M,M), complex)\n",
    "    G_mat = np.zeros((nq*M,M), complex)\n",
    "    for i in range(0,na*M,M):\n",
    "        if M>1:\n",
    "            H_mat[i:M+i,:] = math.sqrt(rho_a)*unitary_group.rvs(M)\n",
    "        else:\n",
    "            x1 = random.random()\n",
    "            y1 = math.sqrt(1 - pow(x1, 2))\n",
    "            H_mat[i:M + i, :] = math.sqrt(rho_a)*(x1+1j*y1)\n",
    "    for i in range(0,nq*M,M):\n",
    "        if M > 1:\n",
    "            G_mat[i:M+i,:] = math.sqrt(rho_q)*unitary_group.rvs(M)\n",
    "        else:\n",
    "            x2 = random.random()\n",
    "            y2 = np.sqrt(1 - np.power(x2, 2))\n",
    "            G_mat[i:M + i, :] = math.sqrt(rho_a)*(x2 + 1j * y2)\n",
    "    return H_mat, G_mat"
   ],
   "metadata": {
    "collapsed": false,
    "ExecuteTime": {
     "start_time": "2023-05-08T10:00:02.961594Z",
     "end_time": "2023-05-08T10:00:02.973147Z"
    }
   }
  },
  {
   "cell_type": "code",
   "execution_count": 4,
   "outputs": [],
   "source": [
    "def thresh_G(n_q, Mat):\n",
    "    if M>1:\n",
    "        G_teta=Mat@((mu+1j*mu)*np.ones(M))\n",
    "    else:\n",
    "        G_teta=Mat*((mu+1j*mu)*np.ones(M))\n",
    "    return G_teta.real.reshape(M*n_q, 1), G_teta.imag.reshape(M*n_q, 1)"
   ],
   "metadata": {
    "collapsed": false,
    "ExecuteTime": {
     "start_time": "2023-05-08T10:00:02.973147Z",
     "end_time": "2023-05-08T10:00:02.990460Z"
    }
   }
  },
  {
   "cell_type": "code",
   "execution_count": 70,
   "outputs": [],
   "source": [
    "def x(sigma, n_a,n_q, matrix,thresh_real,thresh_im): #the observations- function of teta\n",
    "    sigma_w_a = sigma * (1 / math.sqrt(2))\n",
    "    real_w_a = np.random.normal(mu, sigma_w_a, M*n_a)\n",
    "    im_w_a = np.random.normal(mu, sigma_w_a, M*n_a)\n",
    "    w_a = real_w_a + 1j * im_w_a\n",
    "    w_a = w_a.reshape(M*n_a, 1)\n",
    "\n",
    "    sigma_w_q = sigma * (1 / math.sqrt(2))\n",
    "    real_w_q = np.random.normal(mu, sigma_w_q, M*n_q)\n",
    "    im_w_q = np.random.normal(mu, sigma_w_q, M*n_q)\n",
    "    w_q = real_w_q + 1j * im_w_q\n",
    "    w_q = w_q.reshape(M*n_q, 1)\n",
    "\n",
    "    if M>1:\n",
    "        x_a = matrix[0]@teta + w_a\n",
    "        y = matrix[1]@teta + w_q\n",
    "    else:\n",
    "        x_a = matrix[0]*teta + w_a\n",
    "        y = matrix[1]*teta + w_q\n",
    "\n",
    "    x_q = (1 / math.sqrt(2)) * (np.sign(y.real - (thresh_real) +\n",
    "                            1j * np.sign(y.imag - ((thresh_im)))))\n",
    "    return x_a.reshape(M*n_a, ), x_q.reshape(M*n_q, )\n",
    "\n",
    "def samp(sigma, n_a,n_q, matrix, observ,thresh_real,thresh_im): #samples\n",
    "    real_teta_samp = np.random.normal(mu, sigma_teta, (M,observ))\n",
    "    im_teta_samp = np.random.normal(mu, sigma_teta, (M,observ))\n",
    "    teta_samp = real_teta_samp + 1j*im_teta_samp\n",
    "\n",
    "    sigma_w_a_samp = sigma * (1 / math.sqrt(2))\n",
    "    real_w_a_samp = np.random.normal(mu, sigma_w_a_samp, (M*n_a,observ))\n",
    "    im_w_a_samp = np.random.normal(mu, sigma_w_a_samp, (M*n_a,observ))\n",
    "    w_a_samp = real_w_a_samp + 1j * im_w_a_samp\n",
    "\n",
    "    sigma_w_q_samp = sigma * (1 / math.sqrt(2))\n",
    "    real_w_q_samp = np.random.normal(mu, sigma_w_q_samp,(M*n_q,observ))\n",
    "    im_w_q_samp = np.random.normal(mu, sigma_w_q_samp,(M*n_q,observ))\n",
    "    w_q_samp = real_w_q_samp + 1j * im_w_q_samp\n",
    "\n",
    "    x_a_samp = (matrix[0]@teta_samp)+w_a_samp\n",
    "    y_samp = (matrix[1]@teta_samp) + w_q_samp\n",
    "\n",
    "    x_q_samp = (1 / math.sqrt(2)) * (np.sign(y_samp.real - (thresh_real) +\n",
    "                                        1j * np.sign(y_samp.imag - ((thresh_im)))))\n",
    "    return x_a_samp, x_q_samp , teta_samp.reshape(M,observ)\n",
    "\n",
    "def samp_teta(observ): #samples-for CRB function (d_k)\n",
    "    real_teta_samp = np.random.normal(mu, sigma_teta, (M, observ))\n",
    "    im_teta_samp = np.random.normal(mu, sigma_teta, (M, observ))\n",
    "    teta_samp = real_teta_samp + 1j * im_teta_samp\n",
    "    return  teta_samp.reshape(M,observ)"
   ],
   "metadata": {
    "collapsed": false,
    "ExecuteTime": {
     "start_time": "2023-05-08T11:16:18.807330Z",
     "end_time": "2023-05-08T11:16:18.854202Z"
    }
   }
  },
  {
   "cell_type": "code",
   "execution_count": 71,
   "outputs": [],
   "source": [
    "def covariance(v1,v2):\n",
    "    normv1 = np.mean(v1,1)\n",
    "    normv2 = np.mean(v2,1)\n",
    "    v = v1-normv1.reshape(np.shape(v1)[0],1)\n",
    "    u = v2 -normv2.reshape(np.shape(v2)[0],1)\n",
    "    result = [v[:,i].reshape(np.shape(v)[0], 1)@u[:,i].transpose().reshape(1, np.shape(u)[0]) for i in range(np.shape(v)[1])]\n",
    "    return np.sum(result,0)/(np.shape(v)[1]-1)\n",
    "\n",
    "def MSE_general_numerical(sigma, n_a,n_q, matrix, observ, epsilon, thresh_real = 0,thresh_im = 0):\n",
    "    cov = np.zeros((observ, M, M))\n",
    "    for i in range(observ):\n",
    "        # mat1 = np.concatenate(((matrix[0]@matrix[0].transpose().conjugate())+pow(sigma,2)*np.identity(M*n_a), covariance(x_a_vec,x_q_vec)),axis=1)\n",
    "        # mat2 = np.concatenate((covariance(x_q_vec,x_a_vec), covariance(x_q_vec,x_q_vec)),axis=1)\n",
    "        # cov_x = np.concatenate((mat1, mat2),axis=0)\n",
    "        #cov_x = cov_x + pow(10,-1)*np.identity(cov_x.shape[0])\n",
    "        x_a_vec, x_q_vec, teta_vec = samp(sigma, n_a,n_q, matrix, observ,thresh_real,thresh_im)\n",
    "        inv_A = (np.identity(M*n_a)-((1/(rho_a*n_a+pow(sigma,2)))*(matrix[0]@matrix[0].transpose().conjugate())))\\\n",
    "                /pow(sigma,2) #Na X Na\n",
    "        B = covariance(x_a_vec,x_q_vec) #Na X Nq\n",
    "        C = B.conjugate().transpose() #Nq X Na, B.conjugate().transpose()\n",
    "        D = covariance(x_q_vec,x_q_vec) #Nq X Nq\n",
    "        K = D-C@inv_A@B\n",
    "\n",
    "        U,S,V = np.linalg.svd(K)\n",
    "        S[S<epsilon] = epsilon\n",
    "        K = U@np.diag(S)@V #K+epsilon*np.identity(K.shape[0])\n",
    "\n",
    "        inv_K = LA.inv(K)\n",
    "        cov_x_inv_up =np.concatenate((inv_A+(inv_A@B@inv_K@C@inv_A), -1*(inv_A@B@inv_K)),axis=1)\n",
    "        cov_x_inv_down = np.concatenate((-1*(inv_K@C@inv_A), inv_K),axis=1)\n",
    "        cov_x_inv = np.concatenate((cov_x_inv_up,cov_x_inv_down),axis=0)\n",
    "\n",
    "        mu_tilda_real = mu*(np.sum(matrix[1].real,axis=1)-np.sum(matrix[1].imag,axis=1))\n",
    "        mu_tilda_imag = mu*(np.sum(matrix[1].real,axis=1)+np.sum(matrix[1].imag,axis=1))\n",
    "        sigma_tilda = 1+(np.sum(np.power(matrix[1].real,2),axis=1)+np.sum(np.power(matrix[1].imag,2),axis=1))\n",
    "        p1 = norm.cdf(np.divide(np.subtract(thresh_real,mu_tilda_real.reshape(n_q*M,1)),sigma_tilda.reshape(n_q*M,1)))\n",
    "        p2 = norm.cdf(np.divide(np.subtract(thresh_im,mu_tilda_imag.reshape(n_q*M,1)),sigma_tilda.reshape(n_q*M,1)))\n",
    "\n",
    "        cov_teta_x = np.concatenate((matrix[0].transpose().conjugate(), covariance(teta_vec,x_q_vec)),axis=1)\n",
    "        x_a, x_q = x(sigma, n_a, n_q, matrix,thresh_real,thresh_im) #the actually observations\n",
    "        x_a_vec_norm = x_a - matrix[0]@((mu+1j*mu)*np.ones(M))\n",
    "        x_q_vec_norm = x_q.reshape(M*n_q,1) - math.sqrt(2)*((1-2*p1)+1j*(1-2*p2))\n",
    "        x_vec_norm = np.concatenate((x_a_vec_norm, x_q_vec_norm.reshape(M*n_q,)), axis=0)\n",
    "        teta_hat = (cov_teta_x@cov_x_inv@x_vec_norm) +(mu+1j*mu)*np.ones(M)\n",
    "        #cov[i,:,:] = ((teta_hat-teta)@((teta_hat-teta).conjugate().T)).real #m>1, real number\n",
    "        cov[i,:,:] = ((teta_hat-teta)*(teta_hat-teta).conjugate()).real #M=1, real number\n",
    "    cov_matrix = np.sum(cov,0)/(np.shape(cov)[0])\n",
    "    return np.squeeze(cov_matrix) #M=1, LA.norm(cov_matrix, \"fro\") for M>1"
   ],
   "metadata": {
    "collapsed": false,
    "ExecuteTime": {
     "start_time": "2023-05-08T11:16:19.593642Z",
     "end_time": "2023-05-08T11:16:19.640508Z"
    }
   }
  },
  {
   "cell_type": "code",
   "execution_count": 72,
   "outputs": [],
   "source": [
    "def MSE_zertothresh_analytic(sigma, n_a,n_q):\n",
    "    alpha = (2 / math.pi) * math.acos(rho_q / (rho_q + pow(sigma, 2)))\n",
    "    beta = (1-alpha)/rho_q\n",
    "    first = (rho_a*n_a)/(rho_a*n_a+pow(sigma, 2))\n",
    "    second = (2*rho_q*n_q*pow(sigma,4))/(math.pi*(rho_q+pow(sigma, 2))*(alpha+beta*rho_q*n_q)*pow(rho_a*n_a+pow(sigma, 2),2))\n",
    "    return math.sqrt(M)*(1-first-second) #Frobenius  norm"
   ],
   "metadata": {
    "collapsed": false,
    "ExecuteTime": {
     "start_time": "2023-05-08T11:16:21.712586Z",
     "end_time": "2023-05-08T11:16:21.743856Z"
    }
   }
  },
  {
   "cell_type": "code",
   "execution_count": 91,
   "outputs": [],
   "source": [
    "def CRB(sigma, n_a,n_q, matrix, observ,thresh_real,thresh_im,quantize=1):\n",
    "    teta_samp = samp_teta(observ)\n",
    "    g_teta = matrix[1] @ teta_samp\n",
    "    zeta_real = (math.sqrt(2) / sigma * (g_teta.real - thresh_real))\n",
    "    zeta_im = (math.sqrt(2) / sigma * (g_teta.imag - thresh_im))\n",
    "    pdf_real = norm.pdf(zeta_real)\n",
    "    cdf_real = norm.cdf(zeta_real)\n",
    "    pdf_im = norm.pdf(zeta_im)\n",
    "    cdf_im = norm.cdf(zeta_im)\n",
    "    d_vec = np.divide(np.power(pdf_real, 2), np.multiply(cdf_real, (norm.cdf(-zeta_real)))) + \\\n",
    "            np.divide(np.power(pdf_im, 2), np.multiply(cdf_im, (norm.cdf(-zeta_im))))\n",
    "    d = np.mean(d_vec, axis=1)\n",
    "\n",
    "    if quantize == 0:\n",
    "        J1 = (rho_q * n_q / pow(sigma, 2)) * np.identity(M)\n",
    "    else:\n",
    "        J1 =(1 /(2 * pow(sigma, 2)))*(matrix[1].transpose().conjugate() @ np.diag(d) @ matrix[1])\n",
    "    J2 = (1 + (rho_a * n_a / pow(sigma, 2))) * np.identity(M)\n",
    "    J = J1 + J2\n",
    "\n",
    "    return LA.norm((LA.inv(J1)).real,\"fro\"), LA.norm((LA.inv(J2)).real,\"fro\"), LA.norm((LA.inv(J)).real,\"fro\")"
   ],
   "metadata": {
    "collapsed": false,
    "ExecuteTime": {
     "start_time": "2023-05-08T11:39:32.518226Z",
     "end_time": "2023-05-08T11:39:32.533845Z"
    }
   }
  },
  {
   "cell_type": "code",
   "execution_count": 95,
   "outputs": [
    {
     "data": {
      "text/plain": "<Figure size 720x432 with 1 Axes>",
      "image/png": "[encoded data removed]"
     },
     "metadata": {
      "needs_background": "light"
     },
     "output_type": "display_data"
    }
   ],
   "source": [
    "sim = 100\n",
    "n_a = [0,0]#,2,2]\n",
    "n_q = [40,40]#,40,100]\n",
    "# n_a = [1,2,3,4]\n",
    "# n_q = [0,0,0,0]\n",
    "#epsilon = pow(10,-1)\n",
    "#tao_list = [0] #M levels\n",
    "matrix_const1 = Matrix(n_a[0],n_q[0])\n",
    "matrix_const2 = Matrix(n_a[1],n_q[1])\n",
    "# matrix_const3 = Matrix(n_a[2],n_q[2])\n",
    "# matrix_const4 = Matrix(n_a[3],n_q[3])\n",
    "\n",
    "thresh_real = thresh_G(n_q[0],matrix_const1[1])[0]\n",
    "thresh_imag = thresh_G(n_q[0],matrix_const1[1])[1]\n",
    "thresh_const = np.ones((M*n_q[0], 1))\n",
    "\n",
    "# L_Estimator_analytic1 = [MSE_zertothresh_analytic(sigma_space[i], n_a[0],n_q[0]) for i in range(len(sigma_space))]\n",
    "# L_Estimator_analytic2 = [MSE_zertothresh_analytic(sigma_space[i], n_a[1],n_q[1]) for i in range(len(sigma_space))]\n",
    "# L_Estimator_analytic3 = [MSE_zertothresh_analytic(sigma_space[i], n_a[2],n_q[2]) for i in range(len(sigma_space))]\n",
    "# L_Estimator_analytic4 = [MSE_zertothresh_analytic(sigma_space[i], n_a[3],n_q[3]) for i in range(len(sigma_space))]\n",
    "\n",
    "# L_Estimator_numerical1 = [MSE_general_numerical(sigma_space[i], n_a[0],n_q[0], matrix_const1, sim, epsilon) for i in range(len(sigma_space))]\n",
    "# L_Estimator_numerical2 = [MSE_general_numerical(sigma_space[i], n_a[1],n_q[1], matrix_const2, sim, epsilon) for i in range(len(sigma_space))]\n",
    "# L_Estimator_numerical3 = [MSE_general_numerical(sigma_space[i], n_a[2],n_q[2], matrix_const3, sim, epsilon) for i in range(len(sigma_space))]\n",
    "# L_Estimator_numerical4 = [MSE_general_numerical(sigma_space[i], n_a[3],n_q[3], matrix_const4, sim, epsilon) for i in range(len(sigma_space))]\n",
    "\n",
    "CRB1 = [CRB(1,n_a[0],n_q[0],matrix_const1,sim,0,0)[2] for i in range(len(sigma_space))]\n",
    "CRB2 = [CRB(1,n_a[0],n_q[1],matrix_const2,sim,0,0,0)[2] for i in range(len(sigma_space))]\n",
    "# CRB3 = [CRB(sigma_space[i],n_a[2],n_q[2],matrix_const3,sim,0,0,0)[2] for i in range(len(sigma_space))]\n",
    "# CRB4 = [CRB(sigma_space[i],n_a[3],n_q[3],matrix_const4,sim,0,0,0)[2] for i in range(len(sigma_space))]\n",
    "\n",
    "# L_Estimator_numerical = [MSE_general_numerical(1, n_a[0],n_q[0], matrix_const1, sim,thresh_space[i]*thresh_const,thresh_space[i]*thresh_const)[2] for i in range(len(thresh_space))]\n",
    "# CRB = [CRB(1,n_a[0],matrix_const1,sim,thresh_space[i]*thresh_const,thresh_space[i]*thresh_const)[2] for i in range(len(thresh_space))]\n",
    "######################\n",
    "fig = plt.figure(figsize=(10, 6))\n",
    "list_of_colors = ['red','blue']#,'pink','black']\n",
    "list_of_functions = [CRB1,CRB2]#,CRB3,CRB4]\n",
    "list_of_names = ['CRB','CRB-no quantize']\n",
    "\n",
    "for i in range(len(list_of_functions)):\n",
    "    plt.plot(10*np.log10(1/sigma_space), list_of_functions[i], color=list_of_colors[i], label='n_a={}, n_q = {}, {}'.format(n_a[i], n_q[i],list_of_names[i]))\n",
    "#\n",
    "# list_of_functions1 = [L_Estimator_analytic1, L_Estimator_analytic2,L_Estimator_analytic3,L_Estimator_analytic4]\n",
    "# for i in range(len(list_of_functions1)):\n",
    "#     plt.plot(10*np.log10(1/sigma_space), list_of_functions1[i], color=list_of_colors[i], label='n_a={}, n_q = {}, analytic'.format(n_a[i], n_q[i]))\n",
    "\n",
    "# list_of_functions2 = [L_Estimator_numerical1, L_Estimator_numerical2,L_Estimator_numerical3,L_Estimator_numerical4]\n",
    "# for i in range(len(list_of_functions1)):\n",
    "#     plt.plot(10*np.log10(1/sigma_space), list_of_functions2[i],\t'--', color=list_of_colors[i], label='n_a={}, n_q = {}, numerical'.format(n_a[i], n_q[i]))\n",
    "\n",
    "# plt.plot(10*np.log10(1/sigma_space), L_Estimator_numerical1, color=\"blue\", label='n_a={}, n_q = {}, numerical'.format(n_a[0], n_q[0]))\n",
    "# plt.plot(10*np.log10(1/sigma_space), L_Estimator_analytic1, color=\"red\", label='n_a={}, n_q = {}, analytic'.format(n_a[0], n_q[0]))\n",
    "\n",
    "# plt.plot(thresh_space, CRB, color=\"red\", label='n_a={}, n_q = {}, CRB-thresh'.format(n_a[0], n_q[0]))\n",
    "# plt.plot(thresh_space, L_Estimator_numerical, color=\"blue\", label='n_a={}, n_q = {}, error-thresh'.format(n_a[0], n_q[0]))\n",
    "\n",
    "plt.title(\"M={}, mu={}, variance ={}\".format(M,mu,round(2*pow(sigma_teta,2))))\n",
    "plt.yscale('log')\n",
    "plt.xlabel(\"SNR [dB]\")\n",
    "plt.legend()\n",
    "plt.legend()\n",
    "#plt.grid()\n",
    "plt.show()"
   ],
   "metadata": {
    "collapsed": false,
    "ExecuteTime": {
     "start_time": "2023-05-08T11:42:40.590455Z",
     "end_time": "2023-05-08T11:42:41.149925Z"
    }
   }
  }
 ],
 "metadata": {
  "kernelspec": {
   "display_name": "Python 3",
   "language": "python",
   "name": "python3"
  },
  "language_info": {
   "codemirror_mode": {
    "name": "ipython",
    "version": 2
   },
   "file_extension": ".py",
   "mimetype": "text/x-python",
   "name": "python",
   "nbconvert_exporter": "python",
   "pygments_lexer": "ipython2",
   "version": "2.7.6"
  }
 },
 "nbformat": 4,
 "nbformat_minor": 0
}
