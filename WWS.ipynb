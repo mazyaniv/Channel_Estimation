{
 "cells": [
  {
   "cell_type": "code",
   "execution_count": 61,
   "metadata": {
    "collapsed": true,
    "ExecuteTime": {
     "end_time": "2023-07-06T09:03:31.327231800Z",
     "start_time": "2023-07-06T09:03:31.302417500Z"
    }
   },
   "outputs": [],
   "source": [
    "import numpy as np\n",
    "import math\n",
    "from scipy.stats import norm\n",
    "from matplotlib import pyplot as plt\n",
    "from numpy import linalg as LA\n",
    "from scipy.stats import unitary_group\n",
    "import random\n",
    "from scipy.integrate import quad\n",
    "from scipy.integrate import dblquad\n",
    "# import concurrent.futures\n",
    "import multiprocessing\n",
    "import os\n",
    "from scipy import stats\n",
    "\n",
    "from mpl_toolkits import mplot3d\n",
    "import scipy.integrate as spi"
   ]
  },
  {
   "cell_type": "code",
   "execution_count": 62,
   "outputs": [],
   "source": [
    "M =1\n",
    "mu = 0\n",
    "rho_q = 1\n",
    "rho_a = 1\n",
    "#theta= x+1j*y"
   ],
   "metadata": {
    "collapsed": false,
    "ExecuteTime": {
     "end_time": "2023-07-06T09:03:33.016909500Z",
     "start_time": "2023-07-06T09:03:32.997623100Z"
    }
   }
  },
  {
   "cell_type": "code",
   "execution_count": 63,
   "outputs": [],
   "source": [
    "def Matrix(na,nq): #new model\n",
    "    H_mat = np.zeros((na*M,M), complex)\n",
    "    G_mat = np.zeros((nq*M,M), complex)\n",
    "    for i in range(0,na*M,M):\n",
    "        if M>1:\n",
    "            H_mat[i:M+i,:] = math.sqrt(rho_a)*unitary_group.rvs(M)\n",
    "        else:\n",
    "            x1 = random.random()\n",
    "            y1 = math.sqrt(1 - pow(x1, 2))\n",
    "            H_mat[i:M + i, :] = math.sqrt(rho_a)*(x1+1j*y1)\n",
    "    for i in range(0,nq*M,M):\n",
    "        if M > 1:\n",
    "            G_mat[i:M+i,:] = math.sqrt(rho_q)*unitary_group.rvs(M)\n",
    "        else:\n",
    "            x2 = random.random()\n",
    "            y2 = np.sqrt(1 - np.power(x2, 2))\n",
    "            G_mat[i:M + i, :] = math.sqrt(rho_a)*(x2 + 1j * y2)\n",
    "    return H_mat, G_mat"
   ],
   "metadata": {
    "collapsed": false,
    "ExecuteTime": {
     "end_time": "2023-07-06T09:03:33.920813900Z",
     "start_time": "2023-07-06T09:03:33.892943200Z"
    }
   }
  },
  {
   "cell_type": "code",
   "execution_count": 67,
   "outputs": [],
   "source": [
    "def inner(x,y,sigma2,matrix,s,h,thresh_real=0,thresh_im=0):\n",
    "    G = matrix[1]\n",
    "    return pow(norm.cdf((math.sqrt(2)/sigma2)*((G*(x+1j*y+h)).real-thresh_real))*norm.cdf((math.sqrt(2)/sigma2)*((G*(x+1j*y+h)).imag-thresh_im)),s)*\\\n",
    "    pow(norm.cdf((math.sqrt(2)/sigma2)*((G*(x+1j*y)).real-thresh_real))*norm.cdf((math.sqrt(2)/sigma2)*((G*(x+1j*y)).imag-thresh_im)),1-s)+\\\n",
    "    pow(norm.cdf(-(math.sqrt(2)/sigma2)*((G*(x+1j*y+h)).real-thresh_real))*norm.cdf(-(math.sqrt(2)/sigma2)*((G*(x+1j*y+h)).imag-thresh_im)),s)*\\\n",
    "    pow(norm.cdf(-(math.sqrt(2)/sigma2)*((G*(x+1j*y)).real-thresh_real))*norm.cdf(-(math.sqrt(2)/sigma2)*((G*(x+1j*y)).imag-thresh_im)),1-s)+\\\n",
    "    pow(norm.cdf(-(math.sqrt(2)/sigma2)*((G*(x+1j*y+h)).real-thresh_real))*norm.cdf((math.sqrt(2)/sigma2)*((G*(x+1j*y+h)).imag-thresh_im)),s)*\\\n",
    "    pow(norm.cdf(-(math.sqrt(2)/sigma2)*((G*(x+1j*y)).real-thresh_real))*norm.cdf((math.sqrt(2)/sigma2)*((G*(x+1j*y)).imag-thresh_im)),1-s)+\\\n",
    "    pow(norm.cdf((math.sqrt(2)/sigma2)*((G*(x+1j*y+h)).real-thresh_real))*norm.cdf(-(math.sqrt(2)/sigma2)*((G*(x+1j*y+h)).imag-thresh_im)),s)*\\\n",
    "    pow(norm.cdf((math.sqrt(2)/sigma2)*((G*(x+1j*y)).real-thresh_real))*norm.cdf(-(math.sqrt(2)/sigma2)*((G*(x+1j*y)).imag-thresh_im)),1-s)"
   ],
   "metadata": {
    "collapsed": false,
    "ExecuteTime": {
     "end_time": "2023-07-06T09:04:33.868257700Z",
     "start_time": "2023-07-06T09:04:33.850487800Z"
    }
   }
  },
  {
   "cell_type": "code",
   "execution_count": 71,
   "outputs": [],
   "source": [
    "def ratio_func(x,y,sigma2,matrix,s,h):\n",
    "    return pow(1/(pow(math.pi,M))*np.exp(-np.linalg.norm (x+1j*y+h)**2),s)*pow(1/(pow(math.pi,M))*np.exp(-np.linalg.norm (x+1j*y)**2),1-s)*inner(x,y,sigma2,matrix,s,h)\n",
    "def etha(sigma2,matrix,s,h):\n",
    "    expected_value, _ = dblquad(ratio_func, -2.5, 2.5,-2.5, 2.5, args=(sigma2,matrix,s,h))#quad(ratio_func, -5, 5, args=(sigma2,matrix,s,h))\n",
    "    return math.log(expected_value)\n",
    "def WWS(sigma2,matrix,s,h):\n",
    "    return (h**2)*(math.e**(2*etha(sigma2,matrix,s,h)))/(2*(1-math.e**(etha(sigma2,matrix,s,2*h))))"
   ],
   "metadata": {
    "collapsed": false,
    "ExecuteTime": {
     "end_time": "2023-07-06T09:06:52.664443900Z",
     "start_time": "2023-07-06T09:06:52.632650300Z"
    }
   }
  },
  {
   "cell_type": "code",
   "execution_count": 72,
   "outputs": [
    {
     "data": {
      "text/plain": "Text(0.5, 1.0, 'WWS VS SNR: nq=1, na=0,h=2,s=0.5')"
     },
     "execution_count": 72,
     "metadata": {},
     "output_type": "execute_result"
    },
    {
     "data": {
      "text/plain": "<Figure size 640x480 with 1 Axes>",
      "image/png": "[encoded data removed]"
     },
     "metadata": {},
     "output_type": "display_data"
    }
   ],
   "source": [
    "s= 0.5\n",
    "h= 3\n",
    "matrix1 = Matrix(1,1)\n",
    "\n",
    "sigma_space_new = np.logspace(-1, 1, 10)\n",
    "WWS1 = [WWS(sigma_space_new[i],matrix1,s,h) for i in range(len(sigma_space_new))]\n",
    "plt.plot(10*np.log10(1/sigma_space_new), WWS1)\n",
    "plt.title(\"WWS VS SNR: nq=1, na=0,h=2,s=0.5\")"
   ],
   "metadata": {
    "collapsed": false,
    "ExecuteTime": {
     "end_time": "2023-07-06T09:08:34.550139500Z",
     "start_time": "2023-07-06T09:06:53.550948500Z"
    }
   }
  }
 ],
 "metadata": {
  "kernelspec": {
   "display_name": "Python 3",
   "language": "python",
   "name": "python3"
  },
  "language_info": {
   "codemirror_mode": {
    "name": "ipython",
    "version": 2
   },
   "file_extension": ".py",
   "mimetype": "text/x-python",
   "name": "python",
   "nbconvert_exporter": "python",
   "pygments_lexer": "ipython2",
   "version": "2.7.6"
  }
 },
 "nbformat": 4,
 "nbformat_minor": 0
}
